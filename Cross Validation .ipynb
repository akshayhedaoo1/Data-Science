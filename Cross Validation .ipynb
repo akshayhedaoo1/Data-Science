{
  "nbformat": 4,
  "nbformat_minor": 0,
  "metadata": {
    "colab": {
      "name": "Cross Validation.ipynb",
      "provenance": []
    },
    "kernelspec": {
      "name": "python3",
      "display_name": "Python 3"
    },
    "language_info": {
      "name": "python"
    }
  },
  "cells": [
    {
      "cell_type": "markdown",
      "metadata": {
        "id": "oNhLVRVaSEle"
      },
      "source": [
        "# Step 1"
      ]
    },
    {
      "cell_type": "code",
      "metadata": {
        "colab": {
          "base_uri": "https://localhost:8080/"
        },
        "id": "otN4oYjXCHQS",
        "outputId": "901a20ef-62f4-4c4a-b23c-71b5997365a2"
      },
      "source": [
        "from google.colab import drive\n",
        "drive.mount('/content/drive')"
      ],
      "execution_count": 1,
      "outputs": [
        {
          "output_type": "stream",
          "name": "stdout",
          "text": [
            "Mounted at /content/drive\n"
          ]
        }
      ]
    },
    {
      "cell_type": "code",
      "metadata": {
        "id": "mnO7S5ltK4sc"
      },
      "source": [
        "# ignore warnings\n",
        "import warnings\n",
        "warnings.filterwarnings(\"ignore\")"
      ],
      "execution_count": 58,
      "outputs": []
    },
    {
      "cell_type": "code",
      "metadata": {
        "id": "vB7cjvLSCDC7"
      },
      "source": [
        "# Importing Necessary Libraries\n",
        "import pandas as pd\n",
        "import numpy as np\n",
        "import seaborn as sns"
      ],
      "execution_count": 11,
      "outputs": []
    },
    {
      "cell_type": "code",
      "metadata": {
        "id": "zCBGsDunDBPZ"
      },
      "source": [
        "# importing data\n",
        "df = pd.read_csv('/content/drive/MyDrive/data.csv')"
      ],
      "execution_count": 3,
      "outputs": []
    },
    {
      "cell_type": "code",
      "metadata": {
        "colab": {
          "base_uri": "https://localhost:8080/",
          "height": 204
        },
        "id": "7Gip5zzeDFoK",
        "outputId": "a19b5211-cbac-43e5-eb95-5fe33893c394"
      },
      "source": [
        "df.head()"
      ],
      "execution_count": 4,
      "outputs": [
        {
          "output_type": "execute_result",
          "data": {
            "text/html": [
              "<div>\n",
              "<style scoped>\n",
              "    .dataframe tbody tr th:only-of-type {\n",
              "        vertical-align: middle;\n",
              "    }\n",
              "\n",
              "    .dataframe tbody tr th {\n",
              "        vertical-align: top;\n",
              "    }\n",
              "\n",
              "    .dataframe thead th {\n",
              "        text-align: right;\n",
              "    }\n",
              "</style>\n",
              "<table border=\"1\" class=\"dataframe\">\n",
              "  <thead>\n",
              "    <tr style=\"text-align: right;\">\n",
              "      <th></th>\n",
              "      <th>x1</th>\n",
              "      <th>x2</th>\n",
              "      <th>y</th>\n",
              "    </tr>\n",
              "  </thead>\n",
              "  <tbody>\n",
              "    <tr>\n",
              "      <th>0</th>\n",
              "      <td>-119.366669</td>\n",
              "      <td>115.000000</td>\n",
              "      <td>1</td>\n",
              "    </tr>\n",
              "    <tr>\n",
              "      <th>1</th>\n",
              "      <td>-101.108044</td>\n",
              "      <td>97.777159</td>\n",
              "      <td>1</td>\n",
              "    </tr>\n",
              "    <tr>\n",
              "      <th>2</th>\n",
              "      <td>-130.278658</td>\n",
              "      <td>106.767654</td>\n",
              "      <td>1</td>\n",
              "    </tr>\n",
              "    <tr>\n",
              "      <th>3</th>\n",
              "      <td>-114.703415</td>\n",
              "      <td>101.195477</td>\n",
              "      <td>1</td>\n",
              "    </tr>\n",
              "    <tr>\n",
              "      <th>4</th>\n",
              "      <td>-119.366669</td>\n",
              "      <td>115.000000</td>\n",
              "      <td>1</td>\n",
              "    </tr>\n",
              "  </tbody>\n",
              "</table>\n",
              "</div>"
            ],
            "text/plain": [
              "           x1          x2  y\n",
              "0 -119.366669  115.000000  1\n",
              "1 -101.108044   97.777159  1\n",
              "2 -130.278658  106.767654  1\n",
              "3 -114.703415  101.195477  1\n",
              "4 -119.366669  115.000000  1"
            ]
          },
          "metadata": {},
          "execution_count": 4
        }
      ]
    },
    {
      "cell_type": "code",
      "metadata": {
        "colab": {
          "base_uri": "https://localhost:8080/"
        },
        "id": "y0FZMZxLD-Jz",
        "outputId": "ab4e1a4f-4bff-4da1-91de-e84846a29732"
      },
      "source": [
        "df.info()"
      ],
      "execution_count": 7,
      "outputs": [
        {
          "output_type": "stream",
          "name": "stdout",
          "text": [
            "<class 'pandas.core.frame.DataFrame'>\n",
            "RangeIndex: 2227 entries, 0 to 2226\n",
            "Data columns (total 3 columns):\n",
            " #   Column  Non-Null Count  Dtype  \n",
            "---  ------  --------------  -----  \n",
            " 0   x1      2222 non-null   float64\n",
            " 1   x2      2224 non-null   float64\n",
            " 2   y       2227 non-null   int64  \n",
            "dtypes: float64(2), int64(1)\n",
            "memory usage: 52.3 KB\n"
          ]
        }
      ]
    },
    {
      "cell_type": "code",
      "metadata": {
        "id": "caAtfD4xEO3e"
      },
      "source": [
        "# droping null values\n",
        "df.dropna(inplace = True)"
      ],
      "execution_count": 8,
      "outputs": []
    },
    {
      "cell_type": "code",
      "metadata": {
        "colab": {
          "base_uri": "https://localhost:8080/"
        },
        "id": "dH1axCReEX3y",
        "outputId": "2791f6e3-61a8-4def-806c-1f59710a78e5"
      },
      "source": [
        "df.isnull().sum()"
      ],
      "execution_count": 9,
      "outputs": [
        {
          "output_type": "execute_result",
          "data": {
            "text/plain": [
              "x1    0\n",
              "x2    0\n",
              "y     0\n",
              "dtype: int64"
            ]
          },
          "metadata": {},
          "execution_count": 9
        }
      ]
    },
    {
      "cell_type": "code",
      "metadata": {
        "colab": {
          "base_uri": "https://localhost:8080/"
        },
        "id": "rN-bT2viEa8S",
        "outputId": "58e36f88-cca0-4152-eb99-ba21b165272a"
      },
      "source": [
        "df.shape"
      ],
      "execution_count": 10,
      "outputs": [
        {
          "output_type": "execute_result",
          "data": {
            "text/plain": [
              "(2219, 3)"
            ]
          },
          "metadata": {},
          "execution_count": 10
        }
      ]
    },
    {
      "cell_type": "code",
      "metadata": {
        "colab": {
          "base_uri": "https://localhost:8080/"
        },
        "id": "9DhYmwz4DHBd",
        "outputId": "4c34fbba-8f99-44d4-dc7f-84f1214023a7"
      },
      "source": [
        "# getting target values\n",
        "df['y'].value_counts()/len(df)*100"
      ],
      "execution_count": 6,
      "outputs": [
        {
          "output_type": "execute_result",
          "data": {
            "text/plain": [
              "0    55.770094\n",
              "1    44.229906\n",
              "Name: y, dtype: float64"
            ]
          },
          "metadata": {},
          "execution_count": 6
        }
      ]
    },
    {
      "cell_type": "markdown",
      "metadata": {
        "id": "8zRvOce2DgJ8"
      },
      "source": [
        "Here Data is Imbalanced So we need to balanced the data"
      ]
    },
    {
      "cell_type": "code",
      "metadata": {
        "colab": {
          "base_uri": "https://localhost:8080/",
          "height": 350
        },
        "id": "8HZ9cxDEGWwU",
        "outputId": "99697a9d-e2bf-4bb8-f85c-bce3e852444e"
      },
      "source": [
        "sns.boxplot(df['x1'], palette='husl')"
      ],
      "execution_count": 23,
      "outputs": [
        {
          "output_type": "stream",
          "name": "stderr",
          "text": [
            "/usr/local/lib/python3.7/dist-packages/seaborn/_decorators.py:43: FutureWarning: Pass the following variable as a keyword arg: x. From version 0.12, the only valid positional argument will be `data`, and passing other arguments without an explicit keyword will result in an error or misinterpretation.\n",
            "  FutureWarning\n"
          ]
        },
        {
          "output_type": "execute_result",
          "data": {
            "text/plain": [
              "<matplotlib.axes._subplots.AxesSubplot at 0x7f481b389150>"
            ]
          },
          "metadata": {},
          "execution_count": 23
        },
        {
          "output_type": "display_data",
          "data": {
            "image/png": "[encoded data removed]",
            "text/plain": [
              "<Figure size 432x288 with 1 Axes>"
            ]
          },
          "metadata": {
            "needs_background": "light"
          }
        }
      ]
    },
    {
      "cell_type": "code",
      "metadata": {
        "colab": {
          "base_uri": "https://localhost:8080/",
          "height": 296
        },
        "id": "uta0YLr7G429",
        "outputId": "46217cb9-d64c-484f-eed5-f29c6dbbf41c"
      },
      "source": [
        "sns.boxplot(x=df['x2'])"
      ],
      "execution_count": 37,
      "outputs": [
        {
          "output_type": "execute_result",
          "data": {
            "text/plain": [
              "<matplotlib.axes._subplots.AxesSubplot at 0x7f481b105590>"
            ]
          },
          "metadata": {},
          "execution_count": 37
        },
        {
          "output_type": "display_data",
          "data": {
            "image/png": "[encoded data removed]",
            "text/plain": [
              "<Figure size 432x288 with 1 Axes>"
            ]
          },
          "metadata": {
            "needs_background": "light"
          }
        }
      ]
    },
    {
      "cell_type": "code",
      "metadata": {
        "colab": {
          "base_uri": "https://localhost:8080/",
          "height": 295
        },
        "id": "8L1x0Yx0HFiy",
        "outputId": "ed4963fc-2101-4f17-b7b5-937fad148963"
      },
      "source": [
        "df.x2.hist()"
      ],
      "execution_count": 38,
      "outputs": [
        {
          "output_type": "execute_result",
          "data": {
            "text/plain": [
              "<matplotlib.axes._subplots.AxesSubplot at 0x7f481b11fc50>"
            ]
          },
          "metadata": {},
          "execution_count": 38
        },
        {
          "output_type": "display_data",
          "data": {
            "image/png": "[encoded data removed]",
            "text/plain": [
              "<Figure size 432x288 with 1 Axes>"
            ]
          },
          "metadata": {
            "needs_background": "light"
          }
        }
      ]
    },
    {
      "cell_type": "code",
      "metadata": {
        "id": "GkVUCxOJIOBv"
      },
      "source": [
        "# Removing Outliers\n",
        "df = df.loc[df['x2']<= 10000000]"
      ],
      "execution_count": 43,
      "outputs": []
    },
    {
      "cell_type": "code",
      "metadata": {
        "colab": {
          "base_uri": "https://localhost:8080/",
          "height": 391
        },
        "id": "MIVjRKS9DMmD",
        "outputId": "ec3b5932-8e8e-465b-86a6-bc340e3fedd1"
      },
      "source": [
        "# Pairplot\n",
        "sns.pairplot(data = df, hue='y', palette='husl')"
      ],
      "execution_count": 47,
      "outputs": [
        {
          "output_type": "execute_result",
          "data": {
            "text/plain": [
              "<seaborn.axisgrid.PairGrid at 0x7f48194ef650>"
            ]
          },
          "metadata": {},
          "execution_count": 47
        },
        {
          "output_type": "display_data",
          "data": {
            "image/png": "[encoded data removed]",
            "text/plain": [
              "<Figure size 402.375x360 with 6 Axes>"
            ]
          },
          "metadata": {
            "needs_background": "light"
          }
        }
      ]
    },
    {
      "cell_type": "code",
      "metadata": {
        "colab": {
          "base_uri": "https://localhost:8080/",
          "height": 286
        },
        "id": "OD2k4qmtExkY",
        "outputId": "c1a4be88-f703-4289-ed81-dc331ecac143"
      },
      "source": [
        "# Correlation using Heatmap\n",
        "sns.heatmap(df.corr(), annot=True)"
      ],
      "execution_count": 49,
      "outputs": [
        {
          "output_type": "execute_result",
          "data": {
            "text/plain": [
              "<matplotlib.axes._subplots.AxesSubplot at 0x7f481924a1d0>"
            ]
          },
          "metadata": {},
          "execution_count": 49
        },
        {
          "output_type": "display_data",
          "data": {
            "image/png": "[encoded data removed]",
            "text/plain": [
              "<Figure size 432x288 with 2 Axes>"
            ]
          },
          "metadata": {
            "needs_background": "light"
          }
        }
      ]
    },
    {
      "cell_type": "code",
      "metadata": {
        "id": "tEp8FBSRGFDp"
      },
      "source": [
        "target = df.pop('y')\n",
        "data = df"
      ],
      "execution_count": 50,
      "outputs": []
    },
    {
      "cell_type": "code",
      "metadata": {
        "colab": {
          "base_uri": "https://localhost:8080/"
        },
        "id": "0KIHot25KO3y",
        "outputId": "98adb39d-07de-4d6b-8021-94847acc01aa"
      },
      "source": [
        "print(data.shape)\n",
        "print(target.shape)"
      ],
      "execution_count": 52,
      "outputs": [
        {
          "output_type": "stream",
          "name": "stdout",
          "text": [
            "(2217, 2)\n",
            "(2217,)\n"
          ]
        }
      ]
    },
    {
      "cell_type": "code",
      "metadata": {
        "colab": {
          "base_uri": "https://localhost:8080/"
        },
        "id": "2RW_NYzEJyFC",
        "outputId": "3358f010-a851-43a1-90ee-30c8da10bce1"
      },
      "source": [
        "# Normalization of Data\n",
        "from sklearn.preprocessing import MinMaxScaler\n",
        "normalized_data = MinMaxScaler().fit_transform(data)\n",
        "normalized_data.shape"
      ],
      "execution_count": 51,
      "outputs": [
        {
          "output_type": "execute_result",
          "data": {
            "text/plain": [
              "(2217, 2)"
            ]
          },
          "metadata": {},
          "execution_count": 51
        }
      ]
    },
    {
      "cell_type": "code",
      "metadata": {
        "id": "wOCzfR5EKLpw"
      },
      "source": [
        "# Train Test Split\n",
        "from sklearn.model_selection import train_test_split\n",
        "X_train,X_test, y_train, y_test= train_test_split(normalized_data, target, test_size = 0.2, random_state = 0)"
      ],
      "execution_count": 54,
      "outputs": []
    },
    {
      "cell_type": "code",
      "metadata": {
        "colab": {
          "base_uri": "https://localhost:8080/"
        },
        "id": "9FGAWtZhKZ2w",
        "outputId": "5bedb78c-ee49-444d-a3c5-5b1bd6211fd3"
      },
      "source": [
        "print(X_train.shape, X_test.shape, y_train.shape, y_test.shape)"
      ],
      "execution_count": 55,
      "outputs": [
        {
          "output_type": "stream",
          "name": "stdout",
          "text": [
            "(1773, 2) (444, 2) (1773,) (444,)\n"
          ]
        }
      ]
    },
    {
      "cell_type": "code",
      "metadata": {
        "id": "9496xFLKKmHi"
      },
      "source": [
        "from imblearn.under_sampling import RandomUnderSampler"
      ],
      "execution_count": 59,
      "outputs": []
    },
    {
      "cell_type": "code",
      "metadata": {
        "id": "_Q5ZGuHNKuGt"
      },
      "source": [
        "# Undersampling\n",
        "rus = RandomUnderSampler( random_state =0)\n",
        "rus.fit(X_train, y_train)\n",
        "X_train, y_train = rus.fit_resample(X_train, y_train)"
      ],
      "execution_count": 60,
      "outputs": []
    },
    {
      "cell_type": "code",
      "metadata": {
        "colab": {
          "base_uri": "https://localhost:8080/"
        },
        "id": "_JVGtUlyLAua",
        "outputId": "2e9959a8-9736-4fa4-e0fb-d3c18c42c2c7"
      },
      "source": [
        "print(X_train.shape, X_test.shape, y_train.shape, y_test.shape)"
      ],
      "execution_count": 68,
      "outputs": [
        {
          "output_type": "stream",
          "name": "stdout",
          "text": [
            "(1574, 2) (444, 2) (1574,) (444,)\n"
          ]
        }
      ]
    },
    {
      "cell_type": "markdown",
      "metadata": {
        "id": "q4Szm7pTMIlk"
      },
      "source": [
        "# Step 2"
      ]
    },
    {
      "cell_type": "markdown",
      "metadata": {
        "id": "peVzcvd1ST39"
      },
      "source": [
        "We are using basic Machine Learning Models without Hyperparameter Tuning"
      ]
    },
    {
      "cell_type": "code",
      "metadata": {
        "colab": {
          "base_uri": "https://localhost:8080/"
        },
        "id": "k-YbnqJfMA1j",
        "outputId": "60c6aa85-555d-411d-f271-7c9ae858634a"
      },
      "source": [
        "# LogisticRegression\n",
        "from sklearn.linear_model import LogisticRegression\n",
        "LR = LogisticRegression()\n",
        "LR.fit(X_train, y_train)\n",
        "print('Logistic Regression score :',LR.score(X_test, y_test))"
      ],
      "execution_count": 112,
      "outputs": [
        {
          "output_type": "stream",
          "name": "stdout",
          "text": [
            "Logistic Regression score : 0.6193693693693694\n"
          ]
        }
      ]
    },
    {
      "cell_type": "code",
      "metadata": {
        "colab": {
          "base_uri": "https://localhost:8080/"
        },
        "id": "bkMXXw0tMA4Y",
        "outputId": "236b94ef-5288-44af-bebc-d0ed5c7137e9"
      },
      "source": [
        "# SVM with Linear Kernel\n",
        "from sklearn.svm import LinearSVC\n",
        "Linear_SVM = LinearSVC()\n",
        "Linear_SVM.fit(X_train, y_train)\n",
        "print('Linear SVM score :',Linear_SVM.score(X_test, y_test))"
      ],
      "execution_count": 113,
      "outputs": [
        {
          "output_type": "stream",
          "name": "stdout",
          "text": [
            "Linear SVM score : 0.6216216216216216\n"
          ]
        }
      ]
    },
    {
      "cell_type": "code",
      "metadata": {
        "colab": {
          "base_uri": "https://localhost:8080/"
        },
        "id": "ydzzf2u4MA8v",
        "outputId": "b0990e99-ab00-4123-8fec-6220cb9350b4"
      },
      "source": [
        "# SVM with RBF Kernel\n",
        "from sklearn.svm import NuSVC\n",
        "Nu_SVM = NuSVC()\n",
        "Nu_SVM.fit(X_train, y_train)\n",
        "print('SVM with RBF Kernel score :',Nu_SVM.score(X_test, y_test))"
      ],
      "execution_count": 114,
      "outputs": [
        {
          "output_type": "stream",
          "name": "stdout",
          "text": [
            "SVM with RBF Kernel score : 0.9617117117117117\n"
          ]
        }
      ]
    },
    {
      "cell_type": "code",
      "metadata": {
        "colab": {
          "base_uri": "https://localhost:8080/"
        },
        "id": "toU1bkoCOyo6",
        "outputId": "b0b76d12-d4ca-439d-9626-4ac754e176e7"
      },
      "source": [
        "# Decision Tree Classifier\n",
        "from sklearn.tree import DecisionTreeClassifier\n",
        "DTC = DecisionTreeClassifier()\n",
        "DTC.fit(X_train, y_train)\n",
        "print('Decision Tree Classifier score :',DTC.score(X_test, y_test))"
      ],
      "execution_count": 115,
      "outputs": [
        {
          "output_type": "stream",
          "name": "stdout",
          "text": [
            "Decision Tree Classifier score : 0.9391891891891891\n"
          ]
        }
      ]
    },
    {
      "cell_type": "code",
      "metadata": {
        "colab": {
          "base_uri": "https://localhost:8080/"
        },
        "id": "UGxD_88APZSp",
        "outputId": "f5b6863d-447f-493a-e1a5-6d74d6a726a8"
      },
      "source": [
        "# KNN Classifier\n",
        "from sklearn.neighbors import KNeighborsClassifier\n",
        "KNN = KNeighborsClassifier()\n",
        "KNN.fit(X_train, y_train)\n",
        "print('Decision Tree Classifier score :',KNN.score(X_test, y_test))"
      ],
      "execution_count": 117,
      "outputs": [
        {
          "output_type": "stream",
          "name": "stdout",
          "text": [
            "Decision Tree Classifier score : 0.954954954954955\n"
          ]
        }
      ]
    },
    {
      "cell_type": "markdown",
      "metadata": {
        "id": "w0BmktUgP5O3"
      },
      "source": [
        "# Step 3"
      ]
    },
    {
      "cell_type": "markdown",
      "metadata": {
        "id": "MXf1vHfbTWjZ"
      },
      "source": [
        "We have done hyperparameter tuning in each of the models for performance checking"
      ]
    },
    {
      "cell_type": "code",
      "metadata": {
        "colab": {
          "base_uri": "https://localhost:8080/"
        },
        "id": "B2d0iCGBLfCA",
        "outputId": "6a4efe88-b072-4178-df3d-f447caf2cbfa"
      },
      "source": [
        "# Logistic Regression\n",
        "from sklearn.linear_model import LogisticRegression\n",
        "from sklearn.model_selection import GridSearchCV\n",
        "tuned_hyperparameters = [{'C': [0.001,0.01, 0.1, 1, 10, 100] ,'penalty':['l1','l2']}]\n",
        "\n",
        "LR = GridSearchCV(LogisticRegression(), tuned_hyperparameters)\n",
        "LR.fit(X_train, y_train)\n",
        "print(LR.best_params_)\n",
        "print(LR.best_estimator_)\n",
        "print(LR.score(X_test, y_test))"
      ],
      "execution_count": 118,
      "outputs": [
        {
          "output_type": "stream",
          "name": "stdout",
          "text": [
            "{'C': 0.01, 'penalty': 'l2'}\n",
            "LogisticRegression(C=0.01, class_weight=None, dual=False, fit_intercept=True,\n",
            "                   intercept_scaling=1, l1_ratio=None, max_iter=100,\n",
            "                   multi_class='auto', n_jobs=None, penalty='l2',\n",
            "                   random_state=None, solver='lbfgs', tol=0.0001, verbose=0,\n",
            "                   warm_start=False)\n",
            "0.6238738738738738\n"
          ]
        }
      ]
    },
    {
      "cell_type": "code",
      "metadata": {
        "colab": {
          "base_uri": "https://localhost:8080/",
          "height": 300
        },
        "id": "K_YQSpF5P__W",
        "outputId": "f64aabc0-89aa-471f-cc79-8f6c2678c0c7"
      },
      "source": [
        "# Confusion Matrix\n",
        "from sklearn import metrics\n",
        "metrics.plot_confusion_matrix(LR, X_test, y_test)"
      ],
      "execution_count": 93,
      "outputs": [
        {
          "output_type": "execute_result",
          "data": {
            "text/plain": [
              "<sklearn.metrics._plot.confusion_matrix.ConfusionMatrixDisplay at 0x7f4817e69490>"
            ]
          },
          "metadata": {},
          "execution_count": 93
        },
        {
          "output_type": "display_data",
          "data": {
            "image/png": "[encoded data removed]",
            "text/plain": [
              "<Figure size 432x288 with 2 Axes>"
            ]
          },
          "metadata": {
            "needs_background": "light"
          }
        }
      ]
    },
    {
      "cell_type": "code",
      "metadata": {
        "colab": {
          "base_uri": "https://localhost:8080/",
          "height": 296
        },
        "id": "r_XFwabTQ04d",
        "outputId": "d289fbc9-0760-4cfd-8a72-750a27f9ed2f"
      },
      "source": [
        "# ROC-AUC Curve\n",
        "metrics.plot_roc_curve(LR, X_test, y_test)"
      ],
      "execution_count": 100,
      "outputs": [
        {
          "output_type": "execute_result",
          "data": {
            "text/plain": [
              "<sklearn.metrics._plot.roc_curve.RocCurveDisplay at 0x7f4812d27990>"
            ]
          },
          "metadata": {},
          "execution_count": 100
        },
        {
          "output_type": "display_data",
          "data": {
            "image/png": "[encoded data removed]",
            "text/plain": [
              "<Figure size 432x288 with 1 Axes>"
            ]
          },
          "metadata": {
            "needs_background": "light"
          }
        }
      ]
    },
    {
      "cell_type": "code",
      "metadata": {
        "colab": {
          "base_uri": "https://localhost:8080/"
        },
        "id": "kalgqSAZQN1z",
        "outputId": "8d65b213-d0ba-4dea-87a5-58891b9f4846"
      },
      "source": [
        "# Precision, Recall and F1-score\n",
        "y_pred = LR.predict(X_test)\n",
        "target_names = ['class_0','class_1']\n",
        "print(metrics.classification_report(y_test, y_pred, target_names=target_names))"
      ],
      "execution_count": 94,
      "outputs": [
        {
          "output_type": "stream",
          "name": "stdout",
          "text": [
            "              precision    recall  f1-score   support\n",
            "\n",
            "     class_0       0.66      0.68      0.67       250\n",
            "     class_1       0.57      0.55      0.56       194\n",
            "\n",
            "    accuracy                           0.62       444\n",
            "   macro avg       0.62      0.62      0.62       444\n",
            "weighted avg       0.62      0.62      0.62       444\n",
            "\n"
          ]
        }
      ]
    },
    {
      "cell_type": "code",
      "metadata": {
        "colab": {
          "base_uri": "https://localhost:8080/"
        },
        "id": "kjUluFpgQT6S",
        "outputId": "4453fcbd-ecae-44dd-97c7-d125b042a552"
      },
      "source": [
        "# SVM with Linear and RBF kernel\n",
        "from sklearn.svm import SVC\n",
        "from sklearn.model_selection import RandomizedSearchCV\n",
        "tuned_parameters = [{'kernel':['linear'], 'C':[1, 10, 100, 1000]},\n",
        "                    {'kernel':['rbf'], 'gamma':np.random.rand(3), 'C':[1, 10, 100, 1000]}]\n",
        "SVM = RandomizedSearchCV(SVC(), tuned_parameters, scoring='accuracy')\n",
        "SVM.fit(X_train, y_train)\n",
        "print('Best Parameters in SVC are :\\n')\n",
        "print(SVM.best_estimator_)\n",
        "print(SVM.best_params_)\n",
        "print(SVM.score(X_test, y_test))"
      ],
      "execution_count": 119,
      "outputs": [
        {
          "output_type": "stream",
          "name": "stdout",
          "text": [
            "Best Parameters in SVC are :\n",
            "\n",
            "SVC(C=1, break_ties=False, cache_size=200, class_weight=None, coef0=0.0,\n",
            "    decision_function_shape='ovr', degree=3, gamma=0.20577958454777612,\n",
            "    kernel='rbf', max_iter=-1, probability=False, random_state=None,\n",
            "    shrinking=True, tol=0.001, verbose=False)\n",
            "{'kernel': 'rbf', 'gamma': 0.20577958454777612, 'C': 1}\n",
            "0.9527027027027027\n"
          ]
        }
      ]
    },
    {
      "cell_type": "code",
      "metadata": {
        "colab": {
          "base_uri": "https://localhost:8080/",
          "height": 296
        },
        "id": "iFhT4GLTQUAq",
        "outputId": "fdd69525-19ef-4111-9264-734c94ed5aed"
      },
      "source": [
        "# Confusion Matrix\n",
        "metrics.plot_confusion_matrix(SVM, X_test, y_test)"
      ],
      "execution_count": 97,
      "outputs": [
        {
          "output_type": "execute_result",
          "data": {
            "text/plain": [
              "<sklearn.metrics._plot.confusion_matrix.ConfusionMatrixDisplay at 0x7f4812dd0450>"
            ]
          },
          "metadata": {},
          "execution_count": 97
        },
        {
          "output_type": "display_data",
          "data": {
            "image/png": "[encoded data removed]",
            "text/plain": [
              "<Figure size 432x288 with 2 Axes>"
            ]
          },
          "metadata": {
            "needs_background": "light"
          }
        }
      ]
    },
    {
      "cell_type": "code",
      "metadata": {
        "colab": {
          "base_uri": "https://localhost:8080/",
          "height": 296
        },
        "id": "uZjLuS9KQUEV",
        "outputId": "13d5ac77-fea4-4e6c-f5bd-8ef1a907eaf1"
      },
      "source": [
        "# ROC-AUC Curve\n",
        "metrics.plot_roc_curve(SVM, X_test, y_test)"
      ],
      "execution_count": 98,
      "outputs": [
        {
          "output_type": "execute_result",
          "data": {
            "text/plain": [
              "<sklearn.metrics._plot.roc_curve.RocCurveDisplay at 0x7f4812d6d490>"
            ]
          },
          "metadata": {},
          "execution_count": 98
        },
        {
          "output_type": "display_data",
          "data": {
            "image/png": "[encoded data removed]",
            "text/plain": [
              "<Figure size 432x288 with 1 Axes>"
            ]
          },
          "metadata": {
            "needs_background": "light"
          }
        }
      ]
    },
    {
      "cell_type": "code",
      "metadata": {
        "colab": {
          "base_uri": "https://localhost:8080/"
        },
        "id": "jnEBiFUvQtyW",
        "outputId": "6dab9892-87f6-48eb-83c9-00b9ea167cf8"
      },
      "source": [
        "# Precision, Recall and F1-score\n",
        "y_pred = SVM.predict(X_test)\n",
        "target_names = ['class_0','class_1']\n",
        "print(metrics.classification_report(y_test, y_pred, target_names=target_names))"
      ],
      "execution_count": 99,
      "outputs": [
        {
          "output_type": "stream",
          "name": "stdout",
          "text": [
            "              precision    recall  f1-score   support\n",
            "\n",
            "     class_0       0.99      0.94      0.96       250\n",
            "     class_1       0.93      0.98      0.96       194\n",
            "\n",
            "    accuracy                           0.96       444\n",
            "   macro avg       0.96      0.96      0.96       444\n",
            "weighted avg       0.96      0.96      0.96       444\n",
            "\n"
          ]
        }
      ]
    },
    {
      "cell_type": "code",
      "metadata": {
        "colab": {
          "base_uri": "https://localhost:8080/"
        },
        "id": "op4NOsifQ5ID",
        "outputId": "547dd80a-0f7c-474a-bb7b-246bacfd4382"
      },
      "source": [
        "# Decision Tree Classifier\n",
        "from sklearn.tree import DecisionTreeClassifier\n",
        "tuned_parameters = [{ 'criterion' :['gini', 'entropy'], 'max_depth': [4,5,6,7,8,9,10,11,12,15,20,30,40,50,70,90,120,150]}]\n",
        "DTC = GridSearchCV(DecisionTreeClassifier(), tuned_parameters, cv = 5)\n",
        "DTC.fit(X_test, y_test)\n",
        "print('Best Parameters for Decision Tree Classifier :\\n')\n",
        "print(DTC.best_params_)\n",
        "print(DTC.best_estimator_)\n",
        "print(DTC.score(X_test, y_test))"
      ],
      "execution_count": 120,
      "outputs": [
        {
          "output_type": "stream",
          "name": "stdout",
          "text": [
            "Best Parameters for Decision Tree Classifier :\n",
            "\n",
            "{'criterion': 'gini', 'max_depth': 6}\n",
            "DecisionTreeClassifier(ccp_alpha=0.0, class_weight=None, criterion='gini',\n",
            "                       max_depth=6, max_features=None, max_leaf_nodes=None,\n",
            "                       min_impurity_decrease=0.0, min_impurity_split=None,\n",
            "                       min_samples_leaf=1, min_samples_split=2,\n",
            "                       min_weight_fraction_leaf=0.0, presort='deprecated',\n",
            "                       random_state=None, splitter='best')\n",
            "0.9819819819819819\n"
          ]
        }
      ]
    },
    {
      "cell_type": "code",
      "metadata": {
        "colab": {
          "base_uri": "https://localhost:8080/"
        },
        "id": "5OWHE4tbRBPQ",
        "outputId": "01506dba-109c-47c6-aad3-1cb589d1aec7"
      },
      "source": [
        "print('Best Parameters for Decision Tree Classifier :\\n')\n",
        "print(DTC.best_params_)\n",
        "print(DTC.best_estimator_)\n",
        "print(DTC.score(X_test, y_test))"
      ],
      "execution_count": 102,
      "outputs": [
        {
          "output_type": "stream",
          "name": "stdout",
          "text": [
            "Best Parameters for Decision Tree Classifier :\n",
            "\n",
            "{'criterion': 'gini', 'max_depth': 6}\n",
            "DecisionTreeClassifier(ccp_alpha=0.0, class_weight=None, criterion='gini',\n",
            "                       max_depth=6, max_features=None, max_leaf_nodes=None,\n",
            "                       min_impurity_decrease=0.0, min_impurity_split=None,\n",
            "                       min_samples_leaf=1, min_samples_split=2,\n",
            "                       min_weight_fraction_leaf=0.0, presort='deprecated',\n",
            "                       random_state=None, splitter='best')\n",
            "0.9819819819819819\n"
          ]
        }
      ]
    },
    {
      "cell_type": "code",
      "metadata": {
        "colab": {
          "base_uri": "https://localhost:8080/",
          "height": 296
        },
        "id": "EyIihROaRFxW",
        "outputId": "f9b0a1c1-d425-4a81-f6c0-27f7e4e976f3"
      },
      "source": [
        "# Confusion Matrix\n",
        "metrics.plot_confusion_matrix(DTC, X_test, y_test)"
      ],
      "execution_count": 104,
      "outputs": [
        {
          "output_type": "execute_result",
          "data": {
            "text/plain": [
              "<sklearn.metrics._plot.confusion_matrix.ConfusionMatrixDisplay at 0x7f4812ddacd0>"
            ]
          },
          "metadata": {},
          "execution_count": 104
        },
        {
          "output_type": "display_data",
          "data": {
            "image/png": "[encoded data removed]",
            "text/plain": [
              "<Figure size 432x288 with 2 Axes>"
            ]
          },
          "metadata": {
            "needs_background": "light"
          }
        }
      ]
    },
    {
      "cell_type": "code",
      "metadata": {
        "colab": {
          "base_uri": "https://localhost:8080/",
          "height": 296
        },
        "id": "tDu-PPC-RZhb",
        "outputId": "4bc355bf-1acc-42ac-a600-5b93c2443641"
      },
      "source": [
        "# ROC-AUC Curve\n",
        "metrics.plot_roc_curve(DTC, X_test, y_test)"
      ],
      "execution_count": 106,
      "outputs": [
        {
          "output_type": "execute_result",
          "data": {
            "text/plain": [
              "<sklearn.metrics._plot.roc_curve.RocCurveDisplay at 0x7f4812babed0>"
            ]
          },
          "metadata": {},
          "execution_count": 106
        },
        {
          "output_type": "display_data",
          "data": {
            "image/png": "[encoded data removed]",
            "text/plain": [
              "<Figure size 432x288 with 1 Axes>"
            ]
          },
          "metadata": {
            "needs_background": "light"
          }
        }
      ]
    },
    {
      "cell_type": "code",
      "metadata": {
        "colab": {
          "base_uri": "https://localhost:8080/"
        },
        "id": "I_xHqIXvRZt-",
        "outputId": "333941f4-d0a5-4c46-ecb6-b789458ea09e"
      },
      "source": [
        "# Precision, Recall and F1-score\n",
        "y_pred = DTC.predict(X_test)\n",
        "target_names = ['class_0','class_1']\n",
        "print(metrics.classification_report(y_test, y_pred, target_names=target_names))"
      ],
      "execution_count": 103,
      "outputs": [
        {
          "output_type": "stream",
          "name": "stdout",
          "text": [
            "              precision    recall  f1-score   support\n",
            "\n",
            "     class_0       0.98      0.99      0.98       250\n",
            "     class_1       0.99      0.97      0.98       194\n",
            "\n",
            "    accuracy                           0.98       444\n",
            "   macro avg       0.98      0.98      0.98       444\n",
            "weighted avg       0.98      0.98      0.98       444\n",
            "\n"
          ]
        }
      ]
    },
    {
      "cell_type": "code",
      "metadata": {
        "colab": {
          "base_uri": "https://localhost:8080/"
        },
        "id": "vDn4JLkmRkYR",
        "outputId": "194cc8af-8a48-4811-d546-223ee4247c2f"
      },
      "source": [
        "# KNN\n",
        "from sklearn.neighbors import KNeighborsClassifier\n",
        "tuned_parameters = [{'n_neighbors':[5,7,9,13,17], 'p':[1,2,3,4]}]\n",
        "\n",
        "KNeighbors = GridSearchCV(KNeighborsClassifier(), tuned_parameters, scoring='accuracy')\n",
        "KNeighbors.fit(X_train, y_train)\n",
        "print(KNeighbors.best_params_)\n",
        "print(KNeighbors.best_estimator_)\n",
        "print(KNeighbors.score(X_test, y_test))"
      ],
      "execution_count": 140,
      "outputs": [
        {
          "output_type": "stream",
          "name": "stdout",
          "text": [
            "{'n_neighbors': 17, 'p': 4}\n",
            "KNeighborsClassifier(algorithm='auto', leaf_size=30, metric='minkowski',\n",
            "                     metric_params=None, n_jobs=None, n_neighbors=17, p=4,\n",
            "                     weights='uniform')\n",
            "0.9684684684684685\n"
          ]
        }
      ]
    },
    {
      "cell_type": "code",
      "metadata": {
        "colab": {
          "base_uri": "https://localhost:8080/",
          "height": 296
        },
        "id": "QipE13FfRzsI",
        "outputId": "d02b9547-e95e-4df7-f73d-1615eac18f27"
      },
      "source": [
        "# Confusion Matrix\n",
        "metrics.plot_confusion_matrix(KNeighbors, X_test, y_test)"
      ],
      "execution_count": 109,
      "outputs": [
        {
          "output_type": "execute_result",
          "data": {
            "text/plain": [
              "<sklearn.metrics._plot.confusion_matrix.ConfusionMatrixDisplay at 0x7f4812b14510>"
            ]
          },
          "metadata": {},
          "execution_count": 109
        },
        {
          "output_type": "display_data",
          "data": {
            "image/png": "[encoded data removed]",
            "text/plain": [
              "<Figure size 432x288 with 2 Axes>"
            ]
          },
          "metadata": {
            "needs_background": "light"
          }
        }
      ]
    },
    {
      "cell_type": "code",
      "metadata": {
        "colab": {
          "base_uri": "https://localhost:8080/",
          "height": 296
        },
        "id": "tnwOQKc8R0k7",
        "outputId": "8ab6c9f3-bcb6-4084-8b08-8ada98c1433f"
      },
      "source": [
        "# ROC-AUC Curve\n",
        "metrics.plot_roc_curve(KNeighbors, X_test, y_test)"
      ],
      "execution_count": 110,
      "outputs": [
        {
          "output_type": "execute_result",
          "data": {
            "text/plain": [
              "<sklearn.metrics._plot.roc_curve.RocCurveDisplay at 0x7f4812ac8410>"
            ]
          },
          "metadata": {},
          "execution_count": 110
        },
        {
          "output_type": "display_data",
          "data": {
            "image/png": "[encoded data removed]",
            "text/plain": [
              "<Figure size 432x288 with 1 Axes>"
            ]
          },
          "metadata": {
            "needs_background": "light"
          }
        }
      ]
    },
    {
      "cell_type": "code",
      "metadata": {
        "colab": {
          "base_uri": "https://localhost:8080/"
        },
        "id": "7sw-s82LR0oK",
        "outputId": "a373a416-0aea-4ee1-eb1e-09095c23625f"
      },
      "source": [
        "# Precision, Recall and F1-score\n",
        "y_pred = KNeighbors.predict(X_test)\n",
        "target_names = ['class_0','class_1']\n",
        "print(metrics.classification_report(y_test, y_pred, target_names=target_names))"
      ],
      "execution_count": 111,
      "outputs": [
        {
          "output_type": "stream",
          "name": "stdout",
          "text": [
            "              precision    recall  f1-score   support\n",
            "\n",
            "     class_0       0.97      0.97      0.97       250\n",
            "     class_1       0.96      0.96      0.96       194\n",
            "\n",
            "    accuracy                           0.97       444\n",
            "   macro avg       0.97      0.97      0.97       444\n",
            "weighted avg       0.97      0.97      0.97       444\n",
            "\n"
          ]
        }
      ]
    },
    {
      "cell_type": "markdown",
      "metadata": {
        "id": "yKFMfPoaUeac"
      },
      "source": [
        "We have done hyperparameter tuning of different Models."
      ]
    },
    {
      "cell_type": "code",
      "metadata": {
        "id": "sMTL4mX_Uzhi"
      },
      "source": [
        "Alg_list = [LR, SVM, DTC, KNeighbors]\n",
        "Models = [x.best_estimator_ for x in Alg_list]\n",
        "Accuracy_Score = [x.score(X_test, y_test) for x in Models]\n",
        "F1_score = [metrics.f1_score(y_test, x.predict(X_test))  for x in Alg_list]"
      ],
      "execution_count": 144,
      "outputs": []
    },
    {
      "cell_type": "code",
      "metadata": {
        "colab": {
          "base_uri": "https://localhost:8080/",
          "height": 173
        },
        "id": "18LeUR4rUPY3",
        "outputId": "8929209b-fd75-4527-c95a-da5f57ed1fa1"
      },
      "source": [
        "temp_df = pd.DataFrame({'Models': Models, 'Accuracy Score':Accuracy_Score, 'F1-score': F1_score})\n",
        "temp_df.head()"
      ],
      "execution_count": 145,
      "outputs": [
        {
          "output_type": "execute_result",
          "data": {
            "text/html": [
              "<div>\n",
              "<style scoped>\n",
              "    .dataframe tbody tr th:only-of-type {\n",
              "        vertical-align: middle;\n",
              "    }\n",
              "\n",
              "    .dataframe tbody tr th {\n",
              "        vertical-align: top;\n",
              "    }\n",
              "\n",
              "    .dataframe thead th {\n",
              "        text-align: right;\n",
              "    }\n",
              "</style>\n",
              "<table border=\"1\" class=\"dataframe\">\n",
              "  <thead>\n",
              "    <tr style=\"text-align: right;\">\n",
              "      <th></th>\n",
              "      <th>Models</th>\n",
              "      <th>Accuracy Score</th>\n",
              "      <th>F1-score</th>\n",
              "    </tr>\n",
              "  </thead>\n",
              "  <tbody>\n",
              "    <tr>\n",
              "      <th>0</th>\n",
              "      <td>LogisticRegression(C=0.01, class_weight=None, ...</td>\n",
              "      <td>0.623874</td>\n",
              "      <td>0.561680</td>\n",
              "    </tr>\n",
              "    <tr>\n",
              "      <th>1</th>\n",
              "      <td>SVC(C=1, break_ties=False, cache_size=200, cla...</td>\n",
              "      <td>0.952703</td>\n",
              "      <td>0.947368</td>\n",
              "    </tr>\n",
              "    <tr>\n",
              "      <th>2</th>\n",
              "      <td>DecisionTreeClassifier(ccp_alpha=0.0, class_we...</td>\n",
              "      <td>0.981982</td>\n",
              "      <td>0.979167</td>\n",
              "    </tr>\n",
              "    <tr>\n",
              "      <th>3</th>\n",
              "      <td>KNeighborsClassifier(algorithm='auto', leaf_si...</td>\n",
              "      <td>0.968468</td>\n",
              "      <td>0.963918</td>\n",
              "    </tr>\n",
              "  </tbody>\n",
              "</table>\n",
              "</div>"
            ],
            "text/plain": [
              "                                              Models  Accuracy Score  F1-score\n",
              "0  LogisticRegression(C=0.01, class_weight=None, ...        0.623874  0.561680\n",
              "1  SVC(C=1, break_ties=False, cache_size=200, cla...        0.952703  0.947368\n",
              "2  DecisionTreeClassifier(ccp_alpha=0.0, class_we...        0.981982  0.979167\n",
              "3  KNeighborsClassifier(algorithm='auto', leaf_si...        0.968468  0.963918"
            ]
          },
          "metadata": {},
          "execution_count": 145
        }
      ]
    },
    {
      "cell_type": "markdown",
      "metadata": {
        "id": "uzI3TgVfXzW3"
      },
      "source": [
        "From here, we can see Decision Tree Classifier has best Accuracy and F1 score. So the best Model for this Data will be Decision Tree Classifier having 0.98 accuracy and 0.97 F1 score"
      ]
    }
  ]
}