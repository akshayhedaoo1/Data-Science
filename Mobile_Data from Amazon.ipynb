{
 "cells": [
  {
   "cell_type": "code",
   "execution_count": 1,
   "metadata": {},
   "outputs": [],
   "source": [
    "import pandas as pd\n",
    "import numpy as np\n",
    "import seaborn as sns\n",
    "import matplotlib.pyplot as plt\n",
    "import time\n"
   ]
  },
  {
   "cell_type": "code",
   "execution_count": 83,
   "metadata": {},
   "outputs": [],
   "source": [
    "import warnings\n",
    "warnings.filterwarnings('ignore')"
   ]
  },
  {
   "cell_type": "code",
   "execution_count": 137,
   "metadata": {},
   "outputs": [],
   "source": [
    "from bs4 import BeautifulSoup\n",
    "import requests\n",
    "import re"
   ]
  },
  {
   "cell_type": "code",
   "execution_count": 3,
   "metadata": {},
   "outputs": [],
   "source": [
    "url = 'https://www.amazon.in/s?k=Mobiles&rh=n%3A1389401031&ref=nb_sb_noss'"
   ]
  },
  {
   "cell_type": "code",
   "execution_count": 4,
   "metadata": {},
   "outputs": [],
   "source": [
    "Soup = requests.get(url)"
   ]
  },
  {
   "cell_type": "code",
   "execution_count": 5,
   "metadata": {},
   "outputs": [
    {
     "data": {
      "text/plain": [
       "200"
      ]
     },
     "execution_count": 5,
     "metadata": {},
     "output_type": "execute_result"
    }
   ],
   "source": [
    "Soup.status_code"
   ]
  },
  {
   "cell_type": "code",
   "execution_count": 6,
   "metadata": {},
   "outputs": [],
   "source": [
    "soup = BeautifulSoup(Soup.content)"
   ]
  },
  {
   "cell_type": "code",
   "execution_count": 119,
   "metadata": {},
   "outputs": [],
   "source": [
    "Model_Name =[]\n",
    "Brand = []\n",
    "Review = []\n",
    "Display = []\n",
    "Price = []\n",
    "for i in range(1,25):\n",
    "    start_time = time.time()\n",
    "    \n",
    "    SmartPhones = soup.findAll('div',{'class':'sg-col-inner'})\n",
    "    for x in SmartPhones:\n",
    "        mobiles = x.findAll('a',{'class':'a-link-normal a-text-normal'})\n",
    "        for y in mobiles:\n",
    "            if y.text is None:\n",
    "                Model_Name.append(np.nan)\n",
    "            else:\n",
    "                Model_Name.append(y.text)\n",
    "      \n",
    "    \n",
    "        review = x.findAll('div',{'class':'a-section a-spacing-none a-spacing-top-micro'})\n",
    "        for z in review:\n",
    "            if z.text is None:\n",
    "                Review.append(np.nan)\n",
    "            else:\n",
    "                Review.append(z.text)\n",
    "        \n",
    "        price = x.findAll('span',{'class':'a-price-whole'})\n",
    "        for n in price:\n",
    "            if n.text is None:\n",
    "                Price.append(np.nan)\n",
    "            else:\n",
    "                Price.append(n.text)\n",
    "            \n",
    "    \n",
    "            \n",
    "            "
   ]
  },
  {
   "cell_type": "code",
   "execution_count": 122,
   "metadata": {},
   "outputs": [
    {
     "data": {
      "text/plain": [
       "1152"
      ]
     },
     "execution_count": 122,
     "metadata": {},
     "output_type": "execute_result"
    }
   ],
   "source": [
    "len(Model_Name)"
   ]
  },
  {
   "cell_type": "code",
   "execution_count": 126,
   "metadata": {},
   "outputs": [],
   "source": [
    "Review = Review[::2]"
   ]
  },
  {
   "cell_type": "code",
   "execution_count": 127,
   "metadata": {},
   "outputs": [],
   "source": [
    "Mobile_Data = pd.DataFrame({'Model':Model_Name,'Review':Review,'Price':Price})"
   ]
  },
  {
   "cell_type": "code",
   "execution_count": 132,
   "metadata": {},
   "outputs": [],
   "source": [
    "Mobile_Data['Model'] = Mobile_Data['Model'].apply(lambda x : re.findall('[A-z].+',x))"
   ]
  },
  {
   "cell_type": "code",
   "execution_count": 133,
   "metadata": {},
   "outputs": [],
   "source": [
    "Mobile_Data['Review'] = Mobile_Data['Review'].apply(lambda x: re.findall('\\d\\.\\d ',x))"
   ]
  },
  {
   "cell_type": "code",
   "execution_count": 134,
   "metadata": {},
   "outputs": [],
   "source": [
    "Mobile_Data['Review'] = Mobile_Data['Review'].apply(lambda x :''.join(x) )"
   ]
  },
  {
   "cell_type": "code",
   "execution_count": 135,
   "metadata": {},
   "outputs": [
    {
     "data": {
      "text/plain": [
       "0        6,799\n",
       "1        8,799\n",
       "2       10,999\n",
       "3       16,499\n",
       "4        6,199\n",
       "         ...  \n",
       "1147     6,799\n",
       "1148    14,999\n",
       "1149    29,999\n",
       "1150    29,999\n",
       "1151    10,999\n",
       "Name: Price, Length: 1152, dtype: object"
      ]
     },
     "execution_count": 135,
     "metadata": {},
     "output_type": "execute_result"
    }
   ],
   "source": [
    "Mobile_Data['Price']"
   ]
  },
  {
   "cell_type": "code",
   "execution_count": 125,
   "metadata": {},
   "outputs": [
    {
     "data": {
      "text/plain": [
       "['Mobile_Data.pkl']"
      ]
     },
     "execution_count": 125,
     "metadata": {},
     "output_type": "execute_result"
    }
   ],
   "source": [
    "import joblib\n",
    "joblib.dump(Mobile_Data,'Mobile_Data.pkl')"
   ]
  },
  {
   "cell_type": "code",
   "execution_count": 126,
   "metadata": {},
   "outputs": [],
   "source": [
    "import joblib\n",
    "Mobile_Data = joblib.load('Mobile_Data.pkl')"
   ]
  },
  {
   "cell_type": "code",
   "execution_count": 8,
   "metadata": {},
   "outputs": [],
   "source": [
    "Mobile_Data['Model'] = Mobile_Data['Model'].apply(lambda x:''.join(x))"
   ]
  },
  {
   "cell_type": "code",
   "execution_count": 32,
   "metadata": {},
   "outputs": [],
   "source": [
    "Mobile_Data['Storage'] = Mobile_Data['Model'].apply(lambda x:re.findall('[0-9]+GB',x))"
   ]
  },
  {
   "cell_type": "code",
   "execution_count": 36,
   "metadata": {
    "scrolled": true
   },
   "outputs": [],
   "source": [
    "Mobile_Data['Ram'] =  Mobile_Data['Storage'].str[0]"
   ]
  },
  {
   "cell_type": "code",
   "execution_count": 39,
   "metadata": {},
   "outputs": [],
   "source": [
    "Mobile_Data['Capacity'] = Mobile_Data['Storage'].str[1]"
   ]
  },
  {
   "cell_type": "code",
   "execution_count": 47,
   "metadata": {},
   "outputs": [],
   "source": [
    "Mobile_Data['Brand'] = Mobile_Data['Model'].apply(lambda x: re.findall('^\\w+',x))"
   ]
  },
  {
   "cell_type": "code",
   "execution_count": 177,
   "metadata": {},
   "outputs": [],
   "source": [
    "Mobile_Data['Brand'] = Mobile_Data['Brand'].apply(lambda x :''.join(x))"
   ]
  },
  {
   "cell_type": "code",
   "execution_count": 159,
   "metadata": {},
   "outputs": [],
   "source": [
    "Mobile_Data['Color'] = Mobile_Data['Model'].apply(lambda x: re.findall('\\([[A-z]+ [A-z]+|\\([A-z]+',x))"
   ]
  },
  {
   "cell_type": "code",
   "execution_count": 160,
   "metadata": {},
   "outputs": [],
   "source": [
    "Mobile_Data['Color'] = Mobile_Data['Color'].apply(lambda x : ''.join(x))\n"
   ]
  },
  {
   "cell_type": "code",
   "execution_count": 161,
   "metadata": {},
   "outputs": [],
   "source": [
    "Mobile_Data['Color'] = Mobile_Data['Color'].apply(lambda x : re.findall('\\w.+',x))"
   ]
  },
  {
   "cell_type": "code",
   "execution_count": 171,
   "metadata": {},
   "outputs": [],
   "source": [
    "Mobile_Data['Price'] = Mobile_Data['Price'].apply(lambda x : x.replace(',',''))\n",
    "Mobile_Data['Price'] = Mobile_Data['Price'].apply(lambda x : int(x))"
   ]
  },
  {
   "cell_type": "code",
   "execution_count": 180,
   "metadata": {},
   "outputs": [
    {
     "data": {
      "text/html": [
       "<div>\n",
       "<style scoped>\n",
       "    .dataframe tbody tr th:only-of-type {\n",
       "        vertical-align: middle;\n",
       "    }\n",
       "\n",
       "    .dataframe tbody tr th {\n",
       "        vertical-align: top;\n",
       "    }\n",
       "\n",
       "    .dataframe thead th {\n",
       "        text-align: right;\n",
       "    }\n",
       "</style>\n",
       "<table border=\"1\" class=\"dataframe\">\n",
       "  <thead>\n",
       "    <tr style=\"text-align: right;\">\n",
       "      <th></th>\n",
       "      <th>Model</th>\n",
       "      <th>Review</th>\n",
       "      <th>Price</th>\n",
       "      <th>Storage</th>\n",
       "      <th>Ram</th>\n",
       "      <th>Capacity</th>\n",
       "      <th>Brand</th>\n",
       "      <th>Color</th>\n",
       "    </tr>\n",
       "  </thead>\n",
       "  <tbody>\n",
       "    <tr>\n",
       "      <th>0</th>\n",
       "      <td>Redmi 9A (Nature Green, 2GB Ram, 32GB Storage)...</td>\n",
       "      <td>4.2</td>\n",
       "      <td>6799</td>\n",
       "      <td>[2GB, 32GB]</td>\n",
       "      <td>2GB</td>\n",
       "      <td>32GB</td>\n",
       "      <td>Redmi</td>\n",
       "      <td>[Nature Green]</td>\n",
       "    </tr>\n",
       "    <tr>\n",
       "      <th>1</th>\n",
       "      <td>Redmi 9 (Sky Blue, 4GB RAM, 64GB Storage)</td>\n",
       "      <td>4.2</td>\n",
       "      <td>8799</td>\n",
       "      <td>[4GB, 64GB]</td>\n",
       "      <td>4GB</td>\n",
       "      <td>64GB</td>\n",
       "      <td>Redmi</td>\n",
       "      <td>[Sky Blue]</td>\n",
       "    </tr>\n",
       "    <tr>\n",
       "      <th>2</th>\n",
       "      <td>Redmi Note 9 (Pebble Grey, 4GB RAM 64GB Storag...</td>\n",
       "      <td>4.2</td>\n",
       "      <td>10999</td>\n",
       "      <td>[4GB, 64GB]</td>\n",
       "      <td>4GB</td>\n",
       "      <td>64GB</td>\n",
       "      <td>Redmi</td>\n",
       "      <td>[Pebble Grey]</td>\n",
       "    </tr>\n",
       "    <tr>\n",
       "      <th>3</th>\n",
       "      <td>Samsung Galaxy M31 (Ocean Blue, 6GB RAM, 128GB...</td>\n",
       "      <td>4.3</td>\n",
       "      <td>16499</td>\n",
       "      <td>[6GB, 128GB]</td>\n",
       "      <td>6GB</td>\n",
       "      <td>128GB</td>\n",
       "      <td>Samsung</td>\n",
       "      <td>[Ocean Blue]</td>\n",
       "    </tr>\n",
       "    <tr>\n",
       "      <th>4</th>\n",
       "      <td>Samsung Galaxy M01 Core (Black, 2GB RAM, 32GB ...</td>\n",
       "      <td>3.6</td>\n",
       "      <td>6199</td>\n",
       "      <td>[2GB, 32GB]</td>\n",
       "      <td>2GB</td>\n",
       "      <td>32GB</td>\n",
       "      <td>Samsung</td>\n",
       "      <td>[Black]</td>\n",
       "    </tr>\n",
       "    <tr>\n",
       "      <th>...</th>\n",
       "      <td>...</td>\n",
       "      <td>...</td>\n",
       "      <td>...</td>\n",
       "      <td>...</td>\n",
       "      <td>...</td>\n",
       "      <td>...</td>\n",
       "      <td>...</td>\n",
       "      <td>...</td>\n",
       "    </tr>\n",
       "    <tr>\n",
       "      <th>1147</th>\n",
       "      <td>Redmi 9A (Sea Blue, 2GB Ram, 32GB Storage) | 2...</td>\n",
       "      <td>4.2</td>\n",
       "      <td>6799</td>\n",
       "      <td>[2GB, 32GB]</td>\n",
       "      <td>2GB</td>\n",
       "      <td>32GB</td>\n",
       "      <td>Redmi</td>\n",
       "      <td>[Sea Blue]</td>\n",
       "    </tr>\n",
       "    <tr>\n",
       "      <th>1148</th>\n",
       "      <td>Redmi Note 9 Pro Max (Interstellar Black, 6GB ...</td>\n",
       "      <td>4.2</td>\n",
       "      <td>14999</td>\n",
       "      <td>[6GB, 64GB]</td>\n",
       "      <td>6GB</td>\n",
       "      <td>64GB</td>\n",
       "      <td>Redmi</td>\n",
       "      <td>[Interstellar Black]</td>\n",
       "    </tr>\n",
       "    <tr>\n",
       "      <th>1149</th>\n",
       "      <td>OnePlus Nord 5G (Blue Marble, 12GB RAM, 256GB ...</td>\n",
       "      <td>4.3</td>\n",
       "      <td>29999</td>\n",
       "      <td>[12GB, 256GB]</td>\n",
       "      <td>12GB</td>\n",
       "      <td>256GB</td>\n",
       "      <td>OnePlus</td>\n",
       "      <td>[Blue Marble]</td>\n",
       "    </tr>\n",
       "    <tr>\n",
       "      <th>1150</th>\n",
       "      <td>OnePlus Nord 5G (Gray Onyx, 12GB RAM, 256GB St...</td>\n",
       "      <td>4.3</td>\n",
       "      <td>29999</td>\n",
       "      <td>[12GB, 256GB]</td>\n",
       "      <td>12GB</td>\n",
       "      <td>256GB</td>\n",
       "      <td>OnePlus</td>\n",
       "      <td>[Gray Onyx]</td>\n",
       "    </tr>\n",
       "    <tr>\n",
       "      <th>1151</th>\n",
       "      <td>Samsung Galaxy M12 (Blue,4GB RAM, 64GB Storage...</td>\n",
       "      <td>4.0</td>\n",
       "      <td>10999</td>\n",
       "      <td>[4GB, 64GB]</td>\n",
       "      <td>4GB</td>\n",
       "      <td>64GB</td>\n",
       "      <td>Samsung</td>\n",
       "      <td>[Blue]</td>\n",
       "    </tr>\n",
       "  </tbody>\n",
       "</table>\n",
       "<p>1152 rows × 8 columns</p>\n",
       "</div>"
      ],
      "text/plain": [
       "                                                  Model Review  Price  \\\n",
       "0     Redmi 9A (Nature Green, 2GB Ram, 32GB Storage)...   4.2    6799   \n",
       "1             Redmi 9 (Sky Blue, 4GB RAM, 64GB Storage)   4.2    8799   \n",
       "2     Redmi Note 9 (Pebble Grey, 4GB RAM 64GB Storag...   4.2   10999   \n",
       "3     Samsung Galaxy M31 (Ocean Blue, 6GB RAM, 128GB...   4.3   16499   \n",
       "4     Samsung Galaxy M01 Core (Black, 2GB RAM, 32GB ...   3.6    6199   \n",
       "...                                                 ...    ...    ...   \n",
       "1147  Redmi 9A (Sea Blue, 2GB Ram, 32GB Storage) | 2...   4.2    6799   \n",
       "1148  Redmi Note 9 Pro Max (Interstellar Black, 6GB ...   4.2   14999   \n",
       "1149  OnePlus Nord 5G (Blue Marble, 12GB RAM, 256GB ...   4.3   29999   \n",
       "1150  OnePlus Nord 5G (Gray Onyx, 12GB RAM, 256GB St...   4.3   29999   \n",
       "1151  Samsung Galaxy M12 (Blue,4GB RAM, 64GB Storage...   4.0   10999   \n",
       "\n",
       "            Storage   Ram Capacity    Brand                 Color  \n",
       "0       [2GB, 32GB]   2GB     32GB    Redmi        [Nature Green]  \n",
       "1       [4GB, 64GB]   4GB     64GB    Redmi            [Sky Blue]  \n",
       "2       [4GB, 64GB]   4GB     64GB    Redmi         [Pebble Grey]  \n",
       "3      [6GB, 128GB]   6GB    128GB  Samsung          [Ocean Blue]  \n",
       "4       [2GB, 32GB]   2GB     32GB  Samsung               [Black]  \n",
       "...             ...   ...      ...      ...                   ...  \n",
       "1147    [2GB, 32GB]   2GB     32GB    Redmi            [Sea Blue]  \n",
       "1148    [6GB, 64GB]   6GB     64GB    Redmi  [Interstellar Black]  \n",
       "1149  [12GB, 256GB]  12GB    256GB  OnePlus         [Blue Marble]  \n",
       "1150  [12GB, 256GB]  12GB    256GB  OnePlus           [Gray Onyx]  \n",
       "1151    [4GB, 64GB]   4GB     64GB  Samsung                [Blue]  \n",
       "\n",
       "[1152 rows x 8 columns]"
      ]
     },
     "execution_count": 180,
     "metadata": {},
     "output_type": "execute_result"
    }
   ],
   "source": [
    "Mobile_Data"
   ]
  },
  {
   "cell_type": "code",
   "execution_count": 179,
   "metadata": {},
   "outputs": [
    {
     "data": {
      "text/plain": [
       "<AxesSubplot:xlabel='Brand', ylabel='Price'>"
      ]
     },
     "execution_count": 179,
     "metadata": {},
     "output_type": "execute_result"
    },
    {
     "data": {
      "image/png": "[encoded data removed]",
      "text/plain": [
       "<Figure size 432x288 with 1 Axes>"
      ]
     },
     "metadata": {
      "needs_background": "light"
     },
     "output_type": "display_data"
    }
   ],
   "source": [
    "sns.boxplot(x=Mobile_Data['Brand'] , y = Mobile_Data['Price'])"
   ]
  },
  {
   "cell_type": "code",
   "execution_count": 182,
   "metadata": {},
   "outputs": [
    {
     "data": {
      "text/html": [
       "<div>\n",
       "<style scoped>\n",
       "    .dataframe tbody tr th:only-of-type {\n",
       "        vertical-align: middle;\n",
       "    }\n",
       "\n",
       "    .dataframe tbody tr th {\n",
       "        vertical-align: top;\n",
       "    }\n",
       "\n",
       "    .dataframe thead th {\n",
       "        text-align: right;\n",
       "    }\n",
       "</style>\n",
       "<table border=\"1\" class=\"dataframe\">\n",
       "  <thead>\n",
       "    <tr style=\"text-align: right;\">\n",
       "      <th>Brand</th>\n",
       "      <th>OPPO</th>\n",
       "      <th>OnePlus</th>\n",
       "      <th>Oppo</th>\n",
       "      <th>Panasonic</th>\n",
       "      <th>Redmi</th>\n",
       "      <th>Samsung</th>\n",
       "      <th>Tecno</th>\n",
       "      <th>Vivo</th>\n",
       "    </tr>\n",
       "    <tr>\n",
       "      <th>Ram</th>\n",
       "      <th></th>\n",
       "      <th></th>\n",
       "      <th></th>\n",
       "      <th></th>\n",
       "      <th></th>\n",
       "      <th></th>\n",
       "      <th></th>\n",
       "      <th></th>\n",
       "    </tr>\n",
       "  </thead>\n",
       "  <tbody>\n",
       "    <tr>\n",
       "      <th>12GB</th>\n",
       "      <td>0</td>\n",
       "      <td>96</td>\n",
       "      <td>0</td>\n",
       "      <td>0</td>\n",
       "      <td>0</td>\n",
       "      <td>0</td>\n",
       "      <td>0</td>\n",
       "      <td>0</td>\n",
       "    </tr>\n",
       "    <tr>\n",
       "      <th>2GB</th>\n",
       "      <td>0</td>\n",
       "      <td>0</td>\n",
       "      <td>0</td>\n",
       "      <td>48</td>\n",
       "      <td>96</td>\n",
       "      <td>48</td>\n",
       "      <td>0</td>\n",
       "      <td>96</td>\n",
       "    </tr>\n",
       "    <tr>\n",
       "      <th>4GB</th>\n",
       "      <td>96</td>\n",
       "      <td>0</td>\n",
       "      <td>0</td>\n",
       "      <td>0</td>\n",
       "      <td>144</td>\n",
       "      <td>144</td>\n",
       "      <td>48</td>\n",
       "      <td>0</td>\n",
       "    </tr>\n",
       "    <tr>\n",
       "      <th>6GB</th>\n",
       "      <td>0</td>\n",
       "      <td>0</td>\n",
       "      <td>96</td>\n",
       "      <td>0</td>\n",
       "      <td>48</td>\n",
       "      <td>192</td>\n",
       "      <td>0</td>\n",
       "      <td>0</td>\n",
       "    </tr>\n",
       "  </tbody>\n",
       "</table>\n",
       "</div>"
      ],
      "text/plain": [
       "Brand  OPPO  OnePlus  Oppo  Panasonic  Redmi  Samsung  Tecno  Vivo\n",
       "Ram                                                               \n",
       "12GB      0       96     0          0      0        0      0     0\n",
       "2GB       0        0     0         48     96       48      0    96\n",
       "4GB      96        0     0          0    144      144     48     0\n",
       "6GB       0        0    96          0     48      192      0     0"
      ]
     },
     "execution_count": 182,
     "metadata": {},
     "output_type": "execute_result"
    }
   ],
   "source": [
    "pd.crosstab(index = Mobile_Data['Ram'], columns =Mobile_Data['Brand'] )"
   ]
  },
  {
   "cell_type": "code",
   "execution_count": 206,
   "metadata": {},
   "outputs": [
    {
     "data": {
      "text/html": [
       "<div>\n",
       "<style scoped>\n",
       "    .dataframe tbody tr th:only-of-type {\n",
       "        vertical-align: middle;\n",
       "    }\n",
       "\n",
       "    .dataframe tbody tr th {\n",
       "        vertical-align: top;\n",
       "    }\n",
       "\n",
       "    .dataframe thead th {\n",
       "        text-align: right;\n",
       "    }\n",
       "</style>\n",
       "<table border=\"1\" class=\"dataframe\">\n",
       "  <thead>\n",
       "    <tr style=\"text-align: right;\">\n",
       "      <th>Brand</th>\n",
       "      <th>OPPO</th>\n",
       "      <th>OnePlus</th>\n",
       "      <th>Oppo</th>\n",
       "      <th>Panasonic</th>\n",
       "      <th>Redmi</th>\n",
       "      <th>Samsung</th>\n",
       "      <th>Tecno</th>\n",
       "      <th>Vivo</th>\n",
       "    </tr>\n",
       "    <tr>\n",
       "      <th>Capacity</th>\n",
       "      <th></th>\n",
       "      <th></th>\n",
       "      <th></th>\n",
       "      <th></th>\n",
       "      <th></th>\n",
       "      <th></th>\n",
       "      <th></th>\n",
       "      <th></th>\n",
       "    </tr>\n",
       "  </thead>\n",
       "  <tbody>\n",
       "    <tr>\n",
       "      <th>128GB</th>\n",
       "      <td>0</td>\n",
       "      <td>0</td>\n",
       "      <td>96</td>\n",
       "      <td>0</td>\n",
       "      <td>0</td>\n",
       "      <td>192</td>\n",
       "      <td>0</td>\n",
       "      <td>0</td>\n",
       "    </tr>\n",
       "    <tr>\n",
       "      <th>16GB</th>\n",
       "      <td>0</td>\n",
       "      <td>0</td>\n",
       "      <td>0</td>\n",
       "      <td>48</td>\n",
       "      <td>0</td>\n",
       "      <td>0</td>\n",
       "      <td>0</td>\n",
       "      <td>0</td>\n",
       "    </tr>\n",
       "    <tr>\n",
       "      <th>256GB</th>\n",
       "      <td>0</td>\n",
       "      <td>96</td>\n",
       "      <td>0</td>\n",
       "      <td>0</td>\n",
       "      <td>0</td>\n",
       "      <td>0</td>\n",
       "      <td>0</td>\n",
       "      <td>0</td>\n",
       "    </tr>\n",
       "    <tr>\n",
       "      <th>32GB</th>\n",
       "      <td>0</td>\n",
       "      <td>0</td>\n",
       "      <td>0</td>\n",
       "      <td>0</td>\n",
       "      <td>96</td>\n",
       "      <td>48</td>\n",
       "      <td>0</td>\n",
       "      <td>96</td>\n",
       "    </tr>\n",
       "    <tr>\n",
       "      <th>64GB</th>\n",
       "      <td>96</td>\n",
       "      <td>0</td>\n",
       "      <td>0</td>\n",
       "      <td>0</td>\n",
       "      <td>192</td>\n",
       "      <td>144</td>\n",
       "      <td>48</td>\n",
       "      <td>0</td>\n",
       "    </tr>\n",
       "  </tbody>\n",
       "</table>\n",
       "</div>"
      ],
      "text/plain": [
       "Brand     OPPO  OnePlus  Oppo  Panasonic  Redmi  Samsung  Tecno  Vivo\n",
       "Capacity                                                             \n",
       "128GB        0        0    96          0      0      192      0     0\n",
       "16GB         0        0     0         48      0        0      0     0\n",
       "256GB        0       96     0          0      0        0      0     0\n",
       "32GB         0        0     0          0     96       48      0    96\n",
       "64GB        96        0     0          0    192      144     48     0"
      ]
     },
     "execution_count": 206,
     "metadata": {},
     "output_type": "execute_result"
    }
   ],
   "source": [
    "pd.crosstab(index = Mobile_Data['Capacity'], columns =Mobile_Data['Brand'] )"
   ]
  },
  {
   "cell_type": "code",
   "execution_count": 188,
   "metadata": {},
   "outputs": [
    {
     "data": {
      "text/plain": [
       "<AxesSubplot:>"
      ]
     },
     "execution_count": 188,
     "metadata": {},
     "output_type": "execute_result"
    },
    {
     "data": {
      "image/png": "[encoded data removed]",
      "text/plain": [
       "<Figure size 432x288 with 1 Axes>"
      ]
     },
     "metadata": {
      "needs_background": "light"
     },
     "output_type": "display_data"
    }
   ],
   "source": [
    "Mobile_Data['Brand'].value_counts().plot.bar()"
   ]
  },
  {
   "cell_type": "code",
   "execution_count": 209,
   "metadata": {},
   "outputs": [
    {
     "data": {
      "text/plain": [
       "<AxesSubplot:xlabel='Brand', ylabel='Review'>"
      ]
     },
     "execution_count": 209,
     "metadata": {},
     "output_type": "execute_result"
    },
    {
     "data": {
      "image/png": "[encoded data removed]",
      "text/plain": [
       "<Figure size 432x288 with 1 Axes>"
      ]
     },
     "metadata": {
      "needs_background": "light"
     },
     "output_type": "display_data"
    }
   ],
   "source": [
    "sns.lineplot(x = Mobile_Data['Brand'], y = Mobile_Data['Review'] ,ci =None)"
   ]
  },
  {
   "cell_type": "code",
   "execution_count": 224,
   "metadata": {},
   "outputs": [
    {
     "data": {
      "text/plain": [
       "Brand\n",
       "OPPO          96\n",
       "OnePlus       96\n",
       "Oppo          96\n",
       "Panasonic     48\n",
       "Redmi        288\n",
       "Samsung      384\n",
       "Tecno         48\n",
       "Vivo          96\n",
       "Name: Brand, dtype: int64"
      ]
     },
     "execution_count": 224,
     "metadata": {},
     "output_type": "execute_result"
    }
   ],
   "source": [
    "Mobile_Data.groupby(by = 'Brand')['Brand'].count()"
   ]
  },
  {
   "cell_type": "code",
   "execution_count": 225,
   "metadata": {},
   "outputs": [
    {
     "data": {
      "text/plain": [
       "<AxesSubplot:ylabel='Brand'>"
      ]
     },
     "execution_count": 225,
     "metadata": {},
     "output_type": "execute_result"
    },
    {
     "data": {
      "image/png": "[encoded data removed]",
      "text/plain": [
       "<Figure size 504x504 with 1 Axes>"
      ]
     },
     "metadata": {},
     "output_type": "display_data"
    }
   ],
   "source": [
    "plt.figure(figsize =(7,7))\n",
    "Mobile_Data.groupby(by = 'Brand')['Brand'].count().plot.pie(autopct = '%0.00f%%')"
   ]
  },
  {
   "cell_type": "code",
   "execution_count": null,
   "metadata": {},
   "outputs": [],
   "source": []
  }
 ],
 "metadata": {
  "kernelspec": {
   "display_name": "Python 3",
   "language": "python",
   "name": "python3"
  },
  "language_info": {
   "codemirror_mode": {
    "name": "ipython",
    "version": 3
   },
   "file_extension": ".py",
   "mimetype": "text/x-python",
   "name": "python",
   "nbconvert_exporter": "python",
   "pygments_lexer": "ipython3",
   "version": "3.8.5"
  }
 },
 "nbformat": 4,
 "nbformat_minor": 4
}
