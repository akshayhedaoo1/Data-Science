{
 "cells": [
  {
   "cell_type": "code",
   "execution_count": 1,
   "metadata": {},
   "outputs": [],
   "source": [
    "import numpy as np\n",
    "import pandas as pd\n",
    "import os\n",
    "import cv2\n",
    "import matplotlib.pyplot as plt"
   ]
  },
  {
   "cell_type": "code",
   "execution_count": 5,
   "metadata": {},
   "outputs": [],
   "source": [
    "from sklearn.model_selection import train_test_split\n",
    "from keras.models import Model\n",
    "from keras.layers import *\n",
    "from tensorflow.keras.optimizers import Adam\n",
    "from keras.preprocessing.image import ImageDataGenerator \n",
    "import keras.backend as k"
   ]
  },
  {
   "cell_type": "code",
   "execution_count": null,
   "metadata": {},
   "outputs": [],
   "source": [
    "Img_path = \n",
    "Mask_path = \n"
   ]
  },
  {
   "cell_type": "code",
   "execution_count": null,
   "metadata": {},
   "outputs": [],
   "source": [
    "# List of images\n",
    "all_images =[x for x in sorted(os.listdir(Img_path)) if x[-4:]== '.tif']\n",
    "all_masks = [x for x in sorted(os.listdir(Mask_path)) if x[-4:] == '.tif']\n",
    "print(len(all_images))\n",
    "print(len(all_masks))"
   ]
  },
  {
   "cell_type": "code",
   "execution_count": 6,
   "metadata": {},
   "outputs": [
    {
     "ename": "SyntaxError",
     "evalue": "unexpected EOF while parsing (<ipython-input-6-8e3b346cb37f>, line 3)",
     "output_type": "error",
     "traceback": [
      "\u001b[1;36m  File \u001b[1;32m\"<ipython-input-6-8e3b346cb37f>\"\u001b[1;36m, line \u001b[1;32m3\u001b[0m\n\u001b[1;33m    for i, name in enumerate(all_images):\u001b[0m\n\u001b[1;37m                                         ^\u001b[0m\n\u001b[1;31mSyntaxError\u001b[0m\u001b[1;31m:\u001b[0m unexpected EOF while parsing\n"
     ]
    }
   ],
   "source": [
    "# Resize and Normalize images\n",
    "X_data = np.empty((len(all_images),Img_height, Img_width), dtypes='float32')\n",
    "print(X_data.shape)\n",
    "for i, name in enumerate(all_images):\n",
    "    im = cv2.imread(Img_path+name, cv2.IMREAD_UNCHANGED).astype('int16').astype('float32')\n",
    "    im = cv2.resize(im, dsize = (Img_width, Img_height), Interpolation=cv2.INTER_LANC20S4)\n",
    "    img = (im - np.min(im))/ (np.max(im)- np.min(im))\n",
    "    X_data[i] = img\n",
    "\n",
    "Y_data = np.empty(len(all_images), Img_height, Img_width), dtype='float32')\n",
    "print(Y_data.shape)\n",
    "for i, name in enumerate(all_images):\n",
    "    im = cv2.imread(Mask_path+name, cv2.IMREAD_UNCHANGED).astype('int16').astype('float32')\n",
    "    im = cv2.resize(im, dsize = (Img_width, Img_height), Interpolation=cv2.INTER_NEAREST)\n",
    "    X_data[i] = img"
   ]
  },
  {
   "cell_type": "code",
   "execution_count": null,
   "metadata": {},
   "outputs": [],
   "source": [
    "# Display images\n",
    "fig, ax = plt.subplots(1, 2, figsize=(8,4))\n",
    "ax[0].imshow(X_data[0], cmap='gray')\n",
    "ax[1].imshow(Y_data[0], cmap='gray')\n",
    "plt.show()"
   ]
  },
  {
   "cell_type": "code",
   "execution_count": null,
   "metadata": {},
   "outputs": [],
   "source": [
    "# Train test split\n",
    "X_train, X_test, Y_train, Y_test = train_test_split(X_data, Y_data, test_size=0.5)\n",
    "print(X_train.shape, X_test.shape, Y_train.shape, Y_test.shape)"
   ]
  },
  {
   "cell_type": "code",
   "execution_count": null,
   "metadata": {},
   "outputs": [],
   "source": [
    "# Model building\n",
    "input_layer = Input(shape=X_train.shape[1:])\n",
    "c1 = Conv2D(filters=8, kernel_size=(3,3), activation='relu', padding='same')(input_layer)\n",
    "l = MaxPool2D(strides=(2,2))(c1)\n",
    "c2 = Conv2D(filters=16, kernel_size=(3,3), activation='relu', padding='same')(l)\n",
    "l = MaxPool2D(strides=(2,2))(c2)\n",
    "c3 = Conv2D(filters=32, kernel_size=(3,3), activation='relu', padding='same')\n",
    "l = MaxPoll2D(strides=(2,2))(c3)\n",
    "c4 = Conv2D(filters=64, kernel_size=(1,1), activation='relu', padding='same')\n",
    "l = concatenate([UpSampling2D(size=(2,2))(c4), c3], axis=-1)\n",
    "l = Conv2D(filters=64, kernel_size=(2,2), activation='relu', padding='same')(l)\n",
    "l = concatenate([UpSampling2D(size=(2,2))(l), c2], axis=1)\n",
    "l = Conv2D(filters=32, kernel_size=(2,2), activation='relu', padding='same')(l)\n",
    "l = concatenate([Upsampling2D(size=(2,2)),(l), (c1)], axis=-1)\n",
    "l = Conv2D(filters=16, kernel_size=(2,2), activation='relu', padding='same')(l)\n",
    "l = Conv2D(filters = 64, kernel_size=(1,1), activation='relu')(l)\n",
    "l = Droput(0.5)(1)\n",
    "output_layer = Conv2D(filters = 1, kernel_size=(1,1), actvation='sigmoid')(l)\n",
    "model = Model(input, output_layer)"
   ]
  },
  {
   "cell_type": "code",
   "execution_count": null,
   "metadata": {},
   "outputs": [],
   "source": [
    "# ImageDataGenerator\n",
    "def my_generator(X_train, Y_train, batch_size):\n",
    "    data_generator = ImageDataGenerator(\n",
    "    width_shift_range=0.1,\n",
    "    height_shift_range=0.1,\n",
    "    rotation_range=10,\n",
    "    zoom_range=0.1).flow(Y_train, Y_train, batch_size, seed=seed)\n",
    "    \n",
    "    mask_generator = ImageDataGenerator(\n",
    "    width_shift_range = 0.1,\n",
    "    height_shift_range = 0.1,\n",
    "    rotation_range=10,\n",
    "    zoom_range=0.1).flow(Y_train, Y_train, batch_size, seed=Seed)\n",
    "    \n",
    "    while True:\n",
    "        x_batch = data_generator.next()\n",
    "        y_batch = data_generator.next()\n",
    "        yield x_batch, y_batch\n",
    "        "
   ]
  },
  {
   "cell_type": "code",
   "execution_count": null,
   "metadata": {},
   "outputs": [],
   "source": [
    "# Display Images after using ImageDataGenerator\n",
    "image_batch, mask_batch = next(my_generator(X_train, Y_train, 8))\n",
    "fig, ax = plt.subplots(8, 2, figsize=(8, 20))\n",
    "for i in range(8):\n",
    "    ax[i,0].imshow(image_batch[i, :, :, 0])\n",
    "    ax[i,0].imshow(mask_batch[i, :, :, 0])\n",
    "plt.show()"
   ]
  },
  {
   "cell_type": "code",
   "execution_count": null,
   "metadata": {},
   "outputs": [],
   "source": []
  }
 ],
 "metadata": {
  "kernelspec": {
   "display_name": "Python 3",
   "language": "python",
   "name": "python3"
  },
  "language_info": {
   "codemirror_mode": {
    "name": "ipython",
    "version": 3
   },
   "file_extension": ".py",
   "mimetype": "text/x-python",
   "name": "python",
   "nbconvert_exporter": "python",
   "pygments_lexer": "ipython3",
   "version": "3.8.5"
  }
 },
 "nbformat": 4,
 "nbformat_minor": 4
}
