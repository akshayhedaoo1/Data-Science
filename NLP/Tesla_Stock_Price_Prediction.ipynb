{
 "cells": [
  {
   "cell_type": "code",
   "execution_count": null,
   "metadata": {
    "id": "lcxm7lx9Rv-E"
   },
   "outputs": [],
   "source": [
    "import numpy as np\n",
    "import pandas as pd\n",
    "import matplotlib.pyplot as plt\n",
    "import tensorflow as tf\n",
    "from tensorflow.keras.layers import Dense, GRU, Dropout\n",
    "from tensorflow.keras.models import Sequential\n",
    "from tensorflow.keras.optimizers import Adam, SGD"
   ]
  },
  {
   "cell_type": "code",
   "execution_count": null,
   "metadata": {
    "colab": {
     "base_uri": "https://localhost:8080/",
     "height": 236
    },
    "id": "rfKGnkcYSgCr",
    "outputId": "bc50fbfe-a697-4a9a-fe6b-8293a29468f3"
   },
   "outputs": [
    {
     "data": {
      "text/html": [
       "<div>\n",
       "<style scoped>\n",
       "    .dataframe tbody tr th:only-of-type {\n",
       "        vertical-align: middle;\n",
       "    }\n",
       "\n",
       "    .dataframe tbody tr th {\n",
       "        vertical-align: top;\n",
       "    }\n",
       "\n",
       "    .dataframe thead th {\n",
       "        text-align: right;\n",
       "    }\n",
       "</style>\n",
       "<table border=\"1\" class=\"dataframe\">\n",
       "  <thead>\n",
       "    <tr style=\"text-align: right;\">\n",
       "      <th></th>\n",
       "      <th>Open</th>\n",
       "      <th>High</th>\n",
       "      <th>Low</th>\n",
       "      <th>Close</th>\n",
       "      <th>Adj Close</th>\n",
       "      <th>Volume</th>\n",
       "    </tr>\n",
       "    <tr>\n",
       "      <th>Date</th>\n",
       "      <th></th>\n",
       "      <th></th>\n",
       "      <th></th>\n",
       "      <th></th>\n",
       "      <th></th>\n",
       "      <th></th>\n",
       "    </tr>\n",
       "  </thead>\n",
       "  <tbody>\n",
       "    <tr>\n",
       "      <th>2020-11-09</th>\n",
       "      <td>439.500000</td>\n",
       "      <td>452.500000</td>\n",
       "      <td>421.000000</td>\n",
       "      <td>421.260010</td>\n",
       "      <td>421.260010</td>\n",
       "      <td>34833000</td>\n",
       "    </tr>\n",
       "    <tr>\n",
       "      <th>2020-11-10</th>\n",
       "      <td>420.089996</td>\n",
       "      <td>420.089996</td>\n",
       "      <td>396.029999</td>\n",
       "      <td>410.359985</td>\n",
       "      <td>410.359985</td>\n",
       "      <td>30284200</td>\n",
       "    </tr>\n",
       "    <tr>\n",
       "      <th>2020-11-11</th>\n",
       "      <td>416.450012</td>\n",
       "      <td>418.700012</td>\n",
       "      <td>410.579987</td>\n",
       "      <td>417.130005</td>\n",
       "      <td>417.130005</td>\n",
       "      <td>17357700</td>\n",
       "    </tr>\n",
       "    <tr>\n",
       "      <th>2020-11-12</th>\n",
       "      <td>415.049988</td>\n",
       "      <td>423.000000</td>\n",
       "      <td>409.519989</td>\n",
       "      <td>411.760010</td>\n",
       "      <td>411.760010</td>\n",
       "      <td>19855100</td>\n",
       "    </tr>\n",
       "    <tr>\n",
       "      <th>2020-11-13</th>\n",
       "      <td>410.850006</td>\n",
       "      <td>412.529999</td>\n",
       "      <td>401.660004</td>\n",
       "      <td>408.500000</td>\n",
       "      <td>408.500000</td>\n",
       "      <td>19771100</td>\n",
       "    </tr>\n",
       "  </tbody>\n",
       "</table>\n",
       "</div>"
      ],
      "text/plain": [
       "                  Open        High  ...   Adj Close    Volume\n",
       "Date                                ...                      \n",
       "2020-11-09  439.500000  452.500000  ...  421.260010  34833000\n",
       "2020-11-10  420.089996  420.089996  ...  410.359985  30284200\n",
       "2020-11-11  416.450012  418.700012  ...  417.130005  17357700\n",
       "2020-11-12  415.049988  423.000000  ...  411.760010  19855100\n",
       "2020-11-13  410.850006  412.529999  ...  408.500000  19771100\n",
       "\n",
       "[5 rows x 6 columns]"
      ]
     },
     "execution_count": 2,
     "metadata": {},
     "output_type": "execute_result"
    }
   ],
   "source": [
    "df = pd.read_csv('/content/drive/MyDrive/TSLA.csv', index_col='Date', parse_dates=['Date'])\n",
    "df.head()"
   ]
  },
  {
   "cell_type": "code",
   "execution_count": null,
   "metadata": {
    "colab": {
     "base_uri": "https://localhost:8080/"
    },
    "id": "oKkDlGAISjOt",
    "outputId": "5e9bf891-bb6d-46e2-9371-0985c7c4fa73"
   },
   "outputs": [
    {
     "data": {
      "text/plain": [
       "(252, 6)"
      ]
     },
     "execution_count": 3,
     "metadata": {},
     "output_type": "execute_result"
    }
   ],
   "source": [
    "df.shape"
   ]
  },
  {
   "cell_type": "code",
   "execution_count": null,
   "metadata": {
    "colab": {
     "base_uri": "https://localhost:8080/"
    },
    "id": "NW7HZGA61X5k",
    "outputId": "723cc291-a153-4853-ba68-11f4d4cd7d51"
   },
   "outputs": [
    {
     "data": {
      "text/plain": [
       "False    252\n",
       "dtype: int64"
      ]
     },
     "execution_count": 4,
     "metadata": {},
     "output_type": "execute_result"
    }
   ],
   "source": [
    "df.duplicated().value_counts()"
   ]
  },
  {
   "cell_type": "code",
   "execution_count": null,
   "metadata": {
    "colab": {
     "base_uri": "https://localhost:8080/",
     "height": 299
    },
    "id": "-uwJjnq9SogF",
    "outputId": "678e3900-31da-4b56-bf03-0beb2cf28774"
   },
   "outputs": [
    {
     "data": {
      "text/html": [
       "<div>\n",
       "<style scoped>\n",
       "    .dataframe tbody tr th:only-of-type {\n",
       "        vertical-align: middle;\n",
       "    }\n",
       "\n",
       "    .dataframe tbody tr th {\n",
       "        vertical-align: top;\n",
       "    }\n",
       "\n",
       "    .dataframe thead th {\n",
       "        text-align: right;\n",
       "    }\n",
       "</style>\n",
       "<table border=\"1\" class=\"dataframe\">\n",
       "  <thead>\n",
       "    <tr style=\"text-align: right;\">\n",
       "      <th></th>\n",
       "      <th>Open</th>\n",
       "      <th>High</th>\n",
       "      <th>Low</th>\n",
       "      <th>Close</th>\n",
       "      <th>Adj Close</th>\n",
       "      <th>Volume</th>\n",
       "    </tr>\n",
       "  </thead>\n",
       "  <tbody>\n",
       "    <tr>\n",
       "      <th>count</th>\n",
       "      <td>252.000000</td>\n",
       "      <td>252.000000</td>\n",
       "      <td>252.000000</td>\n",
       "      <td>252.000000</td>\n",
       "      <td>252.000000</td>\n",
       "      <td>2.520000e+02</td>\n",
       "    </tr>\n",
       "    <tr>\n",
       "      <th>mean</th>\n",
       "      <td>709.057779</td>\n",
       "      <td>723.652499</td>\n",
       "      <td>694.735358</td>\n",
       "      <td>710.600554</td>\n",
       "      <td>710.600554</td>\n",
       "      <td>3.091313e+07</td>\n",
       "    </tr>\n",
       "    <tr>\n",
       "      <th>std</th>\n",
       "      <td>129.580523</td>\n",
       "      <td>133.415348</td>\n",
       "      <td>129.455605</td>\n",
       "      <td>132.404715</td>\n",
       "      <td>132.404715</td>\n",
       "      <td>1.875027e+07</td>\n",
       "    </tr>\n",
       "    <tr>\n",
       "      <th>min</th>\n",
       "      <td>408.929993</td>\n",
       "      <td>412.450012</td>\n",
       "      <td>396.029999</td>\n",
       "      <td>408.089996</td>\n",
       "      <td>408.089996</td>\n",
       "      <td>9.800600e+06</td>\n",
       "    </tr>\n",
       "    <tr>\n",
       "      <th>25%</th>\n",
       "      <td>629.542511</td>\n",
       "      <td>649.610001</td>\n",
       "      <td>618.875000</td>\n",
       "      <td>640.212524</td>\n",
       "      <td>640.212524</td>\n",
       "      <td>1.979450e+07</td>\n",
       "    </tr>\n",
       "    <tr>\n",
       "      <th>50%</th>\n",
       "      <td>688.975006</td>\n",
       "      <td>704.264984</td>\n",
       "      <td>673.029999</td>\n",
       "      <td>688.854981</td>\n",
       "      <td>688.854981</td>\n",
       "      <td>2.694085e+07</td>\n",
       "    </tr>\n",
       "    <tr>\n",
       "      <th>75%</th>\n",
       "      <td>761.845016</td>\n",
       "      <td>774.199997</td>\n",
       "      <td>749.324982</td>\n",
       "      <td>760.197494</td>\n",
       "      <td>760.197494</td>\n",
       "      <td>3.638218e+07</td>\n",
       "    </tr>\n",
       "    <tr>\n",
       "      <th>max</th>\n",
       "      <td>1234.410034</td>\n",
       "      <td>1243.489990</td>\n",
       "      <td>1217.000000</td>\n",
       "      <td>1229.910034</td>\n",
       "      <td>1229.910034</td>\n",
       "      <td>2.221262e+08</td>\n",
       "    </tr>\n",
       "  </tbody>\n",
       "</table>\n",
       "</div>"
      ],
      "text/plain": [
       "              Open         High  ...    Adj Close        Volume\n",
       "count   252.000000   252.000000  ...   252.000000  2.520000e+02\n",
       "mean    709.057779   723.652499  ...   710.600554  3.091313e+07\n",
       "std     129.580523   133.415348  ...   132.404715  1.875027e+07\n",
       "min     408.929993   412.450012  ...   408.089996  9.800600e+06\n",
       "25%     629.542511   649.610001  ...   640.212524  1.979450e+07\n",
       "50%     688.975006   704.264984  ...   688.854981  2.694085e+07\n",
       "75%     761.845016   774.199997  ...   760.197494  3.638218e+07\n",
       "max    1234.410034  1243.489990  ...  1229.910034  2.221262e+08\n",
       "\n",
       "[8 rows x 6 columns]"
      ]
     },
     "execution_count": 5,
     "metadata": {},
     "output_type": "execute_result"
    }
   ],
   "source": [
    "df.describe()"
   ]
  },
  {
   "cell_type": "code",
   "execution_count": null,
   "metadata": {
    "colab": {
     "base_uri": "https://localhost:8080/",
     "height": 297
    },
    "id": "xOXEpDCPS0y_",
    "outputId": "1551f7e1-31bb-415a-94c8-1e3b95e40e49"
   },
   "outputs": [
    {
     "data": {
      "text/plain": [
       "Text(0, 0.5, 'Price')"
      ]
     },
     "execution_count": 6,
     "metadata": {},
     "output_type": "execute_result"
    },
    {
     "data": {
      "image/png": "[encoded data removed]",
      "text/plain": [
       "<Figure size 576x288 with 1 Axes>"
      ]
     },
     "metadata": {
      "needs_background": "light"
     },
     "output_type": "display_data"
    }
   ],
   "source": [
    "plt.figure(figsize=(8, 4))\n",
    "plt.plot(df.index, df['Open'], marker='o')\n",
    "plt.xlabel('Days')\n",
    "plt.ylabel('Price')"
   ]
  },
  {
   "cell_type": "code",
   "execution_count": null,
   "metadata": {
    "colab": {
     "base_uri": "https://localhost:8080/",
     "height": 236
    },
    "id": "oN0E3ZDdTeUW",
    "outputId": "b866bf51-c2c3-40e3-f5b9-ad6fd6fc9691"
   },
   "outputs": [
    {
     "data": {
      "text/html": [
       "<div>\n",
       "<style scoped>\n",
       "    .dataframe tbody tr th:only-of-type {\n",
       "        vertical-align: middle;\n",
       "    }\n",
       "\n",
       "    .dataframe tbody tr th {\n",
       "        vertical-align: top;\n",
       "    }\n",
       "\n",
       "    .dataframe thead th {\n",
       "        text-align: right;\n",
       "    }\n",
       "</style>\n",
       "<table border=\"1\" class=\"dataframe\">\n",
       "  <thead>\n",
       "    <tr style=\"text-align: right;\">\n",
       "      <th></th>\n",
       "      <th>Open</th>\n",
       "      <th>High</th>\n",
       "      <th>Low</th>\n",
       "      <th>Close</th>\n",
       "      <th>Adj Close</th>\n",
       "      <th>Volume</th>\n",
       "    </tr>\n",
       "    <tr>\n",
       "      <th>Date</th>\n",
       "      <th></th>\n",
       "      <th></th>\n",
       "      <th></th>\n",
       "      <th></th>\n",
       "      <th></th>\n",
       "      <th></th>\n",
       "    </tr>\n",
       "  </thead>\n",
       "  <tbody>\n",
       "    <tr>\n",
       "      <th>2020-11-09</th>\n",
       "      <td>439.500000</td>\n",
       "      <td>452.500000</td>\n",
       "      <td>421.000000</td>\n",
       "      <td>421.260010</td>\n",
       "      <td>421.260010</td>\n",
       "      <td>34833000</td>\n",
       "    </tr>\n",
       "    <tr>\n",
       "      <th>2020-11-10</th>\n",
       "      <td>420.089996</td>\n",
       "      <td>420.089996</td>\n",
       "      <td>396.029999</td>\n",
       "      <td>410.359985</td>\n",
       "      <td>410.359985</td>\n",
       "      <td>30284200</td>\n",
       "    </tr>\n",
       "    <tr>\n",
       "      <th>2020-11-11</th>\n",
       "      <td>416.450012</td>\n",
       "      <td>418.700012</td>\n",
       "      <td>410.579987</td>\n",
       "      <td>417.130005</td>\n",
       "      <td>417.130005</td>\n",
       "      <td>17357700</td>\n",
       "    </tr>\n",
       "    <tr>\n",
       "      <th>2020-11-12</th>\n",
       "      <td>415.049988</td>\n",
       "      <td>423.000000</td>\n",
       "      <td>409.519989</td>\n",
       "      <td>411.760010</td>\n",
       "      <td>411.760010</td>\n",
       "      <td>19855100</td>\n",
       "    </tr>\n",
       "    <tr>\n",
       "      <th>2020-11-13</th>\n",
       "      <td>410.850006</td>\n",
       "      <td>412.529999</td>\n",
       "      <td>401.660004</td>\n",
       "      <td>408.500000</td>\n",
       "      <td>408.500000</td>\n",
       "      <td>19771100</td>\n",
       "    </tr>\n",
       "  </tbody>\n",
       "</table>\n",
       "</div>"
      ],
      "text/plain": [
       "                  Open        High  ...   Adj Close    Volume\n",
       "Date                                ...                      \n",
       "2020-11-09  439.500000  452.500000  ...  421.260010  34833000\n",
       "2020-11-10  420.089996  420.089996  ...  410.359985  30284200\n",
       "2020-11-11  416.450012  418.700012  ...  417.130005  17357700\n",
       "2020-11-12  415.049988  423.000000  ...  411.760010  19855100\n",
       "2020-11-13  410.850006  412.529999  ...  408.500000  19771100\n",
       "\n",
       "[5 rows x 6 columns]"
      ]
     },
     "execution_count": 7,
     "metadata": {},
     "output_type": "execute_result"
    }
   ],
   "source": [
    "df.head()"
   ]
  },
  {
   "cell_type": "code",
   "execution_count": null,
   "metadata": {
    "id": "2qW7D6VWUWVd"
   },
   "outputs": [],
   "source": [
    "df['Moving Avg'] = df['Open'].rolling(2).mean()"
   ]
  },
  {
   "cell_type": "code",
   "execution_count": null,
   "metadata": {
    "colab": {
     "base_uri": "https://localhost:8080/",
     "height": 236
    },
    "id": "GYj9Ylh_VGC5",
    "outputId": "0264323f-c542-4571-8be1-bc65602d6151"
   },
   "outputs": [
    {
     "data": {
      "text/html": [
       "<div>\n",
       "<style scoped>\n",
       "    .dataframe tbody tr th:only-of-type {\n",
       "        vertical-align: middle;\n",
       "    }\n",
       "\n",
       "    .dataframe tbody tr th {\n",
       "        vertical-align: top;\n",
       "    }\n",
       "\n",
       "    .dataframe thead th {\n",
       "        text-align: right;\n",
       "    }\n",
       "</style>\n",
       "<table border=\"1\" class=\"dataframe\">\n",
       "  <thead>\n",
       "    <tr style=\"text-align: right;\">\n",
       "      <th></th>\n",
       "      <th>Moving Avg</th>\n",
       "      <th>Open</th>\n",
       "    </tr>\n",
       "    <tr>\n",
       "      <th>Date</th>\n",
       "      <th></th>\n",
       "      <th></th>\n",
       "    </tr>\n",
       "  </thead>\n",
       "  <tbody>\n",
       "    <tr>\n",
       "      <th>2020-11-09</th>\n",
       "      <td>NaN</td>\n",
       "      <td>439.500000</td>\n",
       "    </tr>\n",
       "    <tr>\n",
       "      <th>2020-11-10</th>\n",
       "      <td>429.794998</td>\n",
       "      <td>420.089996</td>\n",
       "    </tr>\n",
       "    <tr>\n",
       "      <th>2020-11-11</th>\n",
       "      <td>418.270004</td>\n",
       "      <td>416.450012</td>\n",
       "    </tr>\n",
       "    <tr>\n",
       "      <th>2020-11-12</th>\n",
       "      <td>415.750000</td>\n",
       "      <td>415.049988</td>\n",
       "    </tr>\n",
       "    <tr>\n",
       "      <th>2020-11-13</th>\n",
       "      <td>412.949997</td>\n",
       "      <td>410.850006</td>\n",
       "    </tr>\n",
       "  </tbody>\n",
       "</table>\n",
       "</div>"
      ],
      "text/plain": [
       "            Moving Avg        Open\n",
       "Date                              \n",
       "2020-11-09         NaN  439.500000\n",
       "2020-11-10  429.794998  420.089996\n",
       "2020-11-11  418.270004  416.450012\n",
       "2020-11-12  415.750000  415.049988\n",
       "2020-11-13  412.949997  410.850006"
      ]
     },
     "execution_count": 9,
     "metadata": {},
     "output_type": "execute_result"
    }
   ],
   "source": [
    "df[['Moving Avg', 'Open']].head()"
   ]
  },
  {
   "cell_type": "code",
   "execution_count": null,
   "metadata": {
    "colab": {
     "base_uri": "https://localhost:8080/",
     "height": 297
    },
    "id": "1VPDx94eVNEA",
    "outputId": "77354c68-0274-430d-d2d6-fd097767f513"
   },
   "outputs": [
    {
     "data": {
      "text/plain": [
       "Text(0, 0.5, 'Price')"
      ]
     },
     "execution_count": 10,
     "metadata": {},
     "output_type": "execute_result"
    },
    {
     "data": {
      "image/png": "[encoded data removed]",
      "text/plain": [
       "<Figure size 576x288 with 1 Axes>"
      ]
     },
     "metadata": {
      "needs_background": "light"
     },
     "output_type": "display_data"
    }
   ],
   "source": [
    "plt.figure(figsize=(8, 4))\n",
    "plt.plot(df.index, df['Open'], marker='o', color='blue')\n",
    "plt.plot(df.index, df['Moving Avg'], color='red')\n",
    "plt.xlabel('Date')\n",
    "plt.ylabel('Price')"
   ]
  },
  {
   "cell_type": "code",
   "execution_count": null,
   "metadata": {
    "colab": {
     "base_uri": "https://localhost:8080/",
     "height": 297
    },
    "id": "jtVPEPWeWzVt",
    "outputId": "5cf66f86-688c-4441-9bba-fceabb4e890d"
   },
   "outputs": [
    {
     "data": {
      "text/plain": [
       "Text(0, 0.5, 'Price')"
      ]
     },
     "execution_count": 11,
     "metadata": {},
     "output_type": "execute_result"
    },
    {
     "data": {
      "image/png": "[encoded data removed]",
      "text/plain": [
       "<Figure size 576x288 with 1 Axes>"
      ]
     },
     "metadata": {
      "needs_background": "light"
     },
     "output_type": "display_data"
    }
   ],
   "source": [
    "plt.figure(figsize=(8, 4))\n",
    "plt.plot(df.index, df['Close'], marker='o')\n",
    "plt.xlabel('Days')\n",
    "plt.ylabel('Price')"
   ]
  },
  {
   "cell_type": "code",
   "execution_count": null,
   "metadata": {
    "colab": {
     "base_uri": "https://localhost:8080/",
     "height": 293
    },
    "id": "g-a7ba9YuBJk",
    "outputId": "a5227730-bf1b-4710-cfbd-25b7734a4f86"
   },
   "outputs": [
    {
     "data": {
      "image/png": "[encoded data removed]",
      "text/plain": [
       "<Figure size 1152x288 with 1 Axes>"
      ]
     },
     "metadata": {
      "needs_background": "light"
     },
     "output_type": "display_data"
    }
   ],
   "source": [
    "df['Close'][:'2021-07'].plot(figsize=(16,4), legend=True)\n",
    "df['Close']['2021-07':].plot(figsize=(16,4), legend=True)\n",
    "plt.legend(['Before July', 'After July'])\n",
    "plt.title('Tesla stock Price')\n",
    "plt.show()"
   ]
  },
  {
   "cell_type": "code",
   "execution_count": null,
   "metadata": {
    "id": "e2rC9Nx2wHt3"
   },
   "outputs": [],
   "source": [
    "training_set = df[:'2021-07']['Close'].values\n",
    "test_set = df['2021-07':]['Close'].values"
   ]
  },
  {
   "cell_type": "code",
   "execution_count": null,
   "metadata": {
    "id": "Ey84WiA0XLQb"
   },
   "outputs": [],
   "source": [
    "from sklearn.preprocessing import MinMaxScaler\n",
    "SC = MinMaxScaler(feature_range=(0,1))\n",
    "training_Set_Scaled = SC.fit_transform(np.array(training_set).reshape(-1,1))\n",
    "test_set_Scaled  = SC.fit_transform(np.array(test_set).reshape(-1, 1))"
   ]
  },
  {
   "cell_type": "code",
   "execution_count": null,
   "metadata": {
    "colab": {
     "base_uri": "https://localhost:8080/"
    },
    "id": "ec1DmghD1NV5",
    "outputId": "ab914793-8700-493f-c9af-1f663a7fd8c0"
   },
   "outputs": [
    {
     "data": {
      "text/plain": [
       "array([[0.02772634],\n",
       "       [0.00477892],\n",
       "       [0.0190316 ],\n",
       "       [0.00772634],\n",
       "       [0.00086317]])"
      ]
     },
     "execution_count": 15,
     "metadata": {},
     "output_type": "execute_result"
    }
   ],
   "source": [
    "training_Set_Scaled[0:5]"
   ]
  },
  {
   "cell_type": "code",
   "execution_count": null,
   "metadata": {
    "id": "vYGwGdBJwa0v"
   },
   "outputs": [],
   "source": [
    "def create_dataset(dataset, time_step=1):\n",
    "    dataX, dataY = [], []\n",
    "    for i in range(len(dataset) - time_step - 1):\n",
    "        a = dataset[i : (i+time_step), 0]\n",
    "        dataX.append(a)\n",
    "        dataY.append(dataset[i + time_step, 0])\n",
    "    return np.array(dataX), np.array(dataY)"
   ]
  },
  {
   "cell_type": "code",
   "execution_count": null,
   "metadata": {
    "id": "LDgJ7g15xLjH"
   },
   "outputs": [],
   "source": [
    "time_step=1\n",
    "X_train, Y_train = create_dataset(training_Set_Scaled, time_step)\n",
    "X_test, Y_test = create_dataset(test_set_Scaled, time_step)"
   ]
  },
  {
   "cell_type": "code",
   "execution_count": null,
   "metadata": {
    "colab": {
     "base_uri": "https://localhost:8080/"
    },
    "id": "WFbWVeUYxLq8",
    "outputId": "639293b8-e492-4edf-e9e1-f6fbd6049526"
   },
   "outputs": [
    {
     "name": "stdout",
     "output_type": "stream",
     "text": [
      "(180, 1) (89, 1) (180,) (89,)\n"
     ]
    }
   ],
   "source": [
    "print(X_train.shape, X_test.shape, Y_train.shape, Y_test.shape)"
   ]
  },
  {
   "cell_type": "code",
   "execution_count": null,
   "metadata": {
    "colab": {
     "base_uri": "https://localhost:8080/"
    },
    "id": "YeDgOqWp_9O0",
    "outputId": "6d2ef784-0cc2-4126-dec1-3bf76dcd3c8c"
   },
   "outputs": [
    {
     "data": {
      "text/plain": [
       "array([[2.77263435e-02],\n",
       "       [4.77892390e-03],\n",
       "       [1.90315967e-02],\n",
       "       [7.72634476e-03],\n",
       "       [8.63166259e-04],\n",
       "       [0.00000000e+00],\n",
       "       [7.05683933e-02],\n",
       "       [1.65368450e-01],\n",
       "       [1.91957867e-01],\n",
       "       [1.71621018e-01],\n",
       "       [2.39494679e-01],\n",
       "       [3.10084209e-01],\n",
       "       [3.49284196e-01],\n",
       "       [3.74042110e-01],\n",
       "       [3.35810462e-01],\n",
       "       [3.71936847e-01],\n",
       "       [3.38378948e-01],\n",
       "       [3.90084204e-01],\n",
       "       [4.01999936e-01],\n",
       "       [4.91936839e-01],\n",
       "       [5.09031565e-01],\n",
       "       [4.13452571e-01],\n",
       "       [4.61010519e-01],\n",
       "       [4.25052591e-01],\n",
       "       [4.87873697e-01],\n",
       "       [4.74021030e-01],\n",
       "       [4.51957916e-01],\n",
       "       [5.21705288e-01],\n",
       "       [6.04021022e-01],\n",
       "       [5.08989417e-01],\n",
       "       [4.88947402e-01],\n",
       "       [5.00820986e-01],\n",
       "       [5.34063174e-01],\n",
       "       [5.38105241e-01],\n",
       "       [5.42947320e-01],\n",
       "       [6.03557925e-01],\n",
       "       [6.26484142e-01],\n",
       "       [6.77221059e-01],\n",
       "       [6.88463090e-01],\n",
       "       [7.32399919e-01],\n",
       "       [8.58842011e-01],\n",
       "       [9.93536828e-01],\n",
       "       [8.48631536e-01],\n",
       "       [9.29157847e-01],\n",
       "       [9.39620943e-01],\n",
       "       [9.19810475e-01],\n",
       "       [8.80147263e-01],\n",
       "       [9.18863081e-01],\n",
       "       [9.31284183e-01],\n",
       "       [9.19789401e-01],\n",
       "       [9.23263138e-01],\n",
       "       [9.95178866e-01],\n",
       "       [1.00000000e+00],\n",
       "       [9.60147257e-01],\n",
       "       [8.99663093e-01],\n",
       "       [8.11452648e-01],\n",
       "       [9.08884155e-01],\n",
       "       [9.78315688e-01],\n",
       "       [9.40210478e-01],\n",
       "       [9.30315716e-01],\n",
       "       [9.35031484e-01],\n",
       "       [9.58589384e-01],\n",
       "       [9.29199994e-01],\n",
       "       [8.35221021e-01],\n",
       "       [8.49620949e-01],\n",
       "       [8.59010468e-01],\n",
       "       [8.17115684e-01],\n",
       "       [8.21178953e-01],\n",
       "       [7.98505230e-01],\n",
       "       [7.85705195e-01],\n",
       "       [6.45073651e-01],\n",
       "       [6.12105288e-01],\n",
       "       [7.03010531e-01],\n",
       "       [5.77115699e-01],\n",
       "       [5.62968393e-01],\n",
       "       [6.53347319e-01],\n",
       "       [5.85999974e-01],\n",
       "       [5.16021053e-01],\n",
       "       [4.49157878e-01],\n",
       "       [3.99705271e-01],\n",
       "       [3.26126303e-01],\n",
       "       [5.58926324e-01],\n",
       "       [5.47305232e-01],\n",
       "       [6.13705181e-01],\n",
       "       [6.01347295e-01],\n",
       "       [6.31263129e-01],\n",
       "       [5.65873666e-01],\n",
       "       [6.18357859e-01],\n",
       "       [5.15936760e-01],\n",
       "       [5.19536806e-01],\n",
       "       [5.51389446e-01],\n",
       "       [5.34884127e-01],\n",
       "       [4.67747388e-01],\n",
       "       [4.89052640e-01],\n",
       "       [4.43410552e-01],\n",
       "       [4.27789408e-01],\n",
       "       [4.79010493e-01],\n",
       "       [5.47031537e-01],\n",
       "       [5.34021026e-01],\n",
       "       [5.95705207e-01],\n",
       "       [5.96905222e-01],\n",
       "       [5.53431490e-01],\n",
       "       [5.80442051e-01],\n",
       "       [5.66168435e-01],\n",
       "       [6.18715715e-01],\n",
       "       [7.45747343e-01],\n",
       "       [6.82399922e-01],\n",
       "       [6.96336755e-01],\n",
       "       [6.98294761e-01],\n",
       "       [6.45347345e-01],\n",
       "       [6.54526260e-01],\n",
       "       [7.07431531e-01],\n",
       "       [6.55999970e-01],\n",
       "       [6.76442120e-01],\n",
       "       [6.94968409e-01],\n",
       "       [6.24526262e-01],\n",
       "       [6.02757914e-01],\n",
       "       [5.66126287e-01],\n",
       "       [6.34421024e-01],\n",
       "       [5.82757916e-01],\n",
       "       [5.58968342e-01],\n",
       "       [5.53368398e-01],\n",
       "       [5.37789401e-01],\n",
       "       [5.56378909e-01],\n",
       "       [4.65157826e-01],\n",
       "       [4.40231584e-01],\n",
       "       [3.82736857e-01],\n",
       "       [3.44421043e-01],\n",
       "       [3.82421015e-01],\n",
       "       [3.55242126e-01],\n",
       "       [3.57431554e-01],\n",
       "       [3.27094770e-01],\n",
       "       [3.76189519e-01],\n",
       "       [3.63768416e-01],\n",
       "       [4.17578933e-01],\n",
       "       [4.13894722e-01],\n",
       "       [4.44294727e-01],\n",
       "       [4.68968348e-01],\n",
       "       [4.57115707e-01],\n",
       "       [4.54336871e-01],\n",
       "       [4.14799971e-01],\n",
       "       [3.46842148e-01],\n",
       "       [4.02021010e-01],\n",
       "       [4.14821045e-01],\n",
       "       [4.11578986e-01],\n",
       "       [4.01452675e-01],\n",
       "       [4.25326286e-01],\n",
       "       [4.24842118e-01],\n",
       "       [4.41263142e-01],\n",
       "       [4.02673635e-01],\n",
       "       [4.14273655e-01],\n",
       "       [4.38968350e-01],\n",
       "       [4.53094711e-01],\n",
       "       [4.47873699e-01],\n",
       "       [4.53936867e-01],\n",
       "       [5.23115778e-01],\n",
       "       [5.72063144e-01],\n",
       "       [5.55326277e-01],\n",
       "       [5.90799909e-01],\n",
       "       [5.74042097e-01],\n",
       "       [5.71810523e-01],\n",
       "       [5.68063093e-01],\n",
       "       [5.70126338e-01],\n",
       "       [5.29452641e-01],\n",
       "       [4.98021079e-01],\n",
       "       [5.15199971e-01],\n",
       "       [5.23915789e-01],\n",
       "       [5.84442101e-01],\n",
       "       [5.48315716e-01],\n",
       "       [5.16399985e-01],\n",
       "       [5.10547293e-01],\n",
       "       [4.97115704e-01],\n",
       "       [5.01326230e-01],\n",
       "       [5.31389447e-01],\n",
       "       [5.20420981e-01],\n",
       "       [5.07726312e-01],\n",
       "       [4.95347355e-01],\n",
       "       [5.25326279e-01],\n",
       "       [4.98294774e-01],\n",
       "       [5.02926249e-01]])"
      ]
     },
     "execution_count": 25,
     "metadata": {},
     "output_type": "execute_result"
    }
   ],
   "source": [
    "X_train"
   ]
  },
  {
   "cell_type": "code",
   "execution_count": null,
   "metadata": {
    "id": "basZQUeJxb5N"
   },
   "outputs": [],
   "source": [
    "model = Sequential()\n",
    "model.add(GRU(50, return_sequences=True, input_shape=(180,1)))\n",
    "model.add(Dropout(0.2))\n",
    "model.add(GRU(50, return_sequences=True))\n",
    "model.add(Dropout(0.2))\n",
    "model.add(GRU(50))\n",
    "model.add(Dense(1))\n",
    "model.compile(loss='mean_squared_error', optimizer = 'adam', metrics=['accuracy'])"
   ]
  },
  {
   "cell_type": "code",
   "execution_count": null,
   "metadata": {
    "colab": {
     "base_uri": "https://localhost:8080/"
    },
    "id": "qzNuNJ2K0ApV",
    "outputId": "5c6716d0-93b1-4532-83d1-9200eda29ed2"
   },
   "outputs": [
    {
     "name": "stdout",
     "output_type": "stream",
     "text": [
      "Model: \"sequential\"\n",
      "_________________________________________________________________\n",
      " Layer (type)                Output Shape              Param #   \n",
      "=================================================================\n",
      " gru (GRU)                   (None, 180, 50)           7950      \n",
      "                                                                 \n",
      " dropout (Dropout)           (None, 180, 50)           0         \n",
      "                                                                 \n",
      " gru_1 (GRU)                 (None, 180, 50)           15300     \n",
      "                                                                 \n",
      " dropout_1 (Dropout)         (None, 180, 50)           0         \n",
      "                                                                 \n",
      " gru_2 (GRU)                 (None, 50)                15300     \n",
      "                                                                 \n",
      " dense (Dense)               (None, 1)                 51        \n",
      "                                                                 \n",
      "=================================================================\n",
      "Total params: 38,601\n",
      "Trainable params: 38,601\n",
      "Non-trainable params: 0\n",
      "_________________________________________________________________\n"
     ]
    }
   ],
   "source": [
    "model.summary()"
   ]
  },
  {
   "cell_type": "code",
   "execution_count": null,
   "metadata": {
    "colab": {
     "base_uri": "https://localhost:8080/"
    },
    "id": "zsc3HVB6y_UE",
    "outputId": "22b46104-3851-4436-b578-1b764998dad4"
   },
   "outputs": [
    {
     "name": "stdout",
     "output_type": "stream",
     "text": [
      "Epoch 1/100\n",
      "WARNING:tensorflow:Model was constructed with shape (None, 180, 1) for input KerasTensor(type_spec=TensorSpec(shape=(None, 180, 1), dtype=tf.float32, name='gru_input'), name='gru_input', description=\"created by layer 'gru_input'\"), but it was called on an input with incompatible shape (None, 1, 1).\n",
      "WARNING:tensorflow:Model was constructed with shape (None, 180, 1) for input KerasTensor(type_spec=TensorSpec(shape=(None, 180, 1), dtype=tf.float32, name='gru_input'), name='gru_input', description=\"created by layer 'gru_input'\"), but it was called on an input with incompatible shape (None, 1, 1).\n",
      "WARNING:tensorflow:Model was constructed with shape (None, 180, 1) for input KerasTensor(type_spec=TensorSpec(shape=(None, 180, 1), dtype=tf.float32, name='gru_input'), name='gru_input', description=\"created by layer 'gru_input'\"), but it was called on an input with incompatible shape (None, 1, 1).\n",
      "3/3 - 6s - loss: 0.3104 - accuracy: 0.0056 - val_loss: 0.0838 - val_accuracy: 0.0112 - 6s/epoch - 2s/step\n",
      "Epoch 2/100\n",
      "3/3 - 0s - loss: 0.2563 - accuracy: 0.0056 - val_loss: 0.0659 - val_accuracy: 0.0112 - 35ms/epoch - 12ms/step\n",
      "Epoch 3/100\n",
      "3/3 - 0s - loss: 0.2007 - accuracy: 0.0056 - val_loss: 0.0505 - val_accuracy: 0.0112 - 33ms/epoch - 11ms/step\n",
      "Epoch 4/100\n",
      "3/3 - 0s - loss: 0.1419 - accuracy: 0.0056 - val_loss: 0.0398 - val_accuracy: 0.0112 - 33ms/epoch - 11ms/step\n",
      "Epoch 5/100\n",
      "3/3 - 0s - loss: 0.0896 - accuracy: 0.0056 - val_loss: 0.0375 - val_accuracy: 0.0112 - 35ms/epoch - 12ms/step\n",
      "Epoch 6/100\n",
      "3/3 - 0s - loss: 0.0477 - accuracy: 0.0056 - val_loss: 0.0482 - val_accuracy: 0.0225 - 32ms/epoch - 11ms/step\n",
      "Epoch 7/100\n",
      "3/3 - 0s - loss: 0.0188 - accuracy: 0.0111 - val_loss: 0.0735 - val_accuracy: 0.0225 - 33ms/epoch - 11ms/step\n",
      "Epoch 8/100\n",
      "3/3 - 0s - loss: 0.0234 - accuracy: 0.0111 - val_loss: 0.1020 - val_accuracy: 0.0225 - 35ms/epoch - 12ms/step\n",
      "Epoch 9/100\n",
      "3/3 - 0s - loss: 0.0336 - accuracy: 0.0111 - val_loss: 0.1096 - val_accuracy: 0.0225 - 36ms/epoch - 12ms/step\n",
      "Epoch 10/100\n",
      "3/3 - 0s - loss: 0.0340 - accuracy: 0.0111 - val_loss: 0.0957 - val_accuracy: 0.0225 - 36ms/epoch - 12ms/step\n",
      "Epoch 11/100\n",
      "3/3 - 0s - loss: 0.0252 - accuracy: 0.0111 - val_loss: 0.0760 - val_accuracy: 0.0225 - 35ms/epoch - 12ms/step\n",
      "Epoch 12/100\n",
      "3/3 - 0s - loss: 0.0174 - accuracy: 0.0111 - val_loss: 0.0610 - val_accuracy: 0.0225 - 36ms/epoch - 12ms/step\n",
      "Epoch 13/100\n",
      "3/3 - 0s - loss: 0.0160 - accuracy: 0.0111 - val_loss: 0.0520 - val_accuracy: 0.0225 - 38ms/epoch - 13ms/step\n",
      "Epoch 14/100\n",
      "3/3 - 0s - loss: 0.0195 - accuracy: 0.0111 - val_loss: 0.0478 - val_accuracy: 0.0225 - 44ms/epoch - 15ms/step\n",
      "Epoch 15/100\n",
      "3/3 - 0s - loss: 0.0194 - accuracy: 0.0111 - val_loss: 0.0467 - val_accuracy: 0.0225 - 54ms/epoch - 18ms/step\n",
      "Epoch 16/100\n",
      "3/3 - 0s - loss: 0.0193 - accuracy: 0.0111 - val_loss: 0.0478 - val_accuracy: 0.0225 - 36ms/epoch - 12ms/step\n",
      "Epoch 17/100\n",
      "3/3 - 0s - loss: 0.0182 - accuracy: 0.0111 - val_loss: 0.0504 - val_accuracy: 0.0225 - 36ms/epoch - 12ms/step\n",
      "Epoch 18/100\n",
      "3/3 - 0s - loss: 0.0147 - accuracy: 0.0111 - val_loss: 0.0534 - val_accuracy: 0.0225 - 37ms/epoch - 12ms/step\n",
      "Epoch 19/100\n",
      "3/3 - 0s - loss: 0.0148 - accuracy: 0.0111 - val_loss: 0.0552 - val_accuracy: 0.0225 - 41ms/epoch - 14ms/step\n",
      "Epoch 20/100\n",
      "3/3 - 0s - loss: 0.0157 - accuracy: 0.0111 - val_loss: 0.0539 - val_accuracy: 0.0225 - 35ms/epoch - 12ms/step\n",
      "Epoch 21/100\n",
      "3/3 - 0s - loss: 0.0135 - accuracy: 0.0111 - val_loss: 0.0503 - val_accuracy: 0.0225 - 38ms/epoch - 13ms/step\n",
      "Epoch 22/100\n",
      "3/3 - 0s - loss: 0.0132 - accuracy: 0.0111 - val_loss: 0.0455 - val_accuracy: 0.0225 - 33ms/epoch - 11ms/step\n",
      "Epoch 23/100\n",
      "3/3 - 0s - loss: 0.0134 - accuracy: 0.0111 - val_loss: 0.0405 - val_accuracy: 0.0225 - 35ms/epoch - 12ms/step\n",
      "Epoch 24/100\n",
      "3/3 - 0s - loss: 0.0120 - accuracy: 0.0111 - val_loss: 0.0363 - val_accuracy: 0.0225 - 35ms/epoch - 12ms/step\n",
      "Epoch 25/100\n",
      "3/3 - 0s - loss: 0.0129 - accuracy: 0.0111 - val_loss: 0.0339 - val_accuracy: 0.0225 - 35ms/epoch - 12ms/step\n",
      "Epoch 26/100\n",
      "3/3 - 0s - loss: 0.0117 - accuracy: 0.0111 - val_loss: 0.0325 - val_accuracy: 0.0225 - 36ms/epoch - 12ms/step\n",
      "Epoch 27/100\n",
      "3/3 - 0s - loss: 0.0117 - accuracy: 0.0111 - val_loss: 0.0311 - val_accuracy: 0.0225 - 37ms/epoch - 12ms/step\n",
      "Epoch 28/100\n",
      "3/3 - 0s - loss: 0.0097 - accuracy: 0.0111 - val_loss: 0.0294 - val_accuracy: 0.0225 - 36ms/epoch - 12ms/step\n",
      "Epoch 29/100\n",
      "3/3 - 0s - loss: 0.0096 - accuracy: 0.0111 - val_loss: 0.0274 - val_accuracy: 0.0225 - 37ms/epoch - 12ms/step\n",
      "Epoch 30/100\n",
      "3/3 - 0s - loss: 0.0101 - accuracy: 0.0111 - val_loss: 0.0248 - val_accuracy: 0.0225 - 39ms/epoch - 13ms/step\n",
      "Epoch 31/100\n",
      "3/3 - 0s - loss: 0.0100 - accuracy: 0.0111 - val_loss: 0.0224 - val_accuracy: 0.0225 - 38ms/epoch - 13ms/step\n",
      "Epoch 32/100\n",
      "3/3 - 0s - loss: 0.0077 - accuracy: 0.0111 - val_loss: 0.0200 - val_accuracy: 0.0225 - 46ms/epoch - 15ms/step\n",
      "Epoch 33/100\n",
      "3/3 - 0s - loss: 0.0071 - accuracy: 0.0111 - val_loss: 0.0175 - val_accuracy: 0.0225 - 38ms/epoch - 13ms/step\n",
      "Epoch 34/100\n",
      "3/3 - 0s - loss: 0.0073 - accuracy: 0.0111 - val_loss: 0.0155 - val_accuracy: 0.0225 - 36ms/epoch - 12ms/step\n",
      "Epoch 35/100\n",
      "3/3 - 0s - loss: 0.0067 - accuracy: 0.0111 - val_loss: 0.0136 - val_accuracy: 0.0225 - 35ms/epoch - 12ms/step\n",
      "Epoch 36/100\n",
      "3/3 - 0s - loss: 0.0069 - accuracy: 0.0111 - val_loss: 0.0119 - val_accuracy: 0.0225 - 36ms/epoch - 12ms/step\n",
      "Epoch 37/100\n",
      "3/3 - 0s - loss: 0.0076 - accuracy: 0.0111 - val_loss: 0.0105 - val_accuracy: 0.0225 - 34ms/epoch - 11ms/step\n",
      "Epoch 38/100\n",
      "3/3 - 0s - loss: 0.0062 - accuracy: 0.0111 - val_loss: 0.0095 - val_accuracy: 0.0225 - 50ms/epoch - 17ms/step\n",
      "Epoch 39/100\n",
      "3/3 - 0s - loss: 0.0064 - accuracy: 0.0111 - val_loss: 0.0081 - val_accuracy: 0.0225 - 41ms/epoch - 14ms/step\n",
      "Epoch 40/100\n",
      "3/3 - 0s - loss: 0.0063 - accuracy: 0.0111 - val_loss: 0.0069 - val_accuracy: 0.0225 - 36ms/epoch - 12ms/step\n",
      "Epoch 41/100\n",
      "3/3 - 0s - loss: 0.0075 - accuracy: 0.0111 - val_loss: 0.0059 - val_accuracy: 0.0225 - 39ms/epoch - 13ms/step\n",
      "Epoch 42/100\n",
      "3/3 - 0s - loss: 0.0057 - accuracy: 0.0111 - val_loss: 0.0053 - val_accuracy: 0.0225 - 36ms/epoch - 12ms/step\n",
      "Epoch 43/100\n",
      "3/3 - 0s - loss: 0.0051 - accuracy: 0.0111 - val_loss: 0.0048 - val_accuracy: 0.0225 - 38ms/epoch - 13ms/step\n",
      "Epoch 44/100\n",
      "3/3 - 0s - loss: 0.0063 - accuracy: 0.0111 - val_loss: 0.0043 - val_accuracy: 0.0225 - 44ms/epoch - 15ms/step\n",
      "Epoch 45/100\n",
      "3/3 - 0s - loss: 0.0059 - accuracy: 0.0111 - val_loss: 0.0038 - val_accuracy: 0.0225 - 36ms/epoch - 12ms/step\n",
      "Epoch 46/100\n",
      "3/3 - 0s - loss: 0.0061 - accuracy: 0.0111 - val_loss: 0.0035 - val_accuracy: 0.0225 - 36ms/epoch - 12ms/step\n",
      "Epoch 47/100\n",
      "3/3 - 0s - loss: 0.0058 - accuracy: 0.0111 - val_loss: 0.0033 - val_accuracy: 0.0225 - 37ms/epoch - 12ms/step\n",
      "Epoch 48/100\n",
      "3/3 - 0s - loss: 0.0068 - accuracy: 0.0111 - val_loss: 0.0033 - val_accuracy: 0.0225 - 40ms/epoch - 13ms/step\n",
      "Epoch 49/100\n",
      "3/3 - 0s - loss: 0.0057 - accuracy: 0.0111 - val_loss: 0.0032 - val_accuracy: 0.0225 - 34ms/epoch - 11ms/step\n",
      "Epoch 50/100\n",
      "3/3 - 0s - loss: 0.0049 - accuracy: 0.0111 - val_loss: 0.0031 - val_accuracy: 0.0225 - 36ms/epoch - 12ms/step\n",
      "Epoch 51/100\n",
      "3/3 - 0s - loss: 0.0057 - accuracy: 0.0111 - val_loss: 0.0030 - val_accuracy: 0.0225 - 36ms/epoch - 12ms/step\n",
      "Epoch 52/100\n",
      "3/3 - 0s - loss: 0.0063 - accuracy: 0.0111 - val_loss: 0.0030 - val_accuracy: 0.0225 - 37ms/epoch - 12ms/step\n",
      "Epoch 53/100\n",
      "3/3 - 0s - loss: 0.0056 - accuracy: 0.0111 - val_loss: 0.0029 - val_accuracy: 0.0225 - 43ms/epoch - 14ms/step\n",
      "Epoch 54/100\n",
      "3/3 - 0s - loss: 0.0051 - accuracy: 0.0111 - val_loss: 0.0030 - val_accuracy: 0.0225 - 42ms/epoch - 14ms/step\n",
      "Epoch 55/100\n",
      "3/3 - 0s - loss: 0.0053 - accuracy: 0.0111 - val_loss: 0.0030 - val_accuracy: 0.0225 - 38ms/epoch - 13ms/step\n",
      "Epoch 56/100\n",
      "3/3 - 0s - loss: 0.0050 - accuracy: 0.0111 - val_loss: 0.0032 - val_accuracy: 0.0225 - 40ms/epoch - 13ms/step\n",
      "Epoch 57/100\n",
      "3/3 - 0s - loss: 0.0060 - accuracy: 0.0111 - val_loss: 0.0032 - val_accuracy: 0.0225 - 38ms/epoch - 13ms/step\n",
      "Epoch 58/100\n",
      "3/3 - 0s - loss: 0.0066 - accuracy: 0.0111 - val_loss: 0.0029 - val_accuracy: 0.0225 - 36ms/epoch - 12ms/step\n",
      "Epoch 59/100\n",
      "3/3 - 0s - loss: 0.0046 - accuracy: 0.0111 - val_loss: 0.0030 - val_accuracy: 0.0225 - 39ms/epoch - 13ms/step\n",
      "Epoch 60/100\n",
      "3/3 - 0s - loss: 0.0052 - accuracy: 0.0111 - val_loss: 0.0031 - val_accuracy: 0.0225 - 37ms/epoch - 12ms/step\n",
      "Epoch 61/100\n",
      "3/3 - 0s - loss: 0.0058 - accuracy: 0.0111 - val_loss: 0.0030 - val_accuracy: 0.0225 - 34ms/epoch - 11ms/step\n",
      "Epoch 62/100\n",
      "3/3 - 0s - loss: 0.0056 - accuracy: 0.0111 - val_loss: 0.0031 - val_accuracy: 0.0225 - 34ms/epoch - 11ms/step\n",
      "Epoch 63/100\n",
      "3/3 - 0s - loss: 0.0053 - accuracy: 0.0111 - val_loss: 0.0032 - val_accuracy: 0.0225 - 51ms/epoch - 17ms/step\n",
      "Epoch 64/100\n",
      "3/3 - 0s - loss: 0.0056 - accuracy: 0.0111 - val_loss: 0.0033 - val_accuracy: 0.0225 - 38ms/epoch - 13ms/step\n",
      "Epoch 65/100\n",
      "3/3 - 0s - loss: 0.0056 - accuracy: 0.0111 - val_loss: 0.0031 - val_accuracy: 0.0225 - 40ms/epoch - 13ms/step\n",
      "Epoch 66/100\n",
      "3/3 - 0s - loss: 0.0054 - accuracy: 0.0111 - val_loss: 0.0029 - val_accuracy: 0.0225 - 39ms/epoch - 13ms/step\n",
      "Epoch 67/100\n",
      "3/3 - 0s - loss: 0.0041 - accuracy: 0.0111 - val_loss: 0.0029 - val_accuracy: 0.0225 - 37ms/epoch - 12ms/step\n",
      "Epoch 68/100\n",
      "3/3 - 0s - loss: 0.0060 - accuracy: 0.0111 - val_loss: 0.0030 - val_accuracy: 0.0225 - 36ms/epoch - 12ms/step\n",
      "Epoch 69/100\n",
      "3/3 - 0s - loss: 0.0048 - accuracy: 0.0111 - val_loss: 0.0032 - val_accuracy: 0.0225 - 52ms/epoch - 17ms/step\n",
      "Epoch 70/100\n",
      "3/3 - 0s - loss: 0.0054 - accuracy: 0.0111 - val_loss: 0.0033 - val_accuracy: 0.0225 - 38ms/epoch - 13ms/step\n",
      "Epoch 71/100\n",
      "3/3 - 0s - loss: 0.0061 - accuracy: 0.0111 - val_loss: 0.0034 - val_accuracy: 0.0225 - 37ms/epoch - 12ms/step\n",
      "Epoch 72/100\n",
      "3/3 - 0s - loss: 0.0045 - accuracy: 0.0111 - val_loss: 0.0034 - val_accuracy: 0.0225 - 39ms/epoch - 13ms/step\n",
      "Epoch 73/100\n",
      "3/3 - 0s - loss: 0.0045 - accuracy: 0.0111 - val_loss: 0.0031 - val_accuracy: 0.0225 - 39ms/epoch - 13ms/step\n",
      "Epoch 74/100\n",
      "3/3 - 0s - loss: 0.0056 - accuracy: 0.0111 - val_loss: 0.0030 - val_accuracy: 0.0225 - 39ms/epoch - 13ms/step\n",
      "Epoch 75/100\n",
      "3/3 - 0s - loss: 0.0047 - accuracy: 0.0111 - val_loss: 0.0029 - val_accuracy: 0.0225 - 38ms/epoch - 13ms/step\n",
      "Epoch 76/100\n",
      "3/3 - 0s - loss: 0.0047 - accuracy: 0.0111 - val_loss: 0.0028 - val_accuracy: 0.0225 - 37ms/epoch - 12ms/step\n",
      "Epoch 77/100\n",
      "3/3 - 0s - loss: 0.0053 - accuracy: 0.0111 - val_loss: 0.0028 - val_accuracy: 0.0225 - 35ms/epoch - 12ms/step\n",
      "Epoch 78/100\n",
      "3/3 - 0s - loss: 0.0044 - accuracy: 0.0111 - val_loss: 0.0028 - val_accuracy: 0.0225 - 37ms/epoch - 12ms/step\n",
      "Epoch 79/100\n",
      "3/3 - 0s - loss: 0.0050 - accuracy: 0.0111 - val_loss: 0.0028 - val_accuracy: 0.0225 - 48ms/epoch - 16ms/step\n",
      "Epoch 80/100\n",
      "3/3 - 0s - loss: 0.0055 - accuracy: 0.0111 - val_loss: 0.0026 - val_accuracy: 0.0225 - 38ms/epoch - 13ms/step\n",
      "Epoch 81/100\n",
      "3/3 - 0s - loss: 0.0050 - accuracy: 0.0111 - val_loss: 0.0026 - val_accuracy: 0.0225 - 36ms/epoch - 12ms/step\n",
      "Epoch 82/100\n",
      "3/3 - 0s - loss: 0.0041 - accuracy: 0.0111 - val_loss: 0.0026 - val_accuracy: 0.0225 - 37ms/epoch - 12ms/step\n",
      "Epoch 83/100\n",
      "3/3 - 0s - loss: 0.0049 - accuracy: 0.0111 - val_loss: 0.0027 - val_accuracy: 0.0225 - 35ms/epoch - 12ms/step\n",
      "Epoch 84/100\n",
      "3/3 - 0s - loss: 0.0042 - accuracy: 0.0111 - val_loss: 0.0027 - val_accuracy: 0.0225 - 45ms/epoch - 15ms/step\n",
      "Epoch 85/100\n",
      "3/3 - 0s - loss: 0.0043 - accuracy: 0.0111 - val_loss: 0.0026 - val_accuracy: 0.0225 - 37ms/epoch - 12ms/step\n",
      "Epoch 86/100\n",
      "3/3 - 0s - loss: 0.0038 - accuracy: 0.0111 - val_loss: 0.0025 - val_accuracy: 0.0225 - 37ms/epoch - 12ms/step\n",
      "Epoch 87/100\n",
      "3/3 - 0s - loss: 0.0043 - accuracy: 0.0111 - val_loss: 0.0025 - val_accuracy: 0.0225 - 36ms/epoch - 12ms/step\n",
      "Epoch 88/100\n",
      "3/3 - 0s - loss: 0.0059 - accuracy: 0.0111 - val_loss: 0.0025 - val_accuracy: 0.0225 - 40ms/epoch - 13ms/step\n",
      "Epoch 89/100\n",
      "3/3 - 0s - loss: 0.0046 - accuracy: 0.0111 - val_loss: 0.0026 - val_accuracy: 0.0225 - 44ms/epoch - 15ms/step\n",
      "Epoch 90/100\n",
      "3/3 - 0s - loss: 0.0054 - accuracy: 0.0111 - val_loss: 0.0025 - val_accuracy: 0.0225 - 35ms/epoch - 12ms/step\n",
      "Epoch 91/100\n",
      "3/3 - 0s - loss: 0.0048 - accuracy: 0.0111 - val_loss: 0.0024 - val_accuracy: 0.0225 - 37ms/epoch - 12ms/step\n",
      "Epoch 92/100\n",
      "3/3 - 0s - loss: 0.0050 - accuracy: 0.0111 - val_loss: 0.0023 - val_accuracy: 0.0225 - 40ms/epoch - 13ms/step\n",
      "Epoch 93/100\n",
      "3/3 - 0s - loss: 0.0042 - accuracy: 0.0111 - val_loss: 0.0023 - val_accuracy: 0.0225 - 36ms/epoch - 12ms/step\n",
      "Epoch 94/100\n",
      "3/3 - 0s - loss: 0.0041 - accuracy: 0.0111 - val_loss: 0.0024 - val_accuracy: 0.0225 - 36ms/epoch - 12ms/step\n",
      "Epoch 95/100\n",
      "3/3 - 0s - loss: 0.0051 - accuracy: 0.0111 - val_loss: 0.0024 - val_accuracy: 0.0225 - 35ms/epoch - 12ms/step\n",
      "Epoch 96/100\n",
      "3/3 - 0s - loss: 0.0053 - accuracy: 0.0111 - val_loss: 0.0024 - val_accuracy: 0.0225 - 37ms/epoch - 12ms/step\n",
      "Epoch 97/100\n",
      "3/3 - 0s - loss: 0.0038 - accuracy: 0.0111 - val_loss: 0.0025 - val_accuracy: 0.0225 - 40ms/epoch - 13ms/step\n",
      "Epoch 98/100\n",
      "3/3 - 0s - loss: 0.0044 - accuracy: 0.0111 - val_loss: 0.0025 - val_accuracy: 0.0225 - 39ms/epoch - 13ms/step\n",
      "Epoch 99/100\n",
      "3/3 - 0s - loss: 0.0047 - accuracy: 0.0111 - val_loss: 0.0026 - val_accuracy: 0.0225 - 37ms/epoch - 12ms/step\n",
      "Epoch 100/100\n",
      "3/3 - 0s - loss: 0.0053 - accuracy: 0.0111 - val_loss: 0.0028 - val_accuracy: 0.0225 - 40ms/epoch - 13ms/step\n"
     ]
    },
    {
     "data": {
      "text/plain": [
       "<keras.callbacks.History at 0x7fa0bc889a50>"
      ]
     },
     "execution_count": 21,
     "metadata": {},
     "output_type": "execute_result"
    }
   ],
   "source": [
    "model.fit(X_train, Y_train, validation_data=(X_test, Y_test), epochs=100, batch_size=64, verbose=2)"
   ]
  },
  {
   "cell_type": "code",
   "execution_count": null,
   "metadata": {
    "colab": {
     "base_uri": "https://localhost:8080/"
    },
    "id": "Gfo9Oy72zKNt",
    "outputId": "c99c24b4-2ec6-4e6a-dbbb-8bf090839a94"
   },
   "outputs": [
    {
     "name": "stdout",
     "output_type": "stream",
     "text": [
      "WARNING:tensorflow:Model was constructed with shape (None, 180, 1) for input KerasTensor(type_spec=TensorSpec(shape=(None, 180, 1), dtype=tf.float32, name='gru_input'), name='gru_input', description=\"created by layer 'gru_input'\"), but it was called on an input with incompatible shape (None, 1, 1).\n"
     ]
    }
   ],
   "source": [
    "train_predict = model.predict(X_train)\n",
    "test_predict = model.predict(X_test)"
   ]
  },
  {
   "cell_type": "code",
   "execution_count": null,
   "metadata": {
    "id": "SjdGywAnAayw"
   },
   "outputs": [],
   "source": [
    "train_predict = SC.inverse_transform(train_predict)\n",
    "test_predict = SC.inverse_transform(test_predict)"
   ]
  },
  {
   "cell_type": "code",
   "execution_count": null,
   "metadata": {
    "colab": {
     "base_uri": "https://localhost:8080/"
    },
    "id": "3NN9DqPT-X4g",
    "outputId": "0ee4a273-9c93-4927-cd99-6c637efc71fa"
   },
   "outputs": [
    {
     "name": "stdout",
     "output_type": "stream",
     "text": [
      "974.5197633671072\n",
      "798.4515791007755\n"
     ]
    }
   ],
   "source": [
    "from sklearn.metrics import mean_squared_error\n",
    "print(np.sqrt(mean_squared_error(Y_train, train_predict)))\n",
    "print(np.sqrt(mean_squared_error(Y_test, test_predict)))"
   ]
  },
  {
   "cell_type": "code",
   "execution_count": null,
   "metadata": {
    "colab": {
     "base_uri": "https://localhost:8080/",
     "height": 295
    },
    "id": "NtD2PW9f8jnH",
    "outputId": "14e109ca-bc36-4582-9fbb-890caade4d67"
   },
   "outputs": [
    {
     "data": {
      "image/png": "[encoded data removed]",
      "text/plain": [
       "<Figure size 432x288 with 1 Axes>"
      ]
     },
     "metadata": {
      "needs_background": "light"
     },
     "output_type": "display_data"
    }
   ],
   "source": [
    "def plot_predictions(test, predicted):\n",
    "    plt.plot(test, color='red', label=\"Actual Tesla Stock Price\")\n",
    "    plt.plot(predicted, color='blue', label=\"Predicted Tesla Stock Price\")\n",
    "    plt.title(\"Tesla Stock Prediction\")\n",
    "    plt.xlabel('Time')\n",
    "    plt.ylabel(\"Price\")\n",
    "    plt.legend()\n",
    "    plt.show()\n",
    "plot_predictions(test_set, test_predict)"
   ]
  },
  {
   "cell_type": "code",
   "execution_count": null,
   "metadata": {
    "id": "ZRE8RQyv-Btr"
   },
   "outputs": [],
   "source": []
  }
 ],
 "metadata": {
  "colab": {
   "collapsed_sections": [],
   "name": "Tesla_Stock_price_prediction.ipynb",
   "provenance": []
  },
  "kernelspec": {
   "display_name": "Python 3",
   "language": "python",
   "name": "python3"
  },
  "language_info": {
   "codemirror_mode": {
    "name": "ipython",
    "version": 3
   },
   "file_extension": ".py",
   "mimetype": "text/x-python",
   "name": "python",
   "nbconvert_exporter": "python",
   "pygments_lexer": "ipython3",
   "version": "3.8.5"
  }
 },
 "nbformat": 4,
 "nbformat_minor": 1
}
