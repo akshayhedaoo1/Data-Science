{
  "nbformat": 4,
  "nbformat_minor": 0,
  "metadata": {
    "colab": {
      "name": "Cross Validation.ipynb",
      "provenance": []
    },
    "kernelspec": {
      "name": "python3",
      "display_name": "Python 3"
    },
    "language_info": {
      "name": "python"
    }
  },
  "cells": [
    {
      "cell_type": "markdown",
      "metadata": {
        "id": "oNhLVRVaSEle"
      },
      "source": [
        "# Case Study\n",
        "Here, we are doing basic Modelling and then hypertuning of Models to find out the best Model for the Dataset.\n"
      ]
    },
    {
      "cell_type": "code",
      "metadata": {
        "colab": {
          "base_uri": "https://localhost:8080/"
        },
        "id": "otN4oYjXCHQS",
        "outputId": "ec944f28-406d-44f1-e661-80bfe2a9b214"
      },
      "source": [
        "from google.colab import drive\n",
        "drive.mount('/content/drive')"
      ],
      "execution_count": 1,
      "outputs": [
        {
          "output_type": "stream",
          "name": "stdout",
          "text": [
            "Drive already mounted at /content/drive; to attempt to forcibly remount, call drive.mount(\"/content/drive\", force_remount=True).\n"
          ]
        }
      ]
    },
    {
      "cell_type": "markdown",
      "metadata": {
        "id": "akxWAX7MeO_Q"
      },
      "source": [
        "# Data Exploration and Understanding"
      ]
    },
    {
      "cell_type": "code",
      "metadata": {
        "id": "mnO7S5ltK4sc"
      },
      "source": [
        "# ignore warnings\n",
        "import warnings\n",
        "warnings.filterwarnings(\"ignore\")"
      ],
      "execution_count": 2,
      "outputs": []
    },
    {
      "cell_type": "code",
      "metadata": {
        "id": "vB7cjvLSCDC7"
      },
      "source": [
        "# Importing Necessary Libraries\n",
        "import pandas as pd\n",
        "import numpy as np\n",
        "import seaborn as sns"
      ],
      "execution_count": 3,
      "outputs": []
    },
    {
      "cell_type": "code",
      "metadata": {
        "id": "zCBGsDunDBPZ"
      },
      "source": [
        "# importing data\n",
        "df = pd.read_csv('/content/drive/MyDrive/data.csv')"
      ],
      "execution_count": 4,
      "outputs": []
    },
    {
      "cell_type": "code",
      "metadata": {
        "colab": {
          "base_uri": "https://localhost:8080/",
          "height": 204
        },
        "id": "7Gip5zzeDFoK",
        "outputId": "a16ce280-ced2-4b77-c56c-00849736eefd"
      },
      "source": [
        "df.head()"
      ],
      "execution_count": 5,
      "outputs": [
        {
          "output_type": "execute_result",
          "data": {
            "text/html": [
              "<div>\n",
              "<style scoped>\n",
              "    .dataframe tbody tr th:only-of-type {\n",
              "        vertical-align: middle;\n",
              "    }\n",
              "\n",
              "    .dataframe tbody tr th {\n",
              "        vertical-align: top;\n",
              "    }\n",
              "\n",
              "    .dataframe thead th {\n",
              "        text-align: right;\n",
              "    }\n",
              "</style>\n",
              "<table border=\"1\" class=\"dataframe\">\n",
              "  <thead>\n",
              "    <tr style=\"text-align: right;\">\n",
              "      <th></th>\n",
              "      <th>x1</th>\n",
              "      <th>x2</th>\n",
              "      <th>y</th>\n",
              "    </tr>\n",
              "  </thead>\n",
              "  <tbody>\n",
              "    <tr>\n",
              "      <th>0</th>\n",
              "      <td>-119.366669</td>\n",
              "      <td>115.000000</td>\n",
              "      <td>1</td>\n",
              "    </tr>\n",
              "    <tr>\n",
              "      <th>1</th>\n",
              "      <td>-101.108044</td>\n",
              "      <td>97.777159</td>\n",
              "      <td>1</td>\n",
              "    </tr>\n",
              "    <tr>\n",
              "      <th>2</th>\n",
              "      <td>-130.278658</td>\n",
              "      <td>106.767654</td>\n",
              "      <td>1</td>\n",
              "    </tr>\n",
              "    <tr>\n",
              "      <th>3</th>\n",
              "      <td>-114.703415</td>\n",
              "      <td>101.195477</td>\n",
              "      <td>1</td>\n",
              "    </tr>\n",
              "    <tr>\n",
              "      <th>4</th>\n",
              "      <td>-119.366669</td>\n",
              "      <td>115.000000</td>\n",
              "      <td>1</td>\n",
              "    </tr>\n",
              "  </tbody>\n",
              "</table>\n",
              "</div>"
            ],
            "text/plain": [
              "           x1          x2  y\n",
              "0 -119.366669  115.000000  1\n",
              "1 -101.108044   97.777159  1\n",
              "2 -130.278658  106.767654  1\n",
              "3 -114.703415  101.195477  1\n",
              "4 -119.366669  115.000000  1"
            ]
          },
          "metadata": {},
          "execution_count": 5
        }
      ]
    },
    {
      "cell_type": "code",
      "metadata": {
        "colab": {
          "base_uri": "https://localhost:8080/"
        },
        "id": "y0FZMZxLD-Jz",
        "outputId": "c284fd63-453d-4479-9912-aa167ca688bd"
      },
      "source": [
        "df.info()"
      ],
      "execution_count": 6,
      "outputs": [
        {
          "output_type": "stream",
          "name": "stdout",
          "text": [
            "<class 'pandas.core.frame.DataFrame'>\n",
            "RangeIndex: 2227 entries, 0 to 2226\n",
            "Data columns (total 3 columns):\n",
            " #   Column  Non-Null Count  Dtype  \n",
            "---  ------  --------------  -----  \n",
            " 0   x1      2222 non-null   float64\n",
            " 1   x2      2224 non-null   float64\n",
            " 2   y       2227 non-null   int64  \n",
            "dtypes: float64(2), int64(1)\n",
            "memory usage: 52.3 KB\n"
          ]
        }
      ]
    },
    {
      "cell_type": "code",
      "metadata": {
        "id": "caAtfD4xEO3e"
      },
      "source": [
        "# droping null values\n",
        "df.dropna(inplace = True)"
      ],
      "execution_count": 7,
      "outputs": []
    },
    {
      "cell_type": "code",
      "metadata": {
        "colab": {
          "base_uri": "https://localhost:8080/"
        },
        "id": "dH1axCReEX3y",
        "outputId": "299d817e-0281-439d-a794-d89180c90d92"
      },
      "source": [
        "df.isnull().sum()"
      ],
      "execution_count": 8,
      "outputs": [
        {
          "output_type": "execute_result",
          "data": {
            "text/plain": [
              "x1    0\n",
              "x2    0\n",
              "y     0\n",
              "dtype: int64"
            ]
          },
          "metadata": {},
          "execution_count": 8
        }
      ]
    },
    {
      "cell_type": "code",
      "metadata": {
        "colab": {
          "base_uri": "https://localhost:8080/"
        },
        "id": "rN-bT2viEa8S",
        "outputId": "1a39d74f-a167-471a-b1b5-a2170bd58fb2"
      },
      "source": [
        "df.shape"
      ],
      "execution_count": 9,
      "outputs": [
        {
          "output_type": "execute_result",
          "data": {
            "text/plain": [
              "(2219, 3)"
            ]
          },
          "metadata": {},
          "execution_count": 9
        }
      ]
    },
    {
      "cell_type": "code",
      "metadata": {
        "colab": {
          "base_uri": "https://localhost:8080/"
        },
        "id": "9DhYmwz4DHBd",
        "outputId": "b1035182-bca7-43b3-906a-f708663ed642"
      },
      "source": [
        "# getting target values\n",
        "df['y'].value_counts()/len(df)*100"
      ],
      "execution_count": 10,
      "outputs": [
        {
          "output_type": "execute_result",
          "data": {
            "text/plain": [
              "0    55.790897\n",
              "1    44.209103\n",
              "Name: y, dtype: float64"
            ]
          },
          "metadata": {},
          "execution_count": 10
        }
      ]
    },
    {
      "cell_type": "markdown",
      "metadata": {
        "id": "8zRvOce2DgJ8"
      },
      "source": [
        "Here Data is Imbalanced So we need to balanced the data"
      ]
    },
    {
      "cell_type": "code",
      "metadata": {
        "colab": {
          "base_uri": "https://localhost:8080/",
          "height": 296
        },
        "id": "8HZ9cxDEGWwU",
        "outputId": "271f78ca-66f6-40c5-aeb0-e64561cd8c12"
      },
      "source": [
        "sns.boxplot(df['x1'], palette='husl')"
      ],
      "execution_count": 11,
      "outputs": [
        {
          "output_type": "execute_result",
          "data": {
            "text/plain": [
              "<matplotlib.axes._subplots.AxesSubplot at 0x7f4606fea590>"
            ]
          },
          "metadata": {},
          "execution_count": 11
        },
        {
          "output_type": "display_data",
          "data": {
            "image/png": "[encoded data removed]",
            "text/plain": [
              "<Figure size 432x288 with 1 Axes>"
            ]
          },
          "metadata": {
            "needs_background": "light"
          }
        }
      ]
    },
    {
      "cell_type": "code",
      "metadata": {
        "colab": {
          "base_uri": "https://localhost:8080/",
          "height": 296
        },
        "id": "uta0YLr7G429",
        "outputId": "fef61d2b-1f2f-4d58-ccc5-40b1f918e740"
      },
      "source": [
        "sns.boxplot(x=df['x2'])"
      ],
      "execution_count": 12,
      "outputs": [
        {
          "output_type": "execute_result",
          "data": {
            "text/plain": [
              "<matplotlib.axes._subplots.AxesSubplot at 0x7f460673a650>"
            ]
          },
          "metadata": {},
          "execution_count": 12
        },
        {
          "output_type": "display_data",
          "data": {
            "image/png": "[encoded data removed]",
            "text/plain": [
              "<Figure size 432x288 with 1 Axes>"
            ]
          },
          "metadata": {
            "needs_background": "light"
          }
        }
      ]
    },
    {
      "cell_type": "code",
      "metadata": {
        "colab": {
          "base_uri": "https://localhost:8080/",
          "height": 295
        },
        "id": "8L1x0Yx0HFiy",
        "outputId": "eee5184a-2087-46e6-9045-42efd83033b0"
      },
      "source": [
        "df.x2.hist()"
      ],
      "execution_count": 13,
      "outputs": [
        {
          "output_type": "execute_result",
          "data": {
            "text/plain": [
              "<matplotlib.axes._subplots.AxesSubplot at 0x7f4606227a10>"
            ]
          },
          "metadata": {},
          "execution_count": 13
        },
        {
          "output_type": "display_data",
          "data": {
            "image/png": "[encoded data removed]",
            "text/plain": [
              "<Figure size 432x288 with 1 Axes>"
            ]
          },
          "metadata": {
            "needs_background": "light"
          }
        }
      ]
    },
    {
      "cell_type": "code",
      "metadata": {
        "id": "GkVUCxOJIOBv"
      },
      "source": [
        "# Removing Outliers\n",
        "df = df.loc[df['x2']<= 10000000]"
      ],
      "execution_count": 14,
      "outputs": []
    },
    {
      "cell_type": "code",
      "metadata": {
        "colab": {
          "base_uri": "https://localhost:8080/",
          "height": 391
        },
        "id": "MIVjRKS9DMmD",
        "outputId": "81a552b1-7a55-4a81-c10b-64df943e7aad"
      },
      "source": [
        "# Pairplot\n",
        "sns.pairplot(data = df, hue='y', palette='husl')"
      ],
      "execution_count": 15,
      "outputs": [
        {
          "output_type": "execute_result",
          "data": {
            "text/plain": [
              "<seaborn.axisgrid.PairGrid at 0x7f46061bfa90>"
            ]
          },
          "metadata": {},
          "execution_count": 15
        },
        {
          "output_type": "display_data",
          "data": {
            "image/png": "[encoded data removed]",
            "text/plain": [
              "<Figure size 402.375x360 with 6 Axes>"
            ]
          },
          "metadata": {
            "needs_background": "light"
          }
        }
      ]
    },
    {
      "cell_type": "code",
      "metadata": {
        "colab": {
          "base_uri": "https://localhost:8080/",
          "height": 286
        },
        "id": "OD2k4qmtExkY",
        "outputId": "b090abed-6bf6-4ec7-acbe-badbd21b1dba"
      },
      "source": [
        "# Correlation using Heatmap\n",
        "sns.heatmap(df.corr(), annot=True)"
      ],
      "execution_count": 16,
      "outputs": [
        {
          "output_type": "execute_result",
          "data": {
            "text/plain": [
              "<matplotlib.axes._subplots.AxesSubplot at 0x7f4606211090>"
            ]
          },
          "metadata": {},
          "execution_count": 16
        },
        {
          "output_type": "display_data",
          "data": {
            "image/png": "[encoded data removed]",
            "text/plain": [
              "<Figure size 432x288 with 2 Axes>"
            ]
          },
          "metadata": {
            "needs_background": "light"
          }
        }
      ]
    },
    {
      "cell_type": "markdown",
      "metadata": {
        "id": "FNRxT7fVelHy"
      },
      "source": [
        "# Data Preparation"
      ]
    },
    {
      "cell_type": "code",
      "metadata": {
        "id": "tEp8FBSRGFDp"
      },
      "source": [
        "target = df.pop('y')\n",
        "data = df"
      ],
      "execution_count": 17,
      "outputs": []
    },
    {
      "cell_type": "code",
      "metadata": {
        "colab": {
          "base_uri": "https://localhost:8080/"
        },
        "id": "0KIHot25KO3y",
        "outputId": "79dab308-1bfc-4ba4-bd6d-ed17c73eece3"
      },
      "source": [
        "print(data.shape)\n",
        "print(target.shape)"
      ],
      "execution_count": 18,
      "outputs": [
        {
          "output_type": "stream",
          "name": "stdout",
          "text": [
            "(2217, 2)\n",
            "(2217,)\n"
          ]
        }
      ]
    },
    {
      "cell_type": "code",
      "metadata": {
        "colab": {
          "base_uri": "https://localhost:8080/"
        },
        "id": "2RW_NYzEJyFC",
        "outputId": "07586c54-7656-4bfa-f315-5f29568242dc"
      },
      "source": [
        "# Normalization of Data\n",
        "from sklearn.preprocessing import MinMaxScaler\n",
        "normalized_data = MinMaxScaler().fit_transform(data)\n",
        "normalized_data.shape"
      ],
      "execution_count": 19,
      "outputs": [
        {
          "output_type": "execute_result",
          "data": {
            "text/plain": [
              "(2217, 2)"
            ]
          },
          "metadata": {},
          "execution_count": 19
        }
      ]
    },
    {
      "cell_type": "code",
      "metadata": {
        "id": "wOCzfR5EKLpw"
      },
      "source": [
        "# Train Test Split\n",
        "from sklearn.model_selection import train_test_split\n",
        "X_train,X_test, y_train, y_test= train_test_split(normalized_data, target, test_size = 0.2, random_state = 0)"
      ],
      "execution_count": 20,
      "outputs": []
    },
    {
      "cell_type": "code",
      "metadata": {
        "colab": {
          "base_uri": "https://localhost:8080/"
        },
        "id": "9FGAWtZhKZ2w",
        "outputId": "cea41680-62ef-469e-c320-57d9a9a6cdf1"
      },
      "source": [
        "print(X_train.shape, X_test.shape, y_train.shape, y_test.shape)"
      ],
      "execution_count": 21,
      "outputs": [
        {
          "output_type": "stream",
          "name": "stdout",
          "text": [
            "(1773, 2) (444, 2) (1773,) (444,)\n"
          ]
        }
      ]
    },
    {
      "cell_type": "code",
      "metadata": {
        "id": "9496xFLKKmHi"
      },
      "source": [
        "from imblearn.under_sampling import RandomUnderSampler"
      ],
      "execution_count": 22,
      "outputs": []
    },
    {
      "cell_type": "code",
      "metadata": {
        "id": "_Q5ZGuHNKuGt"
      },
      "source": [
        "# Undersampling\n",
        "rus = RandomUnderSampler( random_state =0)\n",
        "rus.fit(X_train, y_train)\n",
        "X_train, y_train = rus.fit_resample(X_train, y_train)"
      ],
      "execution_count": 23,
      "outputs": []
    },
    {
      "cell_type": "code",
      "metadata": {
        "colab": {
          "base_uri": "https://localhost:8080/"
        },
        "id": "_JVGtUlyLAua",
        "outputId": "faf6da0c-1a62-4db0-9f44-49cebb610eaf"
      },
      "source": [
        "print(X_train.shape, X_test.shape, y_train.shape, y_test.shape)"
      ],
      "execution_count": 24,
      "outputs": [
        {
          "output_type": "stream",
          "name": "stdout",
          "text": [
            "(1574, 2) (444, 2) (1574,) (444,)\n"
          ]
        }
      ]
    },
    {
      "cell_type": "markdown",
      "metadata": {
        "id": "q4Szm7pTMIlk"
      },
      "source": [
        "# Basic Modelling of Dataset"
      ]
    },
    {
      "cell_type": "markdown",
      "metadata": {
        "id": "peVzcvd1ST39"
      },
      "source": [
        "We are using basic Machine Learning Models without Hyperparameter Tuning"
      ]
    },
    {
      "cell_type": "code",
      "metadata": {
        "colab": {
          "base_uri": "https://localhost:8080/"
        },
        "id": "k-YbnqJfMA1j",
        "outputId": "dd12dfc0-57d1-442d-cb80-bc29d4c6b727"
      },
      "source": [
        "# LogisticRegression\n",
        "from sklearn.linear_model import LogisticRegression\n",
        "LR = LogisticRegression()\n",
        "LR.fit(X_train, y_train)\n",
        "print('Logistic Regression score :',LR.score(X_test, y_test))"
      ],
      "execution_count": 25,
      "outputs": [
        {
          "output_type": "stream",
          "name": "stdout",
          "text": [
            "Logistic Regression score : 0.6193693693693694\n"
          ]
        }
      ]
    },
    {
      "cell_type": "code",
      "metadata": {
        "colab": {
          "base_uri": "https://localhost:8080/"
        },
        "id": "bkMXXw0tMA4Y",
        "outputId": "aeccebc1-74fb-416d-f252-a63fd5c225ce"
      },
      "source": [
        "# SVM with Linear Kernel\n",
        "from sklearn.svm import LinearSVC\n",
        "Linear_SVM = LinearSVC()\n",
        "Linear_SVM.fit(X_train, y_train)\n",
        "print('Linear SVM score :',Linear_SVM.score(X_test, y_test))"
      ],
      "execution_count": 26,
      "outputs": [
        {
          "output_type": "stream",
          "name": "stdout",
          "text": [
            "Linear SVM score : 0.6216216216216216\n"
          ]
        }
      ]
    },
    {
      "cell_type": "code",
      "metadata": {
        "colab": {
          "base_uri": "https://localhost:8080/"
        },
        "id": "ydzzf2u4MA8v",
        "outputId": "f13d66fc-f9e1-4892-d314-8bcb1a2d23a7"
      },
      "source": [
        "# SVM with RBF Kernel\n",
        "from sklearn.svm import NuSVC\n",
        "Nu_SVM = NuSVC()\n",
        "Nu_SVM.fit(X_train, y_train)\n",
        "print('SVM with RBF Kernel score :',Nu_SVM.score(X_test, y_test))"
      ],
      "execution_count": 27,
      "outputs": [
        {
          "output_type": "stream",
          "name": "stdout",
          "text": [
            "SVM with RBF Kernel score : 0.9617117117117117\n"
          ]
        }
      ]
    },
    {
      "cell_type": "code",
      "metadata": {
        "colab": {
          "base_uri": "https://localhost:8080/"
        },
        "id": "toU1bkoCOyo6",
        "outputId": "b2385f00-6fed-4ebc-8530-096899e888b8"
      },
      "source": [
        "# Decision Tree Classifier\n",
        "from sklearn.tree import DecisionTreeClassifier\n",
        "DTC = DecisionTreeClassifier()\n",
        "DTC.fit(X_train, y_train)\n",
        "print('Decision Tree Classifier score :',DTC.score(X_test, y_test))"
      ],
      "execution_count": 28,
      "outputs": [
        {
          "output_type": "stream",
          "name": "stdout",
          "text": [
            "Decision Tree Classifier score : 0.9391891891891891\n"
          ]
        }
      ]
    },
    {
      "cell_type": "code",
      "metadata": {
        "colab": {
          "base_uri": "https://localhost:8080/"
        },
        "id": "UGxD_88APZSp",
        "outputId": "ec4b85e1-8389-4015-fb55-d150a2bf8120"
      },
      "source": [
        "# KNN Classifier\n",
        "from sklearn.neighbors import KNeighborsClassifier\n",
        "KNN = KNeighborsClassifier()\n",
        "KNN.fit(X_train, y_train)\n",
        "print('Decision Tree Classifier score :',KNN.score(X_test, y_test))"
      ],
      "execution_count": 29,
      "outputs": [
        {
          "output_type": "stream",
          "name": "stdout",
          "text": [
            "Decision Tree Classifier score : 0.954954954954955\n"
          ]
        }
      ]
    },
    {
      "cell_type": "markdown",
      "metadata": {
        "id": "w0BmktUgP5O3"
      },
      "source": [
        "# Advance Modelling of Dataset"
      ]
    },
    {
      "cell_type": "markdown",
      "metadata": {
        "id": "MXf1vHfbTWjZ"
      },
      "source": [
        "We have done hyperparameter tuning in each of the models for performance checking"
      ]
    },
    {
      "cell_type": "code",
      "metadata": {
        "colab": {
          "base_uri": "https://localhost:8080/"
        },
        "id": "B2d0iCGBLfCA",
        "outputId": "2cdbb06b-b6f7-4540-d4da-d5b3e7114e19"
      },
      "source": [
        "# Logistic Regression\n",
        "from sklearn.linear_model import LogisticRegression\n",
        "from sklearn.model_selection import GridSearchCV\n",
        "tuned_hyperparameters = [{'C': [0.001,0.01, 0.1, 1, 10, 100] ,'penalty':['l1','l2']}]\n",
        "\n",
        "LR = GridSearchCV(LogisticRegression(), tuned_hyperparameters)\n",
        "LR.fit(X_train, y_train)\n",
        "print(LR.best_params_)\n",
        "print(LR.best_estimator_)\n",
        "print(LR.score(X_test, y_test))"
      ],
      "execution_count": 30,
      "outputs": [
        {
          "output_type": "stream",
          "name": "stdout",
          "text": [
            "{'C': 0.01, 'penalty': 'l2'}\n",
            "LogisticRegression(C=0.01, class_weight=None, dual=False, fit_intercept=True,\n",
            "                   intercept_scaling=1, l1_ratio=None, max_iter=100,\n",
            "                   multi_class='auto', n_jobs=None, penalty='l2',\n",
            "                   random_state=None, solver='lbfgs', tol=0.0001, verbose=0,\n",
            "                   warm_start=False)\n",
            "0.6238738738738738\n"
          ]
        }
      ]
    },
    {
      "cell_type": "code",
      "metadata": {
        "colab": {
          "base_uri": "https://localhost:8080/",
          "height": 300
        },
        "id": "K_YQSpF5P__W",
        "outputId": "74890261-d3d5-4ea7-d66a-49a5735d75ea"
      },
      "source": [
        "# Confusion Matrix\n",
        "from sklearn import metrics\n",
        "metrics.plot_confusion_matrix(LR, X_test, y_test)"
      ],
      "execution_count": 31,
      "outputs": [
        {
          "output_type": "execute_result",
          "data": {
            "text/plain": [
              "<sklearn.metrics._plot.confusion_matrix.ConfusionMatrixDisplay at 0x7f45f3c280d0>"
            ]
          },
          "metadata": {},
          "execution_count": 31
        },
        {
          "output_type": "display_data",
          "data": {
            "image/png": "[encoded data removed]",
            "text/plain": [
              "<Figure size 432x288 with 2 Axes>"
            ]
          },
          "metadata": {
            "needs_background": "light"
          }
        }
      ]
    },
    {
      "cell_type": "code",
      "metadata": {
        "colab": {
          "base_uri": "https://localhost:8080/",
          "height": 296
        },
        "id": "r_XFwabTQ04d",
        "outputId": "5f27fb75-da1f-4a03-d730-16f645e873b0"
      },
      "source": [
        "# ROC-AUC Curve\n",
        "metrics.plot_roc_curve(LR, X_test, y_test)"
      ],
      "execution_count": 32,
      "outputs": [
        {
          "output_type": "execute_result",
          "data": {
            "text/plain": [
              "<sklearn.metrics._plot.roc_curve.RocCurveDisplay at 0x7f45f3ba7c50>"
            ]
          },
          "metadata": {},
          "execution_count": 32
        },
        {
          "output_type": "display_data",
          "data": {
            "image/png": "[encoded data removed]",
            "text/plain": [
              "<Figure size 432x288 with 1 Axes>"
            ]
          },
          "metadata": {
            "needs_background": "light"
          }
        }
      ]
    },
    {
      "cell_type": "code",
      "metadata": {
        "colab": {
          "base_uri": "https://localhost:8080/"
        },
        "id": "kalgqSAZQN1z",
        "outputId": "c93b93cc-a7f9-49e7-ddb0-ecd9584c0e3f"
      },
      "source": [
        "# Precision, Recall and F1-score\n",
        "y_pred = LR.predict(X_test)\n",
        "target_names = ['class_0','class_1']\n",
        "print(metrics.classification_report(y_test, y_pred, target_names=target_names))"
      ],
      "execution_count": 33,
      "outputs": [
        {
          "output_type": "stream",
          "name": "stdout",
          "text": [
            "              precision    recall  f1-score   support\n",
            "\n",
            "     class_0       0.66      0.68      0.67       250\n",
            "     class_1       0.57      0.55      0.56       194\n",
            "\n",
            "    accuracy                           0.62       444\n",
            "   macro avg       0.62      0.62      0.62       444\n",
            "weighted avg       0.62      0.62      0.62       444\n",
            "\n"
          ]
        }
      ]
    },
    {
      "cell_type": "code",
      "metadata": {
        "colab": {
          "base_uri": "https://localhost:8080/"
        },
        "id": "kjUluFpgQT6S",
        "outputId": "30d05d4d-5301-4003-d5e6-c068c626521b"
      },
      "source": [
        "# SVM with Linear and RBF kernel\n",
        "from sklearn.svm import SVC\n",
        "from sklearn.model_selection import RandomizedSearchCV\n",
        "tuned_parameters = [{'kernel':['linear'], 'C':[1, 10, 100, 1000]},\n",
        "                    {'kernel':['rbf'], 'gamma':np.random.rand(3), 'C':[1, 10, 100, 1000]}]\n",
        "SVM = RandomizedSearchCV(SVC(), tuned_parameters, scoring='accuracy')\n",
        "SVM.fit(X_train, y_train)\n",
        "print('Best Parameters in SVC are :\\n')\n",
        "print(SVM.best_estimator_)\n",
        "print(SVM.best_params_)\n",
        "print(SVM.score(X_test, y_test))"
      ],
      "execution_count": 34,
      "outputs": [
        {
          "output_type": "stream",
          "name": "stdout",
          "text": [
            "Best Parameters in SVC are :\n",
            "\n",
            "SVC(C=1, break_ties=False, cache_size=200, class_weight=None, coef0=0.0,\n",
            "    decision_function_shape='ovr', degree=3, gamma=0.414559075855808,\n",
            "    kernel='rbf', max_iter=-1, probability=False, random_state=None,\n",
            "    shrinking=True, tol=0.001, verbose=False)\n",
            "{'kernel': 'rbf', 'gamma': 0.414559075855808, 'C': 1}\n",
            "0.9594594594594594\n"
          ]
        }
      ]
    },
    {
      "cell_type": "code",
      "metadata": {
        "colab": {
          "base_uri": "https://localhost:8080/",
          "height": 296
        },
        "id": "iFhT4GLTQUAq",
        "outputId": "bd9a016b-07f9-444e-e6f9-af1ec8b9f7eb"
      },
      "source": [
        "# Confusion Matrix\n",
        "metrics.plot_confusion_matrix(SVM, X_test, y_test)"
      ],
      "execution_count": 35,
      "outputs": [
        {
          "output_type": "execute_result",
          "data": {
            "text/plain": [
              "<sklearn.metrics._plot.confusion_matrix.ConfusionMatrixDisplay at 0x7f45f3ad1710>"
            ]
          },
          "metadata": {},
          "execution_count": 35
        },
        {
          "output_type": "display_data",
          "data": {
            "image/png": "[encoded data removed]",
            "text/plain": [
              "<Figure size 432x288 with 2 Axes>"
            ]
          },
          "metadata": {
            "needs_background": "light"
          }
        }
      ]
    },
    {
      "cell_type": "code",
      "metadata": {
        "colab": {
          "base_uri": "https://localhost:8080/",
          "height": 296
        },
        "id": "uZjLuS9KQUEV",
        "outputId": "d9131e46-962c-4648-ed06-7c7aebee2f75"
      },
      "source": [
        "# ROC-AUC Curve\n",
        "metrics.plot_roc_curve(SVM, X_test, y_test)"
      ],
      "execution_count": 36,
      "outputs": [
        {
          "output_type": "execute_result",
          "data": {
            "text/plain": [
              "<sklearn.metrics._plot.roc_curve.RocCurveDisplay at 0x7f45f3ac1a90>"
            ]
          },
          "metadata": {},
          "execution_count": 36
        },
        {
          "output_type": "display_data",
          "data": {
            "image/png": "[encoded data removed]",
            "text/plain": [
              "<Figure size 432x288 with 1 Axes>"
            ]
          },
          "metadata": {
            "needs_background": "light"
          }
        }
      ]
    },
    {
      "cell_type": "code",
      "metadata": {
        "colab": {
          "base_uri": "https://localhost:8080/"
        },
        "id": "jnEBiFUvQtyW",
        "outputId": "501c202f-6981-40f8-e583-4c262738e413"
      },
      "source": [
        "# Precision, Recall and F1-score\n",
        "y_pred = SVM.predict(X_test)\n",
        "target_names = ['class_0','class_1']\n",
        "print(metrics.classification_report(y_test, y_pred, target_names=target_names))"
      ],
      "execution_count": 37,
      "outputs": [
        {
          "output_type": "stream",
          "name": "stdout",
          "text": [
            "              precision    recall  f1-score   support\n",
            "\n",
            "     class_0       0.96      0.96      0.96       250\n",
            "     class_1       0.95      0.95      0.95       194\n",
            "\n",
            "    accuracy                           0.96       444\n",
            "   macro avg       0.96      0.96      0.96       444\n",
            "weighted avg       0.96      0.96      0.96       444\n",
            "\n"
          ]
        }
      ]
    },
    {
      "cell_type": "code",
      "metadata": {
        "colab": {
          "base_uri": "https://localhost:8080/"
        },
        "id": "op4NOsifQ5ID",
        "outputId": "ea97722d-8993-4957-f66c-d975942e759c"
      },
      "source": [
        "# Decision Tree Classifier\n",
        "from sklearn.tree import DecisionTreeClassifier\n",
        "tuned_parameters = [{ 'criterion' :['gini', 'entropy'], 'max_depth': [4,5,6,7,8,9,10,11,12,15,20,30,40,50,70,90,120,150]}]\n",
        "DTC = GridSearchCV(DecisionTreeClassifier(), tuned_parameters, cv = 5)\n",
        "DTC.fit(X_train, y_train)\n",
        "print('Best Parameters for Decision Tree Classifier :\\n')\n",
        "print(DTC.best_params_)\n",
        "print(DTC.best_estimator_)\n",
        "print(DTC.score(X_test, y_test))"
      ],
      "execution_count": 38,
      "outputs": [
        {
          "output_type": "stream",
          "name": "stdout",
          "text": [
            "Best Parameters for Decision Tree Classifier :\n",
            "\n",
            "{'criterion': 'entropy', 'max_depth': 30}\n",
            "DecisionTreeClassifier(ccp_alpha=0.0, class_weight=None, criterion='entropy',\n",
            "                       max_depth=30, max_features=None, max_leaf_nodes=None,\n",
            "                       min_impurity_decrease=0.0, min_impurity_split=None,\n",
            "                       min_samples_leaf=1, min_samples_split=2,\n",
            "                       min_weight_fraction_leaf=0.0, presort='deprecated',\n",
            "                       random_state=None, splitter='best')\n",
            "0.9436936936936937\n"
          ]
        }
      ]
    },
    {
      "cell_type": "code",
      "metadata": {
        "colab": {
          "base_uri": "https://localhost:8080/"
        },
        "id": "5OWHE4tbRBPQ",
        "outputId": "bad7189e-7030-42ca-8589-6d39905b653f"
      },
      "source": [
        "print('Best Parameters for Decision Tree Classifier :\\n')\n",
        "print(DTC.best_params_)\n",
        "print(DTC.best_estimator_)\n",
        "print(DTC.score(X_test, y_test))"
      ],
      "execution_count": 39,
      "outputs": [
        {
          "output_type": "stream",
          "name": "stdout",
          "text": [
            "Best Parameters for Decision Tree Classifier :\n",
            "\n",
            "{'criterion': 'entropy', 'max_depth': 30}\n",
            "DecisionTreeClassifier(ccp_alpha=0.0, class_weight=None, criterion='entropy',\n",
            "                       max_depth=30, max_features=None, max_leaf_nodes=None,\n",
            "                       min_impurity_decrease=0.0, min_impurity_split=None,\n",
            "                       min_samples_leaf=1, min_samples_split=2,\n",
            "                       min_weight_fraction_leaf=0.0, presort='deprecated',\n",
            "                       random_state=None, splitter='best')\n",
            "0.9436936936936937\n"
          ]
        }
      ]
    },
    {
      "cell_type": "code",
      "metadata": {
        "colab": {
          "base_uri": "https://localhost:8080/",
          "height": 296
        },
        "id": "EyIihROaRFxW",
        "outputId": "adc75a32-6d5b-4986-f020-6a6bc843b57f"
      },
      "source": [
        "# Confusion Matrix\n",
        "metrics.plot_confusion_matrix(DTC, X_test, y_test)"
      ],
      "execution_count": 40,
      "outputs": [
        {
          "output_type": "execute_result",
          "data": {
            "text/plain": [
              "<sklearn.metrics._plot.confusion_matrix.ConfusionMatrixDisplay at 0x7f45f3ad1210>"
            ]
          },
          "metadata": {},
          "execution_count": 40
        },
        {
          "output_type": "display_data",
          "data": {
            "image/png": "[encoded data removed]",
            "text/plain": [
              "<Figure size 432x288 with 2 Axes>"
            ]
          },
          "metadata": {
            "needs_background": "light"
          }
        }
      ]
    },
    {
      "cell_type": "code",
      "metadata": {
        "colab": {
          "base_uri": "https://localhost:8080/",
          "height": 296
        },
        "id": "tDu-PPC-RZhb",
        "outputId": "021ccd1e-f8bd-4e37-fd5c-0233066a96a0"
      },
      "source": [
        "# ROC-AUC Curve\n",
        "metrics.plot_roc_curve(DTC, X_test, y_test)"
      ],
      "execution_count": 41,
      "outputs": [
        {
          "output_type": "execute_result",
          "data": {
            "text/plain": [
              "<sklearn.metrics._plot.roc_curve.RocCurveDisplay at 0x7f45f3a0a790>"
            ]
          },
          "metadata": {},
          "execution_count": 41
        },
        {
          "output_type": "display_data",
          "data": {
            "image/png": "[encoded data removed]",
            "text/plain": [
              "<Figure size 432x288 with 1 Axes>"
            ]
          },
          "metadata": {
            "needs_background": "light"
          }
        }
      ]
    },
    {
      "cell_type": "code",
      "metadata": {
        "colab": {
          "base_uri": "https://localhost:8080/"
        },
        "id": "I_xHqIXvRZt-",
        "outputId": "805b070c-0233-496f-da6c-3f2fc93ea15b"
      },
      "source": [
        "# Precision, Recall and F1-score\n",
        "y_pred = DTC.predict(X_test)\n",
        "target_names = ['class_0','class_1']\n",
        "print(metrics.classification_report(y_test, y_pred, target_names=target_names))"
      ],
      "execution_count": 42,
      "outputs": [
        {
          "output_type": "stream",
          "name": "stdout",
          "text": [
            "              precision    recall  f1-score   support\n",
            "\n",
            "     class_0       0.96      0.94      0.95       250\n",
            "     class_1       0.92      0.95      0.94       194\n",
            "\n",
            "    accuracy                           0.94       444\n",
            "   macro avg       0.94      0.94      0.94       444\n",
            "weighted avg       0.94      0.94      0.94       444\n",
            "\n"
          ]
        }
      ]
    },
    {
      "cell_type": "code",
      "metadata": {
        "colab": {
          "base_uri": "https://localhost:8080/"
        },
        "id": "vDn4JLkmRkYR",
        "outputId": "cf5997a5-b5f9-44dd-b299-fa7f4c5dc286"
      },
      "source": [
        "# KNN\n",
        "from sklearn.neighbors import KNeighborsClassifier\n",
        "tuned_parameters = [{'n_neighbors':[5,7,9,13,17], 'p':[1,2,3,4]}]\n",
        "\n",
        "KNeighbors = GridSearchCV(KNeighborsClassifier(), tuned_parameters, scoring='accuracy')\n",
        "KNeighbors.fit(X_train, y_train)\n",
        "print(KNeighbors.best_params_)\n",
        "print(KNeighbors.best_estimator_)\n",
        "print(KNeighbors.score(X_test, y_test))"
      ],
      "execution_count": 43,
      "outputs": [
        {
          "output_type": "stream",
          "name": "stdout",
          "text": [
            "{'n_neighbors': 17, 'p': 1}\n",
            "KNeighborsClassifier(algorithm='auto', leaf_size=30, metric='minkowski',\n",
            "                     metric_params=None, n_jobs=None, n_neighbors=17, p=1,\n",
            "                     weights='uniform')\n",
            "0.9662162162162162\n"
          ]
        }
      ]
    },
    {
      "cell_type": "code",
      "metadata": {
        "colab": {
          "base_uri": "https://localhost:8080/",
          "height": 296
        },
        "id": "QipE13FfRzsI",
        "outputId": "d535ef00-aaac-4390-a951-17bcd0e3d1ce"
      },
      "source": [
        "# Confusion Matrix\n",
        "metrics.plot_confusion_matrix(KNeighbors, X_test, y_test)"
      ],
      "execution_count": 44,
      "outputs": [
        {
          "output_type": "execute_result",
          "data": {
            "text/plain": [
              "<sklearn.metrics._plot.confusion_matrix.ConfusionMatrixDisplay at 0x7f45f3ebda10>"
            ]
          },
          "metadata": {},
          "execution_count": 44
        },
        {
          "output_type": "display_data",
          "data": {
            "image/png": "[encoded data removed]",
            "text/plain": [
              "<Figure size 432x288 with 2 Axes>"
            ]
          },
          "metadata": {
            "needs_background": "light"
          }
        }
      ]
    },
    {
      "cell_type": "code",
      "metadata": {
        "colab": {
          "base_uri": "https://localhost:8080/",
          "height": 296
        },
        "id": "tnwOQKc8R0k7",
        "outputId": "d3da3b4d-2d3f-4520-ed8f-34a2cc96a24d"
      },
      "source": [
        "# ROC-AUC Curve\n",
        "metrics.plot_roc_curve(KNeighbors, X_test, y_test)"
      ],
      "execution_count": 45,
      "outputs": [
        {
          "output_type": "execute_result",
          "data": {
            "text/plain": [
              "<sklearn.metrics._plot.roc_curve.RocCurveDisplay at 0x7f45f3bbf350>"
            ]
          },
          "metadata": {},
          "execution_count": 45
        },
        {
          "output_type": "display_data",
          "data": {
            "image/png": "[encoded data removed]",
            "text/plain": [
              "<Figure size 432x288 with 1 Axes>"
            ]
          },
          "metadata": {
            "needs_background": "light"
          }
        }
      ]
    },
    {
      "cell_type": "code",
      "metadata": {
        "colab": {
          "base_uri": "https://localhost:8080/"
        },
        "id": "7sw-s82LR0oK",
        "outputId": "50bc3bb1-d0b2-440c-bd9c-23d6f27ca86d"
      },
      "source": [
        "# Precision, Recall and F1-score\n",
        "y_pred = KNeighbors.predict(X_test)\n",
        "target_names = ['class_0','class_1']\n",
        "print(metrics.classification_report(y_test, y_pred, target_names=target_names))"
      ],
      "execution_count": 46,
      "outputs": [
        {
          "output_type": "stream",
          "name": "stdout",
          "text": [
            "              precision    recall  f1-score   support\n",
            "\n",
            "     class_0       0.98      0.96      0.97       250\n",
            "     class_1       0.95      0.97      0.96       194\n",
            "\n",
            "    accuracy                           0.97       444\n",
            "   macro avg       0.97      0.97      0.97       444\n",
            "weighted avg       0.97      0.97      0.97       444\n",
            "\n"
          ]
        }
      ]
    },
    {
      "cell_type": "markdown",
      "metadata": {
        "id": "yKFMfPoaUeac"
      },
      "source": [
        "We have done hyperparameter tuning of different Models."
      ]
    },
    {
      "cell_type": "code",
      "metadata": {
        "id": "sMTL4mX_Uzhi"
      },
      "source": [
        "Alg_list = [LR, SVM, DTC, KNeighbors]\n",
        "Models = [x.best_estimator_ for x in Alg_list]\n",
        "Accuracy_Score = [x.score(X_test, y_test) for x in Models]\n",
        "F1_score = [metrics.f1_score(y_test, x.predict(X_test))  for x in Alg_list]"
      ],
      "execution_count": 62,
      "outputs": []
    },
    {
      "cell_type": "code",
      "metadata": {
        "colab": {
          "base_uri": "https://localhost:8080/",
          "height": 173
        },
        "id": "18LeUR4rUPY3",
        "outputId": "6ae95fc7-41d9-4114-a45e-d86db7cdd97f"
      },
      "source": [
        "temp_df = pd.DataFrame({'Models': Models, 'Accuracy Score':Accuracy_Score, 'F1-score': F1_score})\n",
        "\n",
        "temp_df.head()"
      ],
      "execution_count": 65,
      "outputs": [
        {
          "output_type": "execute_result",
          "data": {
            "text/html": [
              "<div>\n",
              "<style scoped>\n",
              "    .dataframe tbody tr th:only-of-type {\n",
              "        vertical-align: middle;\n",
              "    }\n",
              "\n",
              "    .dataframe tbody tr th {\n",
              "        vertical-align: top;\n",
              "    }\n",
              "\n",
              "    .dataframe thead th {\n",
              "        text-align: right;\n",
              "    }\n",
              "</style>\n",
              "<table border=\"1\" class=\"dataframe\">\n",
              "  <thead>\n",
              "    <tr style=\"text-align: right;\">\n",
              "      <th></th>\n",
              "      <th>Models</th>\n",
              "      <th>Accuracy Score</th>\n",
              "      <th>F1-score</th>\n",
              "    </tr>\n",
              "  </thead>\n",
              "  <tbody>\n",
              "    <tr>\n",
              "      <th>0</th>\n",
              "      <td>LogisticRegression(C=0.01, class_weight=None, ...</td>\n",
              "      <td>0.623874</td>\n",
              "      <td>0.561680</td>\n",
              "    </tr>\n",
              "    <tr>\n",
              "      <th>1</th>\n",
              "      <td>SVC(C=1, break_ties=False, cache_size=200, cla...</td>\n",
              "      <td>0.959459</td>\n",
              "      <td>0.953608</td>\n",
              "    </tr>\n",
              "    <tr>\n",
              "      <th>2</th>\n",
              "      <td>DecisionTreeClassifier(ccp_alpha=0.0, class_we...</td>\n",
              "      <td>0.943694</td>\n",
              "      <td>0.936387</td>\n",
              "    </tr>\n",
              "    <tr>\n",
              "      <th>3</th>\n",
              "      <td>KNeighborsClassifier(algorithm='auto', leaf_si...</td>\n",
              "      <td>0.966216</td>\n",
              "      <td>0.961637</td>\n",
              "    </tr>\n",
              "  </tbody>\n",
              "</table>\n",
              "</div>"
            ],
            "text/plain": [
              "                                              Models  Accuracy Score  F1-score\n",
              "0  LogisticRegression(C=0.01, class_weight=None, ...        0.623874  0.561680\n",
              "1  SVC(C=1, break_ties=False, cache_size=200, cla...        0.959459  0.953608\n",
              "2  DecisionTreeClassifier(ccp_alpha=0.0, class_we...        0.943694  0.936387\n",
              "3  KNeighborsClassifier(algorithm='auto', leaf_si...        0.966216  0.961637"
            ]
          },
          "metadata": {},
          "execution_count": 65
        }
      ]
    },
    {
      "cell_type": "markdown",
      "metadata": {
        "id": "uzI3TgVfXzW3"
      },
      "source": [
        "From here, we can see Decision Tree Classifier has best Accuracy and F1 score. So the best Model for this Data will be KNN Classifier having 0.96 accuracy and 0.96 F1 score"
      ]
    }
  ]
}
