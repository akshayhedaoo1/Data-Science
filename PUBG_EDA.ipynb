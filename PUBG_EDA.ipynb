{
 "cells": [
  {
   "cell_type": "code",
   "execution_count": 1,
   "metadata": {},
   "outputs": [],
   "source": [
    "import warnings\n",
    "warnings.filterwarnings('ignore')"
   ]
  },
  {
   "cell_type": "code",
   "execution_count": 2,
   "metadata": {},
   "outputs": [],
   "source": [
    "import numpy as np\n",
    "import matplotlib.pyplot as plt\n",
    "import seaborn as sns\n",
    "import pandas as pd\n",
    "from scipy import stats"
   ]
  },
  {
   "cell_type": "code",
   "execution_count": 3,
   "metadata": {},
   "outputs": [],
   "source": [
    "pubg_df = pd.read_csv('C:\\\\Users\\welcome\\Data Science\\Python\\Data\\\\pubg_data.csv')"
   ]
  },
  {
   "cell_type": "code",
   "execution_count": 4,
   "metadata": {},
   "outputs": [
    {
     "data": {
      "text/html": [
       "<div>\n",
       "<style scoped>\n",
       "    .dataframe tbody tr th:only-of-type {\n",
       "        vertical-align: middle;\n",
       "    }\n",
       "\n",
       "    .dataframe tbody tr th {\n",
       "        vertical-align: top;\n",
       "    }\n",
       "\n",
       "    .dataframe thead th {\n",
       "        text-align: right;\n",
       "    }\n",
       "</style>\n",
       "<table border=\"1\" class=\"dataframe\">\n",
       "  <thead>\n",
       "    <tr style=\"text-align: right;\">\n",
       "      <th></th>\n",
       "      <th>Unnamed: 0</th>\n",
       "      <th>Id</th>\n",
       "      <th>groupId</th>\n",
       "      <th>matchId</th>\n",
       "      <th>assists</th>\n",
       "      <th>boosts</th>\n",
       "      <th>damageDealt</th>\n",
       "      <th>DBNOs</th>\n",
       "      <th>headshotKills</th>\n",
       "      <th>heals</th>\n",
       "      <th>...</th>\n",
       "      <th>revives</th>\n",
       "      <th>rideDistance</th>\n",
       "      <th>roadKills</th>\n",
       "      <th>swimDistance</th>\n",
       "      <th>teamKills</th>\n",
       "      <th>vehicleDestroys</th>\n",
       "      <th>walkDistance</th>\n",
       "      <th>weaponsAcquired</th>\n",
       "      <th>winPoints</th>\n",
       "      <th>winPlacePerc</th>\n",
       "    </tr>\n",
       "  </thead>\n",
       "  <tbody>\n",
       "    <tr>\n",
       "      <th>0</th>\n",
       "      <td>2093518</td>\n",
       "      <td>a3e3cea9f2e314</td>\n",
       "      <td>c9f6eaa81245b5</td>\n",
       "      <td>a3d8693390584c</td>\n",
       "      <td>0</td>\n",
       "      <td>0</td>\n",
       "      <td>25.93</td>\n",
       "      <td>0</td>\n",
       "      <td>0</td>\n",
       "      <td>0</td>\n",
       "      <td>...</td>\n",
       "      <td>0</td>\n",
       "      <td>0.0</td>\n",
       "      <td>0</td>\n",
       "      <td>0.0</td>\n",
       "      <td>0</td>\n",
       "      <td>0</td>\n",
       "      <td>151.30</td>\n",
       "      <td>1</td>\n",
       "      <td>1525</td>\n",
       "      <td>0.0667</td>\n",
       "    </tr>\n",
       "    <tr>\n",
       "      <th>1</th>\n",
       "      <td>3701672</td>\n",
       "      <td>43e4be7ad72cc7</td>\n",
       "      <td>521836de101ee8</td>\n",
       "      <td>b65de9055327e0</td>\n",
       "      <td>0</td>\n",
       "      <td>0</td>\n",
       "      <td>36.71</td>\n",
       "      <td>0</td>\n",
       "      <td>0</td>\n",
       "      <td>0</td>\n",
       "      <td>...</td>\n",
       "      <td>0</td>\n",
       "      <td>0.0</td>\n",
       "      <td>0</td>\n",
       "      <td>0.0</td>\n",
       "      <td>0</td>\n",
       "      <td>0</td>\n",
       "      <td>1918.00</td>\n",
       "      <td>7</td>\n",
       "      <td>1516</td>\n",
       "      <td>0.5862</td>\n",
       "    </tr>\n",
       "    <tr>\n",
       "      <th>2</th>\n",
       "      <td>2059784</td>\n",
       "      <td>9a68690e31fdff</td>\n",
       "      <td>4a72ffa2cebd90</td>\n",
       "      <td>d6aad3f9830e60</td>\n",
       "      <td>0</td>\n",
       "      <td>1</td>\n",
       "      <td>47.73</td>\n",
       "      <td>0</td>\n",
       "      <td>0</td>\n",
       "      <td>0</td>\n",
       "      <td>...</td>\n",
       "      <td>0</td>\n",
       "      <td>4088.0</td>\n",
       "      <td>0</td>\n",
       "      <td>0.0</td>\n",
       "      <td>0</td>\n",
       "      <td>0</td>\n",
       "      <td>820.00</td>\n",
       "      <td>7</td>\n",
       "      <td>0</td>\n",
       "      <td>0.8105</td>\n",
       "    </tr>\n",
       "    <tr>\n",
       "      <th>3</th>\n",
       "      <td>1302036</td>\n",
       "      <td>b147e1bd448fc4</td>\n",
       "      <td>9a8991656b3fea</td>\n",
       "      <td>d931c0932d8aca</td>\n",
       "      <td>0</td>\n",
       "      <td>0</td>\n",
       "      <td>0.00</td>\n",
       "      <td>0</td>\n",
       "      <td>0</td>\n",
       "      <td>0</td>\n",
       "      <td>...</td>\n",
       "      <td>1</td>\n",
       "      <td>0.0</td>\n",
       "      <td>0</td>\n",
       "      <td>0.0</td>\n",
       "      <td>0</td>\n",
       "      <td>0</td>\n",
       "      <td>38.81</td>\n",
       "      <td>0</td>\n",
       "      <td>1515</td>\n",
       "      <td>0.5556</td>\n",
       "    </tr>\n",
       "    <tr>\n",
       "      <th>4</th>\n",
       "      <td>297180</td>\n",
       "      <td>d818b4edd59612</td>\n",
       "      <td>eece87c8b846b3</td>\n",
       "      <td>ec2b5ed94baae3</td>\n",
       "      <td>0</td>\n",
       "      <td>2</td>\n",
       "      <td>100.00</td>\n",
       "      <td>0</td>\n",
       "      <td>0</td>\n",
       "      <td>3</td>\n",
       "      <td>...</td>\n",
       "      <td>0</td>\n",
       "      <td>918.4</td>\n",
       "      <td>0</td>\n",
       "      <td>0.0</td>\n",
       "      <td>0</td>\n",
       "      <td>0</td>\n",
       "      <td>1721.00</td>\n",
       "      <td>5</td>\n",
       "      <td>0</td>\n",
       "      <td>0.6429</td>\n",
       "    </tr>\n",
       "  </tbody>\n",
       "</table>\n",
       "<p>5 rows × 30 columns</p>\n",
       "</div>"
      ],
      "text/plain": [
       "   Unnamed: 0              Id         groupId         matchId  assists  \\\n",
       "0     2093518  a3e3cea9f2e314  c9f6eaa81245b5  a3d8693390584c        0   \n",
       "1     3701672  43e4be7ad72cc7  521836de101ee8  b65de9055327e0        0   \n",
       "2     2059784  9a68690e31fdff  4a72ffa2cebd90  d6aad3f9830e60        0   \n",
       "3     1302036  b147e1bd448fc4  9a8991656b3fea  d931c0932d8aca        0   \n",
       "4      297180  d818b4edd59612  eece87c8b846b3  ec2b5ed94baae3        0   \n",
       "\n",
       "   boosts  damageDealt  DBNOs  headshotKills  heals  ...  revives  \\\n",
       "0       0        25.93      0              0      0  ...        0   \n",
       "1       0        36.71      0              0      0  ...        0   \n",
       "2       1        47.73      0              0      0  ...        0   \n",
       "3       0         0.00      0              0      0  ...        1   \n",
       "4       2       100.00      0              0      3  ...        0   \n",
       "\n",
       "   rideDistance  roadKills  swimDistance  teamKills  vehicleDestroys  \\\n",
       "0           0.0          0           0.0          0                0   \n",
       "1           0.0          0           0.0          0                0   \n",
       "2        4088.0          0           0.0          0                0   \n",
       "3           0.0          0           0.0          0                0   \n",
       "4         918.4          0           0.0          0                0   \n",
       "\n",
       "  walkDistance  weaponsAcquired  winPoints  winPlacePerc  \n",
       "0       151.30                1       1525        0.0667  \n",
       "1      1918.00                7       1516        0.5862  \n",
       "2       820.00                7          0        0.8105  \n",
       "3        38.81                0       1515        0.5556  \n",
       "4      1721.00                5          0        0.6429  \n",
       "\n",
       "[5 rows x 30 columns]"
      ]
     },
     "execution_count": 4,
     "metadata": {},
     "output_type": "execute_result"
    }
   ],
   "source": [
    "pubg_df.head()"
   ]
  },
  {
   "cell_type": "code",
   "execution_count": 42,
   "metadata": {},
   "outputs": [
    {
     "data": {
      "text/plain": [
       "Index(['Unnamed: 0', 'Id', 'groupId', 'matchId', 'assists', 'boosts',\n",
       "       'damageDealt', 'DBNOs', 'headshotKills', 'heals', 'killPlace',\n",
       "       'killPoints', 'kills', 'killStreaks', 'longestKill', 'matchDuration',\n",
       "       'matchType', 'maxPlace', 'numGroups', 'rankPoints', 'revives',\n",
       "       'rideDistance', 'roadKills', 'swimDistance', 'teamKills',\n",
       "       'vehicleDestroys', 'walkDistance', 'weaponsAcquired', 'winPoints',\n",
       "       'winPlacePerc'],\n",
       "      dtype='object')"
      ]
     },
     "execution_count": 42,
     "metadata": {},
     "output_type": "execute_result"
    }
   ],
   "source": [
    "pubg_df.columns"
   ]
  },
  {
   "cell_type": "code",
   "execution_count": 261,
   "metadata": {},
   "outputs": [
    {
     "data": {
      "text/plain": [
       "Unnamed: 0           int64\n",
       "Id                  object\n",
       "groupId             object\n",
       "matchId             object\n",
       "assists              int64\n",
       "boosts               int64\n",
       "damageDealt        float64\n",
       "DBNOs                int64\n",
       "headshotKills        int64\n",
       "heals                int64\n",
       "killPlace            int64\n",
       "killPoints           int64\n",
       "kills                int64\n",
       "killStreaks          int64\n",
       "longestKill        float64\n",
       "matchDuration        int64\n",
       "matchType           object\n",
       "maxPlace             int64\n",
       "numGroups            int64\n",
       "rankPoints         float64\n",
       "revives              int64\n",
       "rideDistance       float64\n",
       "roadKills            int64\n",
       "swimDistance       float64\n",
       "teamKills            int64\n",
       "vehicleDestroys      int64\n",
       "walkDistance       float64\n",
       "weaponsAcquired      int64\n",
       "winPoints            int64\n",
       "winPlacePerc       float64\n",
       "dtype: object"
      ]
     },
     "execution_count": 261,
     "metadata": {},
     "output_type": "execute_result"
    }
   ],
   "source": [
    "pubg_df.dtypes"
   ]
  },
  {
   "cell_type": "markdown",
   "metadata": {},
   "source": [
    "## Data Cleaning / Wrangling"
   ]
  },
  {
   "cell_type": "code",
   "execution_count": 83,
   "metadata": {},
   "outputs": [
    {
     "data": {
      "text/plain": [
       "Unnamed: 0         0\n",
       "Id                 0\n",
       "groupId            0\n",
       "matchId            0\n",
       "assists            0\n",
       "boosts             0\n",
       "damageDealt        0\n",
       "DBNOs              0\n",
       "headshotKills      0\n",
       "heals              0\n",
       "killPlace          0\n",
       "killPoints         0\n",
       "kills              0\n",
       "killStreaks        0\n",
       "longestKill        0\n",
       "matchDuration      0\n",
       "matchType          0\n",
       "maxPlace           0\n",
       "numGroups          0\n",
       "rankPoints         0\n",
       "revives            0\n",
       "rideDistance       0\n",
       "roadKills          0\n",
       "swimDistance       0\n",
       "teamKills          0\n",
       "vehicleDestroys    0\n",
       "walkDistance       0\n",
       "weaponsAcquired    0\n",
       "winPoints          0\n",
       "winPlacePerc       1\n",
       "dtype: int64"
      ]
     },
     "execution_count": 83,
     "metadata": {},
     "output_type": "execute_result"
    }
   ],
   "source": [
    "pubg_df.isnull().sum()"
   ]
  },
  {
   "cell_type": "code",
   "execution_count": 243,
   "metadata": {},
   "outputs": [],
   "source": [
    "pubg_df['rankPoints'].replace(-1,np.nan, inplace = True)"
   ]
  },
  {
   "cell_type": "code",
   "execution_count": 318,
   "metadata": {},
   "outputs": [],
   "source": [
    "pubg_df['headshot%'] = (pubg_df['headshotKills'] / pubg_df['kills'])*100"
   ]
  },
  {
   "cell_type": "markdown",
   "metadata": {},
   "source": [
    "## Univariate Analysis"
   ]
  },
  {
   "cell_type": "code",
   "execution_count": 96,
   "metadata": {},
   "outputs": [
    {
     "data": {
      "text/plain": [
       "870622"
      ]
     },
     "execution_count": 96,
     "metadata": {},
     "output_type": "execute_result"
    }
   ],
   "source": [
    "len(pubg_df['groupId'].value_counts().index)"
   ]
  },
  {
   "cell_type": "markdown",
   "metadata": {},
   "source": [
    "Total No of Groups in this dataset are 870622"
   ]
  },
  {
   "cell_type": "code",
   "execution_count": 97,
   "metadata": {},
   "outputs": [
    {
     "data": {
      "text/plain": [
       "47951"
      ]
     },
     "execution_count": 97,
     "metadata": {},
     "output_type": "execute_result"
    }
   ],
   "source": [
    "len(pubg_df['matchId'].value_counts().index)"
   ]
  },
  {
   "cell_type": "markdown",
   "metadata": {},
   "source": [
    "Total Matches in this Data are 47951"
   ]
  },
  {
   "cell_type": "code",
   "execution_count": 101,
   "metadata": {},
   "outputs": [
    {
     "data": {
      "text/plain": [
       "17"
      ]
     },
     "execution_count": 101,
     "metadata": {},
     "output_type": "execute_result"
    }
   ],
   "source": [
    "pubg_df['assists'].value_counts().index.max()"
   ]
  },
  {
   "cell_type": "markdown",
   "metadata": {},
   "source": [
    "Highest No. of Assists by a player : 17"
   ]
  },
  {
   "cell_type": "code",
   "execution_count": 133,
   "metadata": {},
   "outputs": [
    {
     "data": {
      "text/plain": [
       "35"
      ]
     },
     "execution_count": 133,
     "metadata": {},
     "output_type": "execute_result"
    }
   ],
   "source": [
    "pubg_df['DBNOs'].value_counts().index.max()"
   ]
  },
  {
   "cell_type": "markdown",
   "metadata": {},
   "source": [
    "Stands for 'Down But No Out'. During Duo or squad play, when you lose all your HP, you do into this mode. Your duo or squad members can heal you and that is why we don't count this as an out.  Highest No. of DBNOs recieved by a player is 35"
   ]
  },
  {
   "cell_type": "code",
   "execution_count": 125,
   "metadata": {},
   "outputs": [
    {
     "data": {
      "text/plain": [
       "73"
      ]
     },
     "execution_count": 125,
     "metadata": {},
     "output_type": "execute_result"
    }
   ],
   "source": [
    "pubg_df['heals'].value_counts().index.max()"
   ]
  },
  {
   "cell_type": "markdown",
   "metadata": {},
   "source": [
    "Highest No. of Heals given by a player : 17"
   ]
  },
  {
   "cell_type": "code",
   "execution_count": 236,
   "metadata": {},
   "outputs": [
    {
     "data": {
      "text/plain": [
       "<AxesSubplot:xlabel='killPoints', ylabel='Density'>"
      ]
     },
     "execution_count": 236,
     "metadata": {},
     "output_type": "execute_result"
    },
    {
     "data": {
      "image/png": "[encoded data removed]",
      "text/plain": [
       "<Figure size 432x288 with 1 Axes>"
      ]
     },
     "metadata": {
      "needs_background": "light"
     },
     "output_type": "display_data"
    }
   ],
   "source": [
    "plt.xlim(0,200*10)\n",
    "sns.distplot(pubg_df['killPoints'], color = 'violet')"
   ]
  },
  {
   "cell_type": "markdown",
   "metadata": {},
   "source": [
    "Most of the Players have killPoints under 100 and also certain Pro Players have killPoints between 900 to 1800. "
   ]
  },
  {
   "cell_type": "code",
   "execution_count": 139,
   "metadata": {},
   "outputs": [
    {
     "data": {
      "text/plain": [
       "72"
      ]
     },
     "execution_count": 139,
     "metadata": {},
     "output_type": "execute_result"
    }
   ],
   "source": [
    "pubg_df['kills'].value_counts().index.max()"
   ]
  },
  {
   "cell_type": "code",
   "execution_count": 148,
   "metadata": {},
   "outputs": [
    {
     "data": {
      "text/plain": [
       "20"
      ]
     },
     "execution_count": 148,
     "metadata": {},
     "output_type": "execute_result"
    }
   ],
   "source": [
    "pubg_df['killStreaks'].value_counts().index.max()"
   ]
  },
  {
   "cell_type": "markdown",
   "metadata": {},
   "source": [
    "Max Kills by a Player : 72\n",
    "\n",
    "Max killStreaks by a Player : 20"
   ]
  },
  {
   "cell_type": "code",
   "execution_count": 246,
   "metadata": {},
   "outputs": [
    {
     "data": {
      "text/plain": [
       "1040.0"
      ]
     },
     "execution_count": 246,
     "metadata": {},
     "output_type": "execute_result"
    }
   ],
   "source": [
    "pubg_df['longestKill'].value_counts().index.max()"
   ]
  },
  {
   "cell_type": "markdown",
   "metadata": {},
   "source": [
    "Longest distance kill a player can get is 1040 metres away."
   ]
  },
  {
   "cell_type": "code",
   "execution_count": 151,
   "metadata": {},
   "outputs": [
    {
     "data": {
      "text/plain": [
       "1579.347832500706"
      ]
     },
     "execution_count": 151,
     "metadata": {},
     "output_type": "execute_result"
    }
   ],
   "source": [
    "pubg_df['matchDuration'].mean()"
   ]
  },
  {
   "cell_type": "markdown",
   "metadata": {},
   "source": [
    "Average Minutes played by a Player : 1579.35 "
   ]
  },
  {
   "cell_type": "code",
   "execution_count": 152,
   "metadata": {},
   "outputs": [
    {
     "data": {
      "text/plain": [
       "squad-fpp           438781\n",
       "duo-fpp             249927\n",
       "squad               156573\n",
       "solo-fpp            133854\n",
       "duo                  78039\n",
       "solo                 45679\n",
       "normal-squad-fpp      4286\n",
       "crashfpp              1581\n",
       "normal-duo-fpp        1400\n",
       "flaretpp               633\n",
       "normal-solo-fpp        465\n",
       "flarefpp               180\n",
       "normal-squad           135\n",
       "crashtpp                86\n",
       "normal-solo             75\n",
       "normal-duo              48\n",
       "Name: matchType, dtype: int64"
      ]
     },
     "execution_count": 152,
     "metadata": {},
     "output_type": "execute_result"
    }
   ],
   "source": [
    "pubg_df['matchType'].value_counts()"
   ]
  },
  {
   "cell_type": "code",
   "execution_count": 359,
   "metadata": {},
   "outputs": [
    {
     "data": {
      "text/plain": [
       "<AxesSubplot:xlabel='matchType', ylabel='count'>"
      ]
     },
     "execution_count": 359,
     "metadata": {},
     "output_type": "execute_result"
    },
    {
     "data": {
      "image/png": "[encoded data removed]",
      "text/plain": [
       "<Figure size 720x720 with 1 Axes>"
      ]
     },
     "metadata": {
      "needs_background": "light"
     },
     "output_type": "display_data"
    }
   ],
   "source": [
    "plt.figure(figsize = (10,10))\n",
    "plt.xticks(rotation = 90)\n",
    "sns.countplot(pubg_df['matchType'], palette = 'crest')"
   ]
  },
  {
   "cell_type": "markdown",
   "metadata": {},
   "source": [
    "Most Players plays Squad-FPP, Duo-FPP, Squad, Solo-FPP, Duo and Solo Mode."
   ]
  },
  {
   "cell_type": "code",
   "execution_count": 244,
   "metadata": {},
   "outputs": [
    {
     "data": {
      "text/plain": [
       "<AxesSubplot:ylabel='rankPoints'>"
      ]
     },
     "execution_count": 244,
     "metadata": {},
     "output_type": "execute_result"
    },
    {
     "data": {
      "image/png": "[encoded data removed]",
      "text/plain": [
       "<Figure size 432x288 with 1 Axes>"
      ]
     },
     "metadata": {},
     "output_type": "display_data"
    }
   ],
   "source": [
    "(pubg_df['rankPoints']>1200).value_counts().plot.pie(autopct = '%0.0f%%', startangle = 90)"
   ]
  },
  {
   "cell_type": "markdown",
   "metadata": {},
   "source": [
    "Only 60% Players have more than 1200 points. It means they recieve a rank such as Bronze, Silver, Gold etc. and rest 40% are Unranked"
   ]
  },
  {
   "cell_type": "code",
   "execution_count": 164,
   "metadata": {},
   "outputs": [
    {
     "data": {
      "text/plain": [
       "23"
      ]
     },
     "execution_count": 164,
     "metadata": {},
     "output_type": "execute_result"
    }
   ],
   "source": [
    "pubg_df['revives'].value_counts().index.max()"
   ]
  },
  {
   "cell_type": "markdown",
   "metadata": {},
   "source": [
    "Highest Revives by a player : 23"
   ]
  },
  {
   "cell_type": "code",
   "execution_count": 338,
   "metadata": {},
   "outputs": [
    {
     "data": {
      "text/plain": [
       "<AxesSubplot:xlabel='rideDistance', ylabel='Density'>"
      ]
     },
     "execution_count": 338,
     "metadata": {},
     "output_type": "execute_result"
    },
    {
     "data": {
      "image/png": "[encoded data removed]",
      "text/plain": [
       "<Figure size 432x288 with 1 Axes>"
      ]
     },
     "metadata": {
      "needs_background": "light"
     },
     "output_type": "display_data"
    }
   ],
   "source": [
    "plt.xlim(0,100*70)\n",
    "sns.distplot(pubg_df['rideDistance'], color = 'black')"
   ]
  },
  {
   "cell_type": "markdown",
   "metadata": {},
   "source": [
    "Most of the Players have covered distance is under 700m"
   ]
  },
  {
   "cell_type": "code",
   "execution_count": 351,
   "metadata": {},
   "outputs": [
    {
     "data": {
      "text/plain": [
       "<AxesSubplot:xlabel='roadKills', ylabel='Density'>"
      ]
     },
     "execution_count": 351,
     "metadata": {},
     "output_type": "execute_result"
    },
    {
     "data": {
      "image/png": "[encoded data removed]",
      "text/plain": [
       "<Figure size 432x288 with 1 Axes>"
      ]
     },
     "metadata": {
      "needs_background": "light"
     },
     "output_type": "display_data"
    }
   ],
   "source": [
    "sns.distplot(pubg_df['roadKills'], color = 'grey')"
   ]
  },
  {
   "cell_type": "code",
   "execution_count": 178,
   "metadata": {},
   "outputs": [
    {
     "data": {
      "text/plain": [
       "False    99.958983\n",
       "True      0.041017\n",
       "Name: roadKills, dtype: float64"
      ]
     },
     "execution_count": 178,
     "metadata": {},
     "output_type": "execute_result"
    }
   ],
   "source": [
    "(pubg_df['roadKills']>1).value_counts()/len(pubg_df)*100"
   ]
  },
  {
   "cell_type": "markdown",
   "metadata": {},
   "source": [
    "Only 0.04% players got a kill on Road"
   ]
  },
  {
   "cell_type": "code",
   "execution_count": 220,
   "metadata": {},
   "outputs": [
    {
     "data": {
      "text/plain": [
       "<AxesSubplot:xlabel='winPoints', ylabel='Density'>"
      ]
     },
     "execution_count": 220,
     "metadata": {},
     "output_type": "execute_result"
    },
    {
     "data": {
      "image/png": "[encoded data removed]",
      "text/plain": [
       "<Figure size 432x288 with 1 Axes>"
      ]
     },
     "metadata": {
      "needs_background": "light"
     },
     "output_type": "display_data"
    }
   ],
   "source": [
    "plt.xlim(-500,200*10)\n",
    "sns.distplot(pubg_df['winPoints'], color = 'green')"
   ]
  },
  {
   "cell_type": "markdown",
   "metadata": {},
   "source": [
    "Most of the Players have WinPoints between 0 to 250. We can consider them to be the Newbie in this Game. Some Players have WinPoints greater than 1400, we can consider them as Pros."
   ]
  },
  {
   "cell_type": "markdown",
   "metadata": {},
   "source": [
    "## Bivariate Analysis"
   ]
  },
  {
   "cell_type": "code",
   "execution_count": 276,
   "metadata": {},
   "outputs": [
    {
     "data": {
      "text/plain": [
       "<AxesSubplot:xlabel='kills', ylabel='boosts'>"
      ]
     },
     "execution_count": 276,
     "metadata": {},
     "output_type": "execute_result"
    },
    {
     "data": {
      "image/png": "[encoded data removed]",
      "text/plain": [
       "<Figure size 432x288 with 1 Axes>"
      ]
     },
     "metadata": {
      "needs_background": "light"
     },
     "output_type": "display_data"
    }
   ],
   "source": [
    "sns.scatterplot(y = pubg_df['boosts'], x = pubg_df['kills'], color='yellow')"
   ]
  },
  {
   "cell_type": "code",
   "execution_count": 226,
   "metadata": {},
   "outputs": [
    {
     "data": {
      "text/plain": [
       "0.4994784181833401"
      ]
     },
     "execution_count": 226,
     "metadata": {},
     "output_type": "execute_result"
    }
   ],
   "source": [
    "pubg_df['boosts'].corr(pubg_df['kills'])"
   ]
  },
  {
   "cell_type": "markdown",
   "metadata": {},
   "source": [
    "From above Scatterplot, you can say there is certain corelation between boosts and kills. As you take more boosts, your hp increases which results into getting more kills."
   ]
  },
  {
   "cell_type": "code",
   "execution_count": 299,
   "metadata": {},
   "outputs": [],
   "source": [
    "pubg_df1 = pubg_df.loc[(pubg_df['DBNOs']>0) & (pubg_df['kills']>0)]"
   ]
  },
  {
   "cell_type": "code",
   "execution_count": 300,
   "metadata": {},
   "outputs": [
    {
     "data": {
      "text/plain": [
       "<AxesSubplot:xlabel='DBNOs', ylabel='kills'>"
      ]
     },
     "execution_count": 300,
     "metadata": {},
     "output_type": "execute_result"
    },
    {
     "data": {
      "image/png": "[encoded data removed]",
      "text/plain": [
       "<Figure size 432x288 with 1 Axes>"
      ]
     },
     "metadata": {
      "needs_background": "light"
     },
     "output_type": "display_data"
    }
   ],
   "source": [
    "sns.scatterplot(x = pubg_df1['DBNOs'], y = pubg_df1['kills'], color='pink')"
   ]
  },
  {
   "cell_type": "code",
   "execution_count": 295,
   "metadata": {},
   "outputs": [
    {
     "data": {
      "text/plain": [
       "0.7629520471058082"
      ]
     },
     "execution_count": 295,
     "metadata": {},
     "output_type": "execute_result"
    }
   ],
   "source": [
    "pubg_df1['DBNOs'].corr(pubg_df1['kills'])"
   ]
  },
  {
   "cell_type": "markdown",
   "metadata": {},
   "source": [
    "There is certain relation between DBNOs and kills because as you get one revival, you are ready for getting more Kills."
   ]
  },
  {
   "cell_type": "code",
   "execution_count": 352,
   "metadata": {},
   "outputs": [
    {
     "data": {
      "text/plain": [
       "<AxesSubplot:xlabel='matchType', ylabel='vehicleDestroys'>"
      ]
     },
     "execution_count": 352,
     "metadata": {},
     "output_type": "execute_result"
    },
    {
     "data": {
      "image/png": "[encoded data removed]",
      "text/plain": [
       "<Figure size 720x720 with 1 Axes>"
      ]
     },
     "metadata": {
      "needs_background": "light"
     },
     "output_type": "display_data"
    }
   ],
   "source": [
    "pubg_fpp_df = pubg_df.loc[pubg_df['matchType'].isin(['solo-fpp','duofpp','squad-fpp','normal-squad-fpp','crashfpp','normal-duo-fpp','normal-solo-fpp','flarefpp'])]\n",
    "plt.figure(figsize = (10,10))\n",
    "plt.xticks(rotation = 90)\n",
    "sns.barplot(x = pubg_fpp_df['matchType'], y = pubg_fpp_df['vehicleDestroys'], palette='husl')"
   ]
  },
  {
   "cell_type": "markdown",
   "metadata": {},
   "source": [
    "You can get to see more Vehicle Destroys in Normal-Squad, Crash, Flare and Normal-Duo Mode in FPP"
   ]
  },
  {
   "cell_type": "code",
   "execution_count": 353,
   "metadata": {},
   "outputs": [
    {
     "data": {
      "text/plain": [
       "<AxesSubplot:xlabel='matchType', ylabel='teamKills'>"
      ]
     },
     "execution_count": 353,
     "metadata": {},
     "output_type": "execute_result"
    },
    {
     "data": {
      "image/png": "[encoded data removed]",
      "text/plain": [
       "<Figure size 720x720 with 1 Axes>"
      ]
     },
     "metadata": {
      "needs_background": "light"
     },
     "output_type": "display_data"
    }
   ],
   "source": [
    "pubg_fpp_VS_tpp = pubg_df.loc[pubg_df['matchType'].isin(['squad-fpp','normal-squad-fpp','normal-squad','squad'])] \n",
    "\n",
    "plt.figure(figsize = (10,10))\n",
    "plt.xticks(rotation = 90)\n",
    "sns.barplot(x = pubg_fpp_VS_tpp['matchType'], y = pubg_fpp_VS_tpp['teamKills'], palette = 'mako')"
   ]
  },
  {
   "cell_type": "markdown",
   "metadata": {},
   "source": [
    "There is not much difference in Squad Mode in FPP and TPP. But Squad-FPP and Squad gets less kills than Normal-Squad-FPP and Normal-Squad. This is due to participation of less players in Squad-FPP and Squad than Normal-Squad-FPP and Normal-Squad."
   ]
  },
  {
   "cell_type": "code",
   "execution_count": 334,
   "metadata": {},
   "outputs": [
    {
     "data": {
      "text/plain": [
       "63860"
      ]
     },
     "execution_count": 334,
     "metadata": {},
     "output_type": "execute_result"
    }
   ],
   "source": [
    "pubg_df[['headshot%','kills']].loc[(pubg_df['headshot%']>80)].value_counts().sum()"
   ]
  },
  {
   "cell_type": "code",
   "execution_count": 333,
   "metadata": {},
   "outputs": [
    {
     "data": {
      "text/plain": [
       "5.744138478172093"
      ]
     },
     "execution_count": 333,
     "metadata": {},
     "output_type": "execute_result"
    }
   ],
   "source": [
    "pubg_df[['headshot%','kills']].loc[(pubg_df['headshot%']>80)].value_counts().sum()/len(pubg_df)*100"
   ]
  },
  {
   "cell_type": "markdown",
   "metadata": {},
   "source": [
    "Only 5.7% of Players have more than 80% headshot Percentage"
   ]
  },
  {
   "cell_type": "code",
   "execution_count": 360,
   "metadata": {},
   "outputs": [
    {
     "data": {
      "text/plain": [
       "<AxesSubplot:xlabel='matchType', ylabel='longestKill'>"
      ]
     },
     "execution_count": 360,
     "metadata": {},
     "output_type": "execute_result"
    },
    {
     "data": {
      "image/png": "[encoded data removed]",
      "text/plain": [
       "<Figure size 720x720 with 1 Axes>"
      ]
     },
     "metadata": {
      "needs_background": "light"
     },
     "output_type": "display_data"
    }
   ],
   "source": [
    "plt.figure(figsize = (10,10))\n",
    "plt.xticks(rotation = 90)\n",
    "sns.barplot(x = pubg_df['matchType'], y = pubg_df['longestKill'], palette='magma')"
   ]
  },
  {
   "cell_type": "markdown",
   "metadata": {},
   "source": [
    "We have to see more no of longest kills in normal-solo, normal-duo, normal-squad and normal-solo-fpp, normal-duo-fpp, normal-squad-fpp due to more no of participating players."
   ]
  },
  {
   "cell_type": "code",
   "execution_count": 355,
   "metadata": {},
   "outputs": [
    {
     "data": {
      "text/plain": [
       "<AxesSubplot:>"
      ]
     },
     "execution_count": 355,
     "metadata": {},
     "output_type": "execute_result"
    },
    {
     "data": {
      "image/png": "[encoded data removed]",
      "text/plain": [
       "<Figure size 432x288 with 2 Axes>"
      ]
     },
     "metadata": {
      "needs_background": "light"
     },
     "output_type": "display_data"
    }
   ],
   "source": [
    "sns.heatmap(pubg_df[['assists', 'boosts', 'damageDealt', 'DBNOs', 'walkDistance', 'killPoints']].corr(), annot=True)"
   ]
  },
  {
   "cell_type": "markdown",
   "metadata": {},
   "source": [
    "1. There is corelation between boosts and DBNOs because after revival players need boosts to increase their HPs.\n",
    "2. Boosts are used to increase the HPs, hence there is certain corelation between Boosts and Damage Dealts.\n",
    "3. Players who take DBNOs have more Damages due to change in HP."
   ]
  },
  {
   "cell_type": "markdown",
   "metadata": {},
   "source": [
    "## Conclusion"
   ]
  },
  {
   "cell_type": "markdown",
   "metadata": {},
   "source": [
    "1.  Total No of Groups in this dataset : 870622  \n",
    "\n",
    "2.  Total Matches in this Data : 47951\n",
    "\n",
    "3.  Highest No. of Assists by a player : 17\n",
    "\n",
    "4.  Stands for 'Down But No Out'. During Duo or squad play, when you lose all your HP, you do into this mode. Your duo or squad     members can heal you and that is why we don't count this as an out. Highest No. of DBNOs recieved by a player : 35\n",
    "\n",
    "5.  Highest No. of Heals given by a player : 17\n",
    "\n",
    "6.  Most of the Players have killPoints under 100 and also certain Pro Players have killPoints between 900 to 1800.\n",
    "\n",
    "7.  Max Kills by a Player : 72. Max killStreaks by a Player : 20\n",
    "\n",
    "8.  Average Minutes played by a Player : 1579.35\n",
    "\n",
    "9.  Longest distance kill a player can get is 1040 metres away.\n",
    "\n",
    "10. Most Players plays Squad-FPP, Duo-FPP, Squad, Solo-FPP, Duo and Solo Mode.\n",
    "\n",
    "11. Only 60% Players have more than 1200 points. It means they recieve a rank such as Bronze, Silver, Gold etc. and rest 40% are     Unranked.\n",
    "\n",
    "12. Highest Revives by a player : 23\n",
    "\n",
    "13. Most of the Players have covered distance through vehicle is under 700m.\n",
    "\n",
    "14. Only 0.04% players got a kill on Road.\n",
    "\n",
    "15. Most of the Players have WinPoints between 0 to 250. We can consider them to be the Newbie in this Game. Some Players have       WinPoints greater than 1400, we can consider them as Pros.\n",
    "\n",
    "16. As you take more boosts, your hp increases which results into getting more kills.\n",
    "\n",
    "17. There is certain relation between DBNOs and kills because as you get a revival, you are ready for getting more Kills.\n",
    "\n",
    "18. You can get to see more Vehicle Destroys in Normal-Squad, Crash, Flare and Normal-Duo Mode in FPP.\n",
    "\n",
    "19. There is not much difference in Squad Mode in FPP and TPP. But Squad-FPP and Squad gets less kills than Normal-Squad-FPP and     Normal-Squad. This is due to participation of less players in Squad-FPP and Squad than Normal-Squad-FPP and Normal-Squad.\n",
    "\n",
    "20. Only 5.7% of Players have more than 80% headshot Percentage.\n",
    "\n",
    "21. There are more no of longest kills in normal-solo, normal-duo, normal-squad and normal-solo-fpp, normal-duo-fpp, normal-         squad-fpp due to more no of participating players. \n",
    "\n",
    "22. There is corelation between boosts and DBNOs because after revival players need boosts to increase their HPs.\n",
    "\n",
    "23. Boosts are used to increase the HPs, hence there is certain corelation between Boosts and Damage Dealts.\n",
    "\n",
    "24. Players who take DBNOs have more Damages due to change in HP."
   ]
  }
 ],
 "metadata": {
  "kernelspec": {
   "display_name": "Python 3",
   "language": "python",
   "name": "python3"
  },
  "language_info": {
   "codemirror_mode": {
    "name": "ipython",
    "version": 3
   },
   "file_extension": ".py",
   "mimetype": "text/x-python",
   "name": "python",
   "nbconvert_exporter": "python",
   "pygments_lexer": "ipython3",
   "version": "3.8.5"
  }
 },
 "nbformat": 4,
 "nbformat_minor": 4
}
