{
 "cells": [
  {
   "cell_type": "code",
   "execution_count": 2,
   "metadata": {},
   "outputs": [],
   "source": [
    "import pandas as pd\n",
    "import numpy as np"
   ]
  },
  {
   "cell_type": "code",
   "execution_count": 3,
   "metadata": {},
   "outputs": [],
   "source": [
    "import re"
   ]
  },
  {
   "cell_type": "code",
   "execution_count": 4,
   "metadata": {},
   "outputs": [],
   "source": [
    "import seaborn as sns\n",
    "import matplotlib.pyplot as plt"
   ]
  },
  {
   "cell_type": "code",
   "execution_count": 4,
   "metadata": {},
   "outputs": [],
   "source": [
    "from bs4 import BeautifulSoup\n",
    "import requests"
   ]
  },
  {
   "cell_type": "code",
   "execution_count": 5,
   "metadata": {},
   "outputs": [],
   "source": [
    "url = 'https://www.vlr.gg/stats'"
   ]
  },
  {
   "cell_type": "code",
   "execution_count": 8,
   "metadata": {},
   "outputs": [],
   "source": [
    "website = requests.get(url)"
   ]
  },
  {
   "cell_type": "code",
   "execution_count": 9,
   "metadata": {},
   "outputs": [
    {
     "data": {
      "text/plain": [
       "200"
      ]
     },
     "execution_count": 9,
     "metadata": {},
     "output_type": "execute_result"
    }
   ],
   "source": [
    "website.status_code"
   ]
  },
  {
   "cell_type": "code",
   "execution_count": 10,
   "metadata": {},
   "outputs": [],
   "source": [
    "soup = BeautifulSoup(website.content)"
   ]
  },
  {
   "cell_type": "code",
   "execution_count": 141,
   "metadata": {},
   "outputs": [],
   "source": [
    "Player = []\n",
    "Agent = []\n",
    "Rounds = []\n",
    "ACS = []\n",
    "K = []\n",
    "D = []\n",
    "A = []\n",
    "Kmax = []\n",
    "KDA  = []"
   ]
  },
  {
   "cell_type": "code",
   "execution_count": 142,
   "metadata": {},
   "outputs": [],
   "source": [
    "player = soup.find_all('div',{'class':'text-of'})\n",
    "for p in player:\n",
    "    if p is None:\n",
    "        Player.append(np.nan)\n",
    "    else:\n",
    "        Player.append(p.text)"
   ]
  },
  {
   "cell_type": "code",
   "execution_count": 143,
   "metadata": {},
   "outputs": [],
   "source": [
    "agents = soup.find_all('td',{'class':'mod-agents'})\n",
    "for a in agents:\n",
    "    if a.img is None:\n",
    "        Agent.append(np.nan)\n",
    "    else:\n",
    "        Agent.append(a.img.get('src'))\n"
   ]
  },
  {
   "cell_type": "code",
   "execution_count": 144,
   "metadata": {},
   "outputs": [],
   "source": [
    "round = soup.find_all('td',{'class':'mod-rnd'})\n",
    "for r in round:\n",
    "    if r is None:\n",
    "        Rounds.append(np.nan)\n",
    "    else:\n",
    "        Rounds.append(r.text)"
   ]
  },
  {
   "cell_type": "code",
   "execution_count": 145,
   "metadata": {},
   "outputs": [],
   "source": [
    "acs = soup.find_all('div',{'class':'color-sq'})\n",
    "for ac in acs:\n",
    "    if ac is None:\n",
    "        ACS.append(np.nan)\n",
    "    else:\n",
    "        ACS.append(ac.text)"
   ]
  },
  {
   "cell_type": "code",
   "execution_count": 146,
   "metadata": {},
   "outputs": [],
   "source": [
    "kmax = soup.find_all('td',{'class':'mod-a mod-kmax'})\n",
    "for k in kmax:\n",
    "    if k.text is None:\n",
    "        Kmax.append(np.nan)\n",
    "    else:\n",
    "        Kmax.append(k.text)"
   ]
  },
  {
   "cell_type": "code",
   "execution_count": 147,
   "metadata": {},
   "outputs": [],
   "source": [
    "KDA = soup.find_all('table',{'class':'wf-table mod-stats'})\n",
    "for x in KDA:\n",
    "    kda = x.findAll('td',{'class':''})"
   ]
  },
  {
   "cell_type": "code",
   "execution_count": 148,
   "metadata": {},
   "outputs": [],
   "source": [
    "kills = []"
   ]
  },
  {
   "cell_type": "code",
   "execution_count": 149,
   "metadata": {},
   "outputs": [],
   "source": [
    "for k in kda:\n",
    "        if k is None:\n",
    "            kills.append(np.nan)\n",
    "        else:\n",
    "            kills.append(k.text)"
   ]
  },
  {
   "cell_type": "code",
   "execution_count": 151,
   "metadata": {},
   "outputs": [
    {
     "data": {
      "text/plain": [
       "8175"
      ]
     },
     "execution_count": 151,
     "metadata": {},
     "output_type": "execute_result"
    }
   ],
   "source": [
    "len(kills)"
   ]
  },
  {
   "cell_type": "code",
   "execution_count": 152,
   "metadata": {},
   "outputs": [
    {
     "data": {
      "text/plain": [
       "14715"
      ]
     },
     "execution_count": 152,
     "metadata": {},
     "output_type": "execute_result"
    }
   ],
   "source": [
    "len(ACS)"
   ]
  },
  {
   "cell_type": "code",
   "execution_count": 153,
   "metadata": {},
   "outputs": [
    {
     "data": {
      "text/plain": [
       "1635"
      ]
     },
     "execution_count": 153,
     "metadata": {},
     "output_type": "execute_result"
    }
   ],
   "source": [
    "len(Rounds)"
   ]
  },
  {
   "cell_type": "code",
   "execution_count": 154,
   "metadata": {},
   "outputs": [
    {
     "data": {
      "text/plain": [
       "1635"
      ]
     },
     "execution_count": 154,
     "metadata": {},
     "output_type": "execute_result"
    }
   ],
   "source": [
    "len(Kmax)"
   ]
  },
  {
   "cell_type": "code",
   "execution_count": 155,
   "metadata": {},
   "outputs": [
    {
     "data": {
      "text/plain": [
       "1635"
      ]
     },
     "execution_count": 155,
     "metadata": {},
     "output_type": "execute_result"
    }
   ],
   "source": [
    "len(Agent)"
   ]
  },
  {
   "cell_type": "code",
   "execution_count": 156,
   "metadata": {},
   "outputs": [
    {
     "data": {
      "text/plain": [
       "1635"
      ]
     },
     "execution_count": 156,
     "metadata": {},
     "output_type": "execute_result"
    }
   ],
   "source": [
    "len(Player)"
   ]
  },
  {
   "cell_type": "code",
   "execution_count": 157,
   "metadata": {},
   "outputs": [],
   "source": [
    "ACS = ACS[0::9]"
   ]
  },
  {
   "cell_type": "code",
   "execution_count": 158,
   "metadata": {},
   "outputs": [],
   "source": [
    "K = kills[0::5]"
   ]
  },
  {
   "cell_type": "code",
   "execution_count": 159,
   "metadata": {},
   "outputs": [],
   "source": [
    "D = kills[1::5]"
   ]
  },
  {
   "cell_type": "code",
   "execution_count": 160,
   "metadata": {},
   "outputs": [],
   "source": [
    "A = kills[2::5]"
   ]
  },
  {
   "cell_type": "code",
   "execution_count": 161,
   "metadata": {},
   "outputs": [],
   "source": [
    "vlr = pd.DataFrame({'Player':Player, 'Agent':Agent, 'Rounds':Rounds, 'ACS':ACS, 'Kills':K, 'Deaths':D, 'Assists':A, 'Max Kills':Kmax, })"
   ]
  },
  {
   "cell_type": "code",
   "execution_count": 162,
   "metadata": {},
   "outputs": [
    {
     "data": {
      "text/html": [
       "<div>\n",
       "<style scoped>\n",
       "    .dataframe tbody tr th:only-of-type {\n",
       "        vertical-align: middle;\n",
       "    }\n",
       "\n",
       "    .dataframe tbody tr th {\n",
       "        vertical-align: top;\n",
       "    }\n",
       "\n",
       "    .dataframe thead th {\n",
       "        text-align: right;\n",
       "    }\n",
       "</style>\n",
       "<table border=\"1\" class=\"dataframe\">\n",
       "  <thead>\n",
       "    <tr style=\"text-align: right;\">\n",
       "      <th></th>\n",
       "      <th>Player</th>\n",
       "      <th>Agent</th>\n",
       "      <th>Rounds</th>\n",
       "      <th>ACS</th>\n",
       "      <th>Kills</th>\n",
       "      <th>Deaths</th>\n",
       "      <th>Assists</th>\n",
       "      <th>Max Kills</th>\n",
       "    </tr>\n",
       "  </thead>\n",
       "  <tbody>\n",
       "    <tr>\n",
       "      <th>0</th>\n",
       "      <td>Keiti</td>\n",
       "      <td>/img/vlr/game/agents/jett.png</td>\n",
       "      <td>373</td>\n",
       "      <td>317.9</td>\n",
       "      <td>405</td>\n",
       "      <td>235</td>\n",
       "      <td>72</td>\n",
       "      <td>\\n\\n\\t\\t\\t\\t\\t\\t\\t35\\t\\t\\t\\t\\t\\t\\n</td>\n",
       "    </tr>\n",
       "    <tr>\n",
       "      <th>1</th>\n",
       "      <td>Shalaby</td>\n",
       "      <td>/img/vlr/game/agents/raze.png</td>\n",
       "      <td>501</td>\n",
       "      <td>317.1</td>\n",
       "      <td>567</td>\n",
       "      <td>343</td>\n",
       "      <td>116</td>\n",
       "      <td>\\n\\n\\t\\t\\t\\t\\t\\t\\t32\\t\\t\\t\\t\\t\\t\\n</td>\n",
       "    </tr>\n",
       "    <tr>\n",
       "      <th>2</th>\n",
       "      <td>ZmjjKK</td>\n",
       "      <td>/img/vlr/game/agents/raze.png</td>\n",
       "      <td>471</td>\n",
       "      <td>313.3</td>\n",
       "      <td>507</td>\n",
       "      <td>331</td>\n",
       "      <td>97</td>\n",
       "      <td>\\n\\n\\t\\t\\t\\t\\t\\t\\t29\\t\\t\\t\\t\\t\\t\\n</td>\n",
       "    </tr>\n",
       "    <tr>\n",
       "      <th>3</th>\n",
       "      <td>Seoldam</td>\n",
       "      <td>/img/vlr/game/agents/jett.png</td>\n",
       "      <td>370</td>\n",
       "      <td>311.6</td>\n",
       "      <td>404</td>\n",
       "      <td>249</td>\n",
       "      <td>77</td>\n",
       "      <td>\\n\\n\\t\\t\\t\\t\\t\\t\\t28\\t\\t\\t\\t\\t\\t\\n</td>\n",
       "    </tr>\n",
       "    <tr>\n",
       "      <th>4</th>\n",
       "      <td>ScreaM</td>\n",
       "      <td>/img/vlr/game/agents/reyna.png</td>\n",
       "      <td>825</td>\n",
       "      <td>307.0</td>\n",
       "      <td>864</td>\n",
       "      <td>531</td>\n",
       "      <td>253</td>\n",
       "      <td>\\n\\n\\t\\t\\t\\t\\t\\t\\t30\\t\\t\\t\\t\\t\\t\\n</td>\n",
       "    </tr>\n",
       "    <tr>\n",
       "      <th>...</th>\n",
       "      <td>...</td>\n",
       "      <td>...</td>\n",
       "      <td>...</td>\n",
       "      <td>...</td>\n",
       "      <td>...</td>\n",
       "      <td>...</td>\n",
       "      <td>...</td>\n",
       "      <td>...</td>\n",
       "    </tr>\n",
       "    <tr>\n",
       "      <th>1630</th>\n",
       "      <td>Synergy</td>\n",
       "      <td>/img/vlr/game/agents/omen.png</td>\n",
       "      <td>333</td>\n",
       "      <td>142.9</td>\n",
       "      <td>158</td>\n",
       "      <td>286</td>\n",
       "      <td>72</td>\n",
       "      <td>\\n\\n\\t\\t\\t\\t\\t\\t\\t16\\t\\t\\t\\t\\t\\t\\n</td>\n",
       "    </tr>\n",
       "    <tr>\n",
       "      <th>1631</th>\n",
       "      <td>LAF</td>\n",
       "      <td>/img/vlr/game/agents/omen.png</td>\n",
       "      <td>574</td>\n",
       "      <td>140.9</td>\n",
       "      <td>287</td>\n",
       "      <td>401</td>\n",
       "      <td>148</td>\n",
       "      <td>\\n\\n\\t\\t\\t\\t\\t\\t\\t21\\t\\t\\t\\t\\t\\t\\n</td>\n",
       "    </tr>\n",
       "    <tr>\n",
       "      <th>1632</th>\n",
       "      <td>Okapi</td>\n",
       "      <td>/img/vlr/game/agents/cypher.png</td>\n",
       "      <td>369</td>\n",
       "      <td>139.7</td>\n",
       "      <td>183</td>\n",
       "      <td>275</td>\n",
       "      <td>53</td>\n",
       "      <td>\\n\\n\\t\\t\\t\\t\\t\\t\\t19\\t\\t\\t\\t\\t\\t\\n</td>\n",
       "    </tr>\n",
       "    <tr>\n",
       "      <th>1633</th>\n",
       "      <td>M1ST</td>\n",
       "      <td>/img/vlr/game/agents/brimstone.png</td>\n",
       "      <td>519</td>\n",
       "      <td>134.0</td>\n",
       "      <td>239</td>\n",
       "      <td>391</td>\n",
       "      <td>143</td>\n",
       "      <td>\\n\\n\\t\\t\\t\\t\\t\\t\\t22\\t\\t\\t\\t\\t\\t\\n</td>\n",
       "    </tr>\n",
       "    <tr>\n",
       "      <th>1634</th>\n",
       "      <td>Gorilla</td>\n",
       "      <td>/img/vlr/game/agents/sova.png</td>\n",
       "      <td>371</td>\n",
       "      <td>118.5</td>\n",
       "      <td>137</td>\n",
       "      <td>282</td>\n",
       "      <td>120</td>\n",
       "      <td>\\n\\n\\t\\t\\t\\t\\t\\t\\t14\\t\\t\\t\\t\\t\\t\\n</td>\n",
       "    </tr>\n",
       "  </tbody>\n",
       "</table>\n",
       "<p>1635 rows × 8 columns</p>\n",
       "</div>"
      ],
      "text/plain": [
       "       Player                               Agent Rounds    ACS Kills Deaths  \\\n",
       "0       Keiti       /img/vlr/game/agents/jett.png    373  317.9   405    235   \n",
       "1     Shalaby       /img/vlr/game/agents/raze.png    501  317.1   567    343   \n",
       "2      ZmjjKK       /img/vlr/game/agents/raze.png    471  313.3   507    331   \n",
       "3     Seoldam       /img/vlr/game/agents/jett.png    370  311.6   404    249   \n",
       "4      ScreaM      /img/vlr/game/agents/reyna.png    825  307.0   864    531   \n",
       "...       ...                                 ...    ...    ...   ...    ...   \n",
       "1630  Synergy       /img/vlr/game/agents/omen.png    333  142.9   158    286   \n",
       "1631      LAF       /img/vlr/game/agents/omen.png    574  140.9   287    401   \n",
       "1632    Okapi     /img/vlr/game/agents/cypher.png    369  139.7   183    275   \n",
       "1633     M1ST  /img/vlr/game/agents/brimstone.png    519  134.0   239    391   \n",
       "1634  Gorilla       /img/vlr/game/agents/sova.png    371  118.5   137    282   \n",
       "\n",
       "     Assists                           Max Kills  \n",
       "0         72  \\n\\n\\t\\t\\t\\t\\t\\t\\t35\\t\\t\\t\\t\\t\\t\\n  \n",
       "1        116  \\n\\n\\t\\t\\t\\t\\t\\t\\t32\\t\\t\\t\\t\\t\\t\\n  \n",
       "2         97  \\n\\n\\t\\t\\t\\t\\t\\t\\t29\\t\\t\\t\\t\\t\\t\\n  \n",
       "3         77  \\n\\n\\t\\t\\t\\t\\t\\t\\t28\\t\\t\\t\\t\\t\\t\\n  \n",
       "4        253  \\n\\n\\t\\t\\t\\t\\t\\t\\t30\\t\\t\\t\\t\\t\\t\\n  \n",
       "...      ...                                 ...  \n",
       "1630      72  \\n\\n\\t\\t\\t\\t\\t\\t\\t16\\t\\t\\t\\t\\t\\t\\n  \n",
       "1631     148  \\n\\n\\t\\t\\t\\t\\t\\t\\t21\\t\\t\\t\\t\\t\\t\\n  \n",
       "1632      53  \\n\\n\\t\\t\\t\\t\\t\\t\\t19\\t\\t\\t\\t\\t\\t\\n  \n",
       "1633     143  \\n\\n\\t\\t\\t\\t\\t\\t\\t22\\t\\t\\t\\t\\t\\t\\n  \n",
       "1634     120  \\n\\n\\t\\t\\t\\t\\t\\t\\t14\\t\\t\\t\\t\\t\\t\\n  \n",
       "\n",
       "[1635 rows x 8 columns]"
      ]
     },
     "execution_count": 162,
     "metadata": {},
     "output_type": "execute_result"
    }
   ],
   "source": [
    "vlr"
   ]
  },
  {
   "cell_type": "code",
   "execution_count": 211,
   "metadata": {},
   "outputs": [],
   "source": [
    "class regex:\n",
    "    def extract(x):\n",
    "        return ''.join(x)\n",
    "    def extnum(x):\n",
    "        return re.findall('\\d+',x)\n",
    "    def convint(x):\n",
    "        return int(x)\n",
    "    def convfloat(x):\n",
    "        return float(x)"
   ]
  },
  {
   "cell_type": "code",
   "execution_count": 171,
   "metadata": {},
   "outputs": [],
   "source": [
    "regex = lambda x : re.findall('astra|breach|brimstone|cypher|jett|killjoy|omen|phoenix|raze|reyna|sage|skye|sova|viper|yoru',x)\n",
    "\n",
    "vlr['Agent'] = vlr.Agent.apply(regex)"
   ]
  },
  {
   "cell_type": "code",
   "execution_count": 178,
   "metadata": {},
   "outputs": [],
   "source": [
    "vlr['Agent'] = vlr.Agent.apply(regex.extract)"
   ]
  },
  {
   "cell_type": "code",
   "execution_count": 185,
   "metadata": {},
   "outputs": [],
   "source": [
    "vlr['Max Kills'] = vlr['Max Kills'].apply(regex.extnum)"
   ]
  },
  {
   "cell_type": "code",
   "execution_count": 187,
   "metadata": {},
   "outputs": [],
   "source": [
    "vlr['Max Kills'] = vlr['Max Kills'].apply(regex.extract)"
   ]
  },
  {
   "cell_type": "code",
   "execution_count": 212,
   "metadata": {},
   "outputs": [],
   "source": [
    "vlr['Rounds'] = vlr['Rounds'].apply(regex.convint)\n",
    "vlr['ACS'] = vlr['ACS'].apply(regex.convfloat)\n",
    "vlr['Kills'] = vlr['Kills'].apply(regex.convint)\n",
    "vlr['Deaths'] = vlr['Deaths'].apply(regex.convint)\n",
    "vlr['Assists'] = vlr['Assists'].apply(regex.convint)\n",
    "vlr['Max Kills'] = vlr['Max Kills'].apply(regex.convint)"
   ]
  },
  {
   "cell_type": "code",
   "execution_count": 214,
   "metadata": {},
   "outputs": [],
   "source": [
    "vlr['KD'] = vlr['Kills']/ vlr['Deaths']"
   ]
  },
  {
   "cell_type": "code",
   "execution_count": 215,
   "metadata": {},
   "outputs": [
    {
     "data": {
      "text/html": [
       "<div>\n",
       "<style scoped>\n",
       "    .dataframe tbody tr th:only-of-type {\n",
       "        vertical-align: middle;\n",
       "    }\n",
       "\n",
       "    .dataframe tbody tr th {\n",
       "        vertical-align: top;\n",
       "    }\n",
       "\n",
       "    .dataframe thead th {\n",
       "        text-align: right;\n",
       "    }\n",
       "</style>\n",
       "<table border=\"1\" class=\"dataframe\">\n",
       "  <thead>\n",
       "    <tr style=\"text-align: right;\">\n",
       "      <th></th>\n",
       "      <th>Player</th>\n",
       "      <th>Agent</th>\n",
       "      <th>Rounds</th>\n",
       "      <th>ACS</th>\n",
       "      <th>Kills</th>\n",
       "      <th>Deaths</th>\n",
       "      <th>Assists</th>\n",
       "      <th>Max Kills</th>\n",
       "      <th>KD</th>\n",
       "    </tr>\n",
       "  </thead>\n",
       "  <tbody>\n",
       "    <tr>\n",
       "      <th>0</th>\n",
       "      <td>Keiti</td>\n",
       "      <td>jett</td>\n",
       "      <td>373</td>\n",
       "      <td>317.9</td>\n",
       "      <td>405</td>\n",
       "      <td>235</td>\n",
       "      <td>72</td>\n",
       "      <td>35</td>\n",
       "      <td>1.723404</td>\n",
       "    </tr>\n",
       "    <tr>\n",
       "      <th>1</th>\n",
       "      <td>Shalaby</td>\n",
       "      <td>raze</td>\n",
       "      <td>501</td>\n",
       "      <td>317.1</td>\n",
       "      <td>567</td>\n",
       "      <td>343</td>\n",
       "      <td>116</td>\n",
       "      <td>32</td>\n",
       "      <td>1.653061</td>\n",
       "    </tr>\n",
       "    <tr>\n",
       "      <th>2</th>\n",
       "      <td>ZmjjKK</td>\n",
       "      <td>raze</td>\n",
       "      <td>471</td>\n",
       "      <td>313.3</td>\n",
       "      <td>507</td>\n",
       "      <td>331</td>\n",
       "      <td>97</td>\n",
       "      <td>29</td>\n",
       "      <td>1.531722</td>\n",
       "    </tr>\n",
       "    <tr>\n",
       "      <th>3</th>\n",
       "      <td>Seoldam</td>\n",
       "      <td>jett</td>\n",
       "      <td>370</td>\n",
       "      <td>311.6</td>\n",
       "      <td>404</td>\n",
       "      <td>249</td>\n",
       "      <td>77</td>\n",
       "      <td>28</td>\n",
       "      <td>1.622490</td>\n",
       "    </tr>\n",
       "    <tr>\n",
       "      <th>4</th>\n",
       "      <td>ScreaM</td>\n",
       "      <td>reyna</td>\n",
       "      <td>825</td>\n",
       "      <td>307.0</td>\n",
       "      <td>864</td>\n",
       "      <td>531</td>\n",
       "      <td>253</td>\n",
       "      <td>30</td>\n",
       "      <td>1.627119</td>\n",
       "    </tr>\n",
       "  </tbody>\n",
       "</table>\n",
       "</div>"
      ],
      "text/plain": [
       "    Player  Agent  Rounds    ACS  Kills  Deaths  Assists  Max Kills        KD\n",
       "0    Keiti   jett     373  317.9    405     235       72         35  1.723404\n",
       "1  Shalaby   raze     501  317.1    567     343      116         32  1.653061\n",
       "2   ZmjjKK   raze     471  313.3    507     331       97         29  1.531722\n",
       "3  Seoldam   jett     370  311.6    404     249       77         28  1.622490\n",
       "4   ScreaM  reyna     825  307.0    864     531      253         30  1.627119"
      ]
     },
     "execution_count": 215,
     "metadata": {},
     "output_type": "execute_result"
    }
   ],
   "source": [
    "vlr.head()"
   ]
  },
  {
   "cell_type": "code",
   "execution_count": 239,
   "metadata": {},
   "outputs": [],
   "source": [
    "vlr.to_csv('C:\\\\Users\\welcome\\Data Science\\Python\\Data\\\\vlr.csv')"
   ]
  },
  {
   "cell_type": "code",
   "execution_count": 5,
   "metadata": {},
   "outputs": [],
   "source": [
    "vlr = pd.read_csv('C:\\\\Users\\welcome\\Data Science\\Python\\Data\\\\vlr.csv')"
   ]
  },
  {
   "cell_type": "markdown",
   "metadata": {},
   "source": [
    "## Data Analysis"
   ]
  },
  {
   "cell_type": "markdown",
   "metadata": {},
   "source": [
    "### Univariate Analysis"
   ]
  },
  {
   "cell_type": "code",
   "execution_count": 13,
   "metadata": {},
   "outputs": [
    {
     "data": {
      "text/plain": [
       "omen         16.024465\n",
       "sova         16.024465\n",
       "jett         15.107034\n",
       "raze         11.743119\n",
       "cypher       10.458716\n",
       "killjoy       7.706422\n",
       "sage          5.688073\n",
       "breach        4.709480\n",
       "phoenix       3.914373\n",
       "reyna         2.874618\n",
       "brimstone     2.629969\n",
       "skye          1.773700\n",
       "viper         1.223242\n",
       "yoru          0.061162\n",
       "astra         0.061162\n",
       "Name: Agent, dtype: float64"
      ]
     },
     "execution_count": 13,
     "metadata": {},
     "output_type": "execute_result"
    }
   ],
   "source": [
    "# Most Agents used\n",
    "vlr.Agent.value_counts()/len(vlr.Agent) * 100"
   ]
  },
  {
   "cell_type": "code",
   "execution_count": 117,
   "metadata": {},
   "outputs": [
    {
     "data": {
      "text/plain": [
       "Text(0.5, 1.0, 'Percentage of Agents used')"
      ]
     },
     "execution_count": 117,
     "metadata": {},
     "output_type": "execute_result"
    },
    {
     "data": {
      "image/png": "[encoded data removed]",
      "text/plain": [
       "<Figure size 432x432 with 1 Axes>"
      ]
     },
     "metadata": {},
     "output_type": "display_data"
    }
   ],
   "source": [
    "plt.figure(figsize =(6,6))\n",
    "vlr.Agent.value_counts().plot.pie(autopct = '%0.0f%%')\n",
    "plt.title('Percentage of Agents used')\n"
   ]
  },
  {
   "cell_type": "code",
   "execution_count": 29,
   "metadata": {},
   "outputs": [
    {
     "data": {
      "text/plain": [
       "47"
      ]
     },
     "execution_count": 29,
     "metadata": {},
     "output_type": "execute_result"
    }
   ],
   "source": [
    "# Highest Kills in a round\n",
    "vlr['Max Kills'].value_counts().index.max()"
   ]
  },
  {
   "cell_type": "code",
   "execution_count": 119,
   "metadata": {},
   "outputs": [
    {
     "data": {
      "text/plain": [
       "<seaborn.axisgrid.FacetGrid at 0x1f445055250>"
      ]
     },
     "execution_count": 119,
     "metadata": {},
     "output_type": "execute_result"
    },
    {
     "data": {
      "image/png": "[encoded data removed]",
      "text/plain": [
       "<Figure size 360x360 with 1 Axes>"
      ]
     },
     "metadata": {
      "needs_background": "light"
     },
     "output_type": "display_data"
    }
   ],
   "source": [
    "sns.displot(vlr['ACS'])"
   ]
  },
  {
   "cell_type": "code",
   "execution_count": 67,
   "metadata": {},
   "outputs": [
    {
     "data": {
      "text/plain": [
       "<AxesSubplot:ylabel='KD'>"
      ]
     },
     "execution_count": 67,
     "metadata": {},
     "output_type": "execute_result"
    },
    {
     "data": {
      "image/png": "[encoded data removed]",
      "text/plain": [
       "<Figure size 432x288 with 1 Axes>"
      ]
     },
     "metadata": {
      "needs_background": "light"
     },
     "output_type": "display_data"
    }
   ],
   "source": [
    "sns.boxplot(y = vlr['KD'])"
   ]
  },
  {
   "cell_type": "markdown",
   "metadata": {},
   "source": [
    "### Bivariate Analysis"
   ]
  },
  {
   "cell_type": "code",
   "execution_count": 47,
   "metadata": {},
   "outputs": [
    {
     "data": {
      "text/plain": [
       "Player\n",
       "Keiti        1.723404\n",
       "Shalaby      1.653061\n",
       "ScreaM       1.627119\n",
       "cNed         1.623262\n",
       "Seoldam      1.622490\n",
       "sheydos      1.605159\n",
       "taLenT7      1.589189\n",
       "ZmjjKK       1.531722\n",
       "BEAST        1.529231\n",
       "popogachi    1.516529\n",
       "Name: KD, dtype: float64"
      ]
     },
     "execution_count": 47,
     "metadata": {},
     "output_type": "execute_result"
    }
   ],
   "source": [
    "# Top 10 players with highest KD (min rounds = 300)\n",
    "vlrmax = vlr.loc[vlr['Rounds'] >= 300]\n",
    "\n",
    "vlrmax.groupby(by ='Player')['KD'].mean().sort_values(ascending = False)[0:10]"
   ]
  },
  {
   "cell_type": "code",
   "execution_count": 50,
   "metadata": {},
   "outputs": [
    {
     "data": {
      "text/plain": [
       "Player\n",
       "b0ssy         1586.0\n",
       "zekken        1568.0\n",
       "Winsum        1475.0\n",
       "DENYA         1427.0\n",
       "RetrQ         1400.0\n",
       "wronski       1330.0\n",
       "cNed          1284.0\n",
       "Stronglegs    1276.0\n",
       "f0rsakeN      1269.0\n",
       "Menace        1266.0\n",
       "Name: Kills, dtype: float64"
      ]
     },
     "execution_count": 50,
     "metadata": {},
     "output_type": "execute_result"
    }
   ],
   "source": [
    "# Top Players with Highest Kills (min rounds = 300)\n",
    "vlrmax.groupby(by ='Player')['Kills'].mean().sort_values(ascending = False)[0:10]"
   ]
  },
  {
   "cell_type": "code",
   "execution_count": 75,
   "metadata": {},
   "outputs": [
    {
     "data": {
      "image/png": "[encoded data removed]",
      "text/plain": [
       "<Figure size 432x288 with 1 Axes>"
      ]
     },
     "metadata": {
      "needs_background": "light"
     },
     "output_type": "display_data"
    }
   ],
   "source": [
    "# Jett Players Vs Raze Players\n",
    "\n",
    "vlrjr = vlr.loc[vlr['Agent'].isin(['jett','raze'])]\n",
    "\n",
    "plt.xlim(0.55,2.00)\n",
    "sns.boxplot(x = vlrjr['Agent'], y = vlrjr['KD'])\n",
    "plt.show()"
   ]
  },
  {
   "cell_type": "code",
   "execution_count": 89,
   "metadata": {},
   "outputs": [
    {
     "data": {
      "text/plain": [
       "<AxesSubplot:xlabel='Agent', ylabel='ACS'>"
      ]
     },
     "execution_count": 89,
     "metadata": {},
     "output_type": "execute_result"
    },
    {
     "data": {
      "image/png": "[encoded data removed]",
      "text/plain": [
       "<Figure size 432x288 with 1 Axes>"
      ]
     },
     "metadata": {
      "needs_background": "light"
     },
     "output_type": "display_data"
    }
   ],
   "source": [
    "# Jett vs Raze ACS Comparison\n",
    "plt.ylim(50*2,20*20)\n",
    "sns.boxplot(x = vlrjr['Agent'], y = vlrjr['ACS'])"
   ]
  },
  {
   "cell_type": "code",
   "execution_count": 99,
   "metadata": {},
   "outputs": [],
   "source": [
    "# Reyna Vs Omen\n",
    "\n",
    "vlrro = vlr.loc[vlr['Agent'].isin(['reyna','omen'])]"
   ]
  },
  {
   "cell_type": "code",
   "execution_count": 100,
   "metadata": {},
   "outputs": [
    {
     "data": {
      "image/png": "[encoded data removed]",
      "text/plain": [
       "<Figure size 432x288 with 1 Axes>"
      ]
     },
     "metadata": {
      "needs_background": "light"
     },
     "output_type": "display_data"
    }
   ],
   "source": [
    "# Reyna Vs Omen KD compare\n",
    "\n",
    "plt.xlim(0.55,2.00)\n",
    "sns.boxplot(x = vlrro['Agent'], y = vlrro['KD'])\n",
    "plt.show()"
   ]
  },
  {
   "cell_type": "code",
   "execution_count": 101,
   "metadata": {},
   "outputs": [
    {
     "data": {
      "text/plain": [
       "<AxesSubplot:xlabel='Agent', ylabel='ACS'>"
      ]
     },
     "execution_count": 101,
     "metadata": {},
     "output_type": "execute_result"
    },
    {
     "data": {
      "image/png": "[encoded data removed]",
      "text/plain": [
       "<Figure size 432x288 with 1 Axes>"
      ]
     },
     "metadata": {
      "needs_background": "light"
     },
     "output_type": "display_data"
    }
   ],
   "source": [
    "# Reyna Vs Omen ACS compare\n",
    "\n",
    "plt.ylim(50*2,20*20)\n",
    "sns.boxplot(x = vlrro['Agent'], y = vlrro['ACS'])"
   ]
  },
  {
   "cell_type": "code",
   "execution_count": 103,
   "metadata": {},
   "outputs": [
    {
     "data": {
      "text/plain": [
       "<AxesSubplot:xlabel='Agent', ylabel='Kills'>"
      ]
     },
     "execution_count": 103,
     "metadata": {},
     "output_type": "execute_result"
    },
    {
     "data": {
      "image/png": "[encoded data removed]",
      "text/plain": [
       "<Figure size 432x288 with 1 Axes>"
      ]
     },
     "metadata": {
      "needs_background": "light"
     },
     "output_type": "display_data"
    }
   ],
   "source": [
    "# Reyna Vs Omen Kills comparison\n",
    "\n",
    "sns.boxplot(x = vlrro['Agent'], y = vlrro['Kills'])"
   ]
  },
  {
   "cell_type": "code",
   "execution_count": 104,
   "metadata": {},
   "outputs": [
    {
     "data": {
      "text/plain": [
       "<AxesSubplot:xlabel='Kills', ylabel='ACS'>"
      ]
     },
     "execution_count": 104,
     "metadata": {},
     "output_type": "execute_result"
    },
    {
     "data": {
      "image/png": "[encoded data removed]",
      "text/plain": [
       "<Figure size 432x288 with 1 Axes>"
      ]
     },
     "metadata": {
      "needs_background": "light"
     },
     "output_type": "display_data"
    }
   ],
   "source": [
    "# Kills Vs ACS correlation\n",
    "\n",
    "sns.scatterplot(x = vlr['Kills'], y = vlr['ACS'])"
   ]
  },
  {
   "cell_type": "code",
   "execution_count": 105,
   "metadata": {},
   "outputs": [
    {
     "data": {
      "text/plain": [
       "0.3665005529206907"
      ]
     },
     "execution_count": 105,
     "metadata": {},
     "output_type": "execute_result"
    }
   ],
   "source": [
    "vlr['Kills'].corr(vlr['ACS'])"
   ]
  },
  {
   "cell_type": "markdown",
   "metadata": {},
   "source": [
    "Kills and ACS are said to be not Corelated"
   ]
  },
  {
   "cell_type": "code",
   "execution_count": 107,
   "metadata": {},
   "outputs": [
    {
     "data": {
      "text/plain": [
       "<AxesSubplot:xlabel='Rounds', ylabel='Kills'>"
      ]
     },
     "execution_count": 107,
     "metadata": {},
     "output_type": "execute_result"
    },
    {
     "data": {
      "image/png": "[encoded data removed]",
      "text/plain": [
       "<Figure size 432x288 with 1 Axes>"
      ]
     },
     "metadata": {
      "needs_background": "light"
     },
     "output_type": "display_data"
    }
   ],
   "source": [
    "# Kills Vs Rounds correlation\n",
    "\n",
    "sns.scatterplot(x = vlr['Rounds'], y = vlr['Kills'])"
   ]
  },
  {
   "cell_type": "code",
   "execution_count": 108,
   "metadata": {},
   "outputs": [
    {
     "data": {
      "text/plain": [
       "0.9558945629929643"
      ]
     },
     "execution_count": 108,
     "metadata": {},
     "output_type": "execute_result"
    }
   ],
   "source": [
    "vlr['Rounds'].corr(vlr['Kills'])"
   ]
  },
  {
   "cell_type": "markdown",
   "metadata": {},
   "source": [
    "From above Graph, we can say Rounds and Kills are highly correlated"
   ]
  },
  {
   "cell_type": "code",
   "execution_count": null,
   "metadata": {},
   "outputs": [],
   "source": []
  }
 ],
 "metadata": {
  "kernelspec": {
   "display_name": "Python 3",
   "language": "python",
   "name": "python3"
  },
  "language_info": {
   "codemirror_mode": {
    "name": "ipython",
    "version": 3
   },
   "file_extension": ".py",
   "mimetype": "text/x-python",
   "name": "python",
   "nbconvert_exporter": "python",
   "pygments_lexer": "ipython3",
   "version": "3.8.5"
  }
 },
 "nbformat": 4,
 "nbformat_minor": 4
}
