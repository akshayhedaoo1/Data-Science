{
 "cells": [
  {
   "cell_type": "code",
   "execution_count": 1,
   "metadata": {
    "executionInfo": {
     "elapsed": 2452,
     "status": "ok",
     "timestamp": 1635303987566,
     "user": {
      "displayName": "Rishav Das",
      "photoUrl": "https://lh3.googleusercontent.com/a-/AOh14GhkdaCMvA2ffaGPZMfcs0EkFFXTsKiwTyLisksJPto=s64",
      "userId": "09499082006741547774"
     },
     "user_tz": -330
    },
    "id": "hASGaXUosjZD"
   },
   "outputs": [],
   "source": [
    "import tensorflow as tf\n",
    "import numpy as np \n",
    "import pandas as pd \n",
    "import matplotlib.pyplot as plt \n",
    "import random \n",
    "from keras.datasets import mnist\n",
    "from tensorflow.keras.models import Model \n",
    "from tensorflow.keras.layers import Input, Flatten, Dense, Dropout, Lambda\n",
    "from tensorflow.keras.layers import Conv2D, MaxPooling2D, AveragePooling2D, Activation \n",
    "from keras import backend as k \n"
   ]
  },
  {
   "cell_type": "code",
   "execution_count": 12,
   "metadata": {
    "executionInfo": {
     "elapsed": 476,
     "status": "ok",
     "timestamp": 1635306931231,
     "user": {
      "displayName": "Rishav Das",
      "photoUrl": "https://lh3.googleusercontent.com/a-/AOh14GhkdaCMvA2ffaGPZMfcs0EkFFXTsKiwTyLisksJPto=s64",
      "userId": "09499082006741547774"
     },
     "user_tz": -330
    },
    "id": "FKFEtJj9tsho"
   },
   "outputs": [],
   "source": [
    "num_classes= 10 \n",
    "def euclid_dist(vects):\n",
    "    x, y = vects\n",
    "    sum_square = k.sum(k.square(x-y), axis=1, keepdims=True)\n",
    "    return k.sqrt(k.maximum(sum_square, k.epsilon()))\n",
    "\n",
    "def eucl_dist_output(shapes):\n",
    "    shape1, shape2 = shapes\n",
    "    return(shape1[0], 1)"
   ]
  },
  {
   "cell_type": "code",
   "execution_count": 2,
   "metadata": {
    "executionInfo": {
     "elapsed": 488,
     "status": "ok",
     "timestamp": 1635307250212,
     "user": {
      "displayName": "Rishav Das",
      "photoUrl": "https://lh3.googleusercontent.com/a-/AOh14GhkdaCMvA2ffaGPZMfcs0EkFFXTsKiwTyLisksJPto=s64",
      "userId": "09499082006741547774"
     },
     "user_tz": -330
    },
    "id": "xRUIoEOQtskg"
   },
   "outputs": [],
   "source": [
    "#contrastive loss =  y * D2 + (1-y) * max(margin - D, 0)2\n",
    "def contrastrive_loss(y_true, y_pred):\n",
    "    y_true = tf.dtypes.cast(y_true, tf.float64)\n",
    "    y_pred = tf.dtypes.cast(y_pred, tf.float64)\n",
    "    margin = 1\n",
    "    sqaure_pred = k.square(y_pred)\n",
    "    margin_square = k.square(k.maximum(margin - y_pred, 0))\n",
    "    return k.mean(y_true * sqaure_pred + (1 - y_true) * margin_square)"
   ]
  },
  {
   "cell_type": "code",
   "execution_count": 3,
   "metadata": {
    "executionInfo": {
     "elapsed": 473,
     "status": "ok",
     "timestamp": 1635305367958,
     "user": {
      "displayName": "Rishav Das",
      "photoUrl": "https://lh3.googleusercontent.com/a-/AOh14GhkdaCMvA2ffaGPZMfcs0EkFFXTsKiwTyLisksJPto=s64",
      "userId": "09499082006741547774"
     },
     "user_tz": -330
    },
    "id": "ThjvyhFJtsnb"
   },
   "outputs": [],
   "source": [
    "def create_pairs(x, digit_indices):\n",
    "    pairs = []\n",
    "    labels = []\n",
    "\n",
    "    n =  min([len(digit_indices[d]) for d in range(num_classes)]) - 1\n",
    "    for d in range(num_classes):\n",
    "        for i in range(n):\n",
    "            z1, z2 = digit_indices[d][i], digit_indices[d][i+1]\n",
    "            pairs += [[x[z1], x[z2]]]\n",
    "            inc = random.randrange(1, num_classes)\n",
    "            dn = (d + inc) % num_classes\n",
    "            z1, z2 = digit_indices[d][i], digit_indices[dn][i]\n",
    "            pairs += [[x[z1], x[z2]]]\n",
    "            labels += [1, 0]\n",
    "    return np.array(pairs), np.array(labels)\n",
    "  "
   ]
  },
  {
   "cell_type": "code",
   "execution_count": 4,
   "metadata": {
    "executionInfo": {
     "elapsed": 539,
     "status": "ok",
     "timestamp": 1635305913937,
     "user": {
      "displayName": "Rishav Das",
      "photoUrl": "https://lh3.googleusercontent.com/a-/AOh14GhkdaCMvA2ffaGPZMfcs0EkFFXTsKiwTyLisksJPto=s64",
      "userId": "09499082006741547774"
     },
     "user_tz": -330
    },
    "id": "g95OA0hrtsqU"
   },
   "outputs": [],
   "source": [
    "def base_net(input_shape):\n",
    "    input = Input(shape = input_shape)\n",
    "    x = Conv2D(4, (5,5), activation = 'tanh')(input)\n",
    "    x = AveragePooling2D(pool_size=(2,2))(x)\n",
    "    x = Conv2D(16, (5,5), activation = 'tanh')(x)\n",
    "    x = AveragePooling2D(pool_size=(2,2))(x)\n",
    "    x = Flatten()(x)\n",
    "    x = Dense(10, activation = 'tanh')(x)\n",
    "    model = Model(input, x)\n",
    "    model.summary()\n",
    "    return model"
   ]
  },
  {
   "cell_type": "code",
   "execution_count": 5,
   "metadata": {
    "executionInfo": {
     "elapsed": 496,
     "status": "ok",
     "timestamp": 1635307181618,
     "user": {
      "displayName": "Rishav Das",
      "photoUrl": "https://lh3.googleusercontent.com/a-/AOh14GhkdaCMvA2ffaGPZMfcs0EkFFXTsKiwTyLisksJPto=s64",
      "userId": "09499082006741547774"
     },
     "user_tz": -330
    },
    "id": "rfqjFKQltstK"
   },
   "outputs": [],
   "source": [
    "def compute_accuracy(y_true, y_pred):\n",
    "    pred = y_pred.ravel() < 0.5\n",
    "    return np.mean(pred == y_true)\n",
    "\n",
    "def accuracy(y_true, y_pred):\n",
    "    return k.mean(k.equal(y_true, k.cast(y_pred < 0.5, y_true.dtype)))"
   ]
  },
  {
   "cell_type": "code",
   "execution_count": 6,
   "metadata": {
    "colab": {
     "base_uri": "https://localhost:8080/"
    },
    "executionInfo": {
     "elapsed": 1251,
     "status": "ok",
     "timestamp": 1635306117704,
     "user": {
      "displayName": "Rishav Das",
      "photoUrl": "https://lh3.googleusercontent.com/a-/AOh14GhkdaCMvA2ffaGPZMfcs0EkFFXTsKiwTyLisksJPto=s64",
      "userId": "09499082006741547774"
     },
     "user_tz": -330
    },
    "id": "MhLtIl-WtswO",
    "outputId": "59162573-35d1-4f92-b604-82c853555692"
   },
   "outputs": [],
   "source": [
    "(X_train, Y_train), (X_test, Y_test) = mnist.load_data()"
   ]
  },
  {
   "cell_type": "code",
   "execution_count": 7,
   "metadata": {
    "colab": {
     "base_uri": "https://localhost:8080/"
    },
    "executionInfo": {
     "elapsed": 480,
     "status": "ok",
     "timestamp": 1635306379164,
     "user": {
      "displayName": "Rishav Das",
      "photoUrl": "https://lh3.googleusercontent.com/a-/AOh14GhkdaCMvA2ffaGPZMfcs0EkFFXTsKiwTyLisksJPto=s64",
      "userId": "09499082006741547774"
     },
     "user_tz": -330
    },
    "id": "lVNp9_Jptsyz",
    "outputId": "94a426dc-19d2-4fe9-e779-827f4bc34440"
   },
   "outputs": [
    {
     "name": "stdout",
     "output_type": "stream",
     "text": [
      "(60000, 28, 28, 1)\n"
     ]
    }
   ],
   "source": [
    "X_train = X_train.reshape(X_train.shape[0], 28, 28, 1)\n",
    "X_test = X_test.reshape(X_test.shape[0], 28, 28, 1)\n",
    "input_shape = (1, 28, 28)\n",
    "print(X_train.shape)\n",
    "X_train = X_train.astype('float32')\n",
    "X_test = X_test.astype('float32')\n",
    "Y_train = Y_train.astype('float32')\n",
    "Y_test = Y_test.astype('float32')\n",
    "X_train /= 255\n",
    "X_test /= 255"
   ]
  },
  {
   "cell_type": "code",
   "execution_count": 8,
   "metadata": {
    "executionInfo": {
     "elapsed": 519,
     "status": "ok",
     "timestamp": 1635306416921,
     "user": {
      "displayName": "Rishav Das",
      "photoUrl": "https://lh3.googleusercontent.com/a-/AOh14GhkdaCMvA2ffaGPZMfcs0EkFFXTsKiwTyLisksJPto=s64",
      "userId": "09499082006741547774"
     },
     "user_tz": -330
    },
    "id": "Kp1Gvp1Ets1I"
   },
   "outputs": [],
   "source": [
    "input_shape = X_train.shape[1:]"
   ]
  },
  {
   "cell_type": "code",
   "execution_count": 9,
   "metadata": {
    "colab": {
     "base_uri": "https://localhost:8080/"
    },
    "executionInfo": {
     "elapsed": 6,
     "status": "ok",
     "timestamp": 1635306427447,
     "user": {
      "displayName": "Rishav Das",
      "photoUrl": "https://lh3.googleusercontent.com/a-/AOh14GhkdaCMvA2ffaGPZMfcs0EkFFXTsKiwTyLisksJPto=s64",
      "userId": "09499082006741547774"
     },
     "user_tz": -330
    },
    "id": "fXP5NQiSts3o",
    "outputId": "7f5ba78c-1b87-4670-c754-94453970ceda"
   },
   "outputs": [
    {
     "name": "stdout",
     "output_type": "stream",
     "text": [
      "(28, 28, 1)\n"
     ]
    }
   ],
   "source": [
    "print(input_shape)"
   ]
  },
  {
   "cell_type": "code",
   "execution_count": 13,
   "metadata": {
    "executionInfo": {
     "elapsed": 1236,
     "status": "ok",
     "timestamp": 1635306535231,
     "user": {
      "displayName": "Rishav Das",
      "photoUrl": "https://lh3.googleusercontent.com/a-/AOh14GhkdaCMvA2ffaGPZMfcs0EkFFXTsKiwTyLisksJPto=s64",
      "userId": "09499082006741547774"
     },
     "user_tz": -330
    },
    "id": "Kn52AjHy2-ED"
   },
   "outputs": [],
   "source": [
    "digit_indices = [np.where(Y_train == i )[0] for i in range(num_classes)]\n",
    "tr_pairs, tr_y = create_pairs(X_train, digit_indices)"
   ]
  },
  {
   "cell_type": "code",
   "execution_count": 14,
   "metadata": {
    "executionInfo": {
     "elapsed": 510,
     "status": "ok",
     "timestamp": 1635306582042,
     "user": {
      "displayName": "Rishav Das",
      "photoUrl": "https://lh3.googleusercontent.com/a-/AOh14GhkdaCMvA2ffaGPZMfcs0EkFFXTsKiwTyLisksJPto=s64",
      "userId": "09499082006741547774"
     },
     "user_tz": -330
    },
    "id": "98Mw_UJK2-Gx"
   },
   "outputs": [],
   "source": [
    "digit_indices = [np.where(Y_test == i )[0] for i in range(num_classes)]\n",
    "te_pairs, te_y = create_pairs(X_test, digit_indices)"
   ]
  },
  {
   "cell_type": "code",
   "execution_count": 15,
   "metadata": {
    "colab": {
     "base_uri": "https://localhost:8080/"
    },
    "executionInfo": {
     "elapsed": 511,
     "status": "ok",
     "timestamp": 1635306616044,
     "user": {
      "displayName": "Rishav Das",
      "photoUrl": "https://lh3.googleusercontent.com/a-/AOh14GhkdaCMvA2ffaGPZMfcs0EkFFXTsKiwTyLisksJPto=s64",
      "userId": "09499082006741547774"
     },
     "user_tz": -330
    },
    "id": "ansm5e0h2-Js",
    "outputId": "2c869855-d208-4614-88c8-d0b4e7a285e0"
   },
   "outputs": [
    {
     "name": "stdout",
     "output_type": "stream",
     "text": [
      "Model: \"model_1\"\n",
      "_________________________________________________________________\n",
      "Layer (type)                 Output Shape              Param #   \n",
      "=================================================================\n",
      "input_2 (InputLayer)         [(None, 28, 28, 1)]       0         \n",
      "_________________________________________________________________\n",
      "conv2d_2 (Conv2D)            (None, 24, 24, 4)         104       \n",
      "_________________________________________________________________\n",
      "average_pooling2d_2 (Average (None, 12, 12, 4)         0         \n",
      "_________________________________________________________________\n",
      "conv2d_3 (Conv2D)            (None, 8, 8, 16)          1616      \n",
      "_________________________________________________________________\n",
      "average_pooling2d_3 (Average (None, 4, 4, 16)          0         \n",
      "_________________________________________________________________\n",
      "flatten_1 (Flatten)          (None, 256)               0         \n",
      "_________________________________________________________________\n",
      "dense_1 (Dense)              (None, 10)                2570      \n",
      "=================================================================\n",
      "Total params: 4,290\n",
      "Trainable params: 4,290\n",
      "Non-trainable params: 0\n",
      "_________________________________________________________________\n"
     ]
    }
   ],
   "source": [
    "base_network = base_net(input_shape)"
   ]
  },
  {
   "cell_type": "code",
   "execution_count": 16,
   "metadata": {
    "executionInfo": {
     "elapsed": 502,
     "status": "ok",
     "timestamp": 1635306935745,
     "user": {
      "displayName": "Rishav Das",
      "photoUrl": "https://lh3.googleusercontent.com/a-/AOh14GhkdaCMvA2ffaGPZMfcs0EkFFXTsKiwTyLisksJPto=s64",
      "userId": "09499082006741547774"
     },
     "user_tz": -330
    },
    "id": "RF3s2MDk2-My"
   },
   "outputs": [],
   "source": [
    "input_a = Input(shape=input_shape)\n",
    "input_b = Input(shape=input_shape)\n",
    "processed_a = base_network(input_a)\n",
    "processed_b = base_network(input_b)\n",
    "distance = Lambda(euclid_dist, output_shape =eucl_dist_output)([processed_a, processed_b])\n",
    "model =  Model([input_a, input_b], distance)"
   ]
  },
  {
   "cell_type": "code",
   "execution_count": 17,
   "metadata": {
    "colab": {
     "base_uri": "https://localhost:8080/"
    },
    "executionInfo": {
     "elapsed": 1402386,
     "status": "ok",
     "timestamp": 1635308657629,
     "user": {
      "displayName": "Rishav Das",
      "photoUrl": "https://lh3.googleusercontent.com/a-/AOh14GhkdaCMvA2ffaGPZMfcs0EkFFXTsKiwTyLisksJPto=s64",
      "userId": "09499082006741547774"
     },
     "user_tz": -330
    },
    "id": "ZllnsLJ32-PT",
    "outputId": "c4ccca78-3543-4769-905d-6078f6129ba7"
   },
   "outputs": [
    {
     "name": "stdout",
     "output_type": "stream",
     "text": [
      "Epoch 1/20\n",
      "847/847 [==============================] - 60s 65ms/step - loss: 0.1170 - accuracy: 0.8637 - val_loss: 0.0800 - val_accuracy: 0.9257\n",
      "Epoch 2/20\n",
      "847/847 [==============================] - 56s 66ms/step - loss: 0.0755 - accuracy: 0.9331 - val_loss: 0.0611 - val_accuracy: 0.9504\n",
      "Epoch 3/20\n",
      "847/847 [==============================] - 55s 65ms/step - loss: 0.0620 - accuracy: 0.9504 - val_loss: 0.0527 - val_accuracy: 0.9602\n",
      "Epoch 4/20\n",
      "847/847 [==============================] - 62s 73ms/step - loss: 0.0553 - accuracy: 0.9580 - val_loss: 0.0507 - val_accuracy: 0.9632\n",
      "Epoch 5/20\n",
      "847/847 [==============================] - 65s 77ms/step - loss: 0.0511 - accuracy: 0.9626 - val_loss: 0.0459 - val_accuracy: 0.9666\n",
      "Epoch 6/20\n",
      "847/847 [==============================] - 59s 70ms/step - loss: 0.0481 - accuracy: 0.9658 - val_loss: 0.0440 - val_accuracy: 0.9677\n",
      "Epoch 7/20\n",
      "847/847 [==============================] - 62s 73ms/step - loss: 0.0460 - accuracy: 0.9683 - val_loss: 0.0426 - val_accuracy: 0.9685\n",
      "Epoch 8/20\n",
      "847/847 [==============================] - 64s 76ms/step - loss: 0.0444 - accuracy: 0.9696 - val_loss: 0.0415 - val_accuracy: 0.9720\n",
      "Epoch 9/20\n",
      "847/847 [==============================] - 65s 77ms/step - loss: 0.0433 - accuracy: 0.9704 - val_loss: 0.0418 - val_accuracy: 0.9723\n",
      "Epoch 10/20\n",
      "847/847 [==============================] - 63s 74ms/step - loss: 0.0421 - accuracy: 0.9712 - val_loss: 0.0391 - val_accuracy: 0.9751\n",
      "Epoch 11/20\n",
      "847/847 [==============================] - 67s 79ms/step - loss: 0.0412 - accuracy: 0.9724 - val_loss: 0.0398 - val_accuracy: 0.9720\n",
      "Epoch 12/20\n",
      "847/847 [==============================] - 67s 79ms/step - loss: 0.0407 - accuracy: 0.9732 - val_loss: 0.0382 - val_accuracy: 0.9742\n",
      "Epoch 13/20\n",
      "847/847 [==============================] - 64s 75ms/step - loss: 0.0398 - accuracy: 0.9734 - val_loss: 0.0393 - val_accuracy: 0.9752\n",
      "Epoch 14/20\n",
      "847/847 [==============================] - 60s 70ms/step - loss: 0.0393 - accuracy: 0.9736 - val_loss: 0.0385 - val_accuracy: 0.9711\n",
      "Epoch 15/20\n",
      "847/847 [==============================] - 55s 65ms/step - loss: 0.0386 - accuracy: 0.9746 - val_loss: 0.0382 - val_accuracy: 0.9743\n",
      "Epoch 16/20\n",
      "847/847 [==============================] - 56s 66ms/step - loss: 0.0384 - accuracy: 0.9747 - val_loss: 0.0373 - val_accuracy: 0.9762\n",
      "Epoch 17/20\n",
      "847/847 [==============================] - 59s 69ms/step - loss: 0.0380 - accuracy: 0.9754 - val_loss: 0.0374 - val_accuracy: 0.9777\n",
      "Epoch 18/20\n",
      "847/847 [==============================] - 67s 80ms/step - loss: 0.0374 - accuracy: 0.9753 - val_loss: 0.0363 - val_accuracy: 0.9776\n",
      "Epoch 19/20\n",
      "847/847 [==============================] - 64s 76ms/step - loss: 0.0371 - accuracy: 0.9758 - val_loss: 0.0363 - val_accuracy: 0.9750\n",
      "Epoch 20/20\n",
      "847/847 [==============================] - 69s 82ms/step - loss: 0.0368 - accuracy: 0.9760 - val_loss: 0.0361 - val_accuracy: 0.9769\n"
     ]
    },
    {
     "data": {
      "text/plain": [
       "<keras.callbacks.History at 0x23b5c84b160>"
      ]
     },
     "execution_count": 17,
     "metadata": {},
     "output_type": "execute_result"
    }
   ],
   "source": [
    "model.compile(loss= contrastrive_loss, optimizer='adam', metrics = [accuracy])\n",
    "model.fit([tr_pairs[:, 0], tr_pairs[:, 1]], tr_y, batch_size=128, epochs=20, validation_data=([te_pairs[:,0], te_pairs[:, 1]], te_y))"
   ]
  },
  {
   "cell_type": "code",
   "execution_count": 18,
   "metadata": {
    "colab": {
     "base_uri": "https://localhost:8080/"
    },
    "executionInfo": {
     "elapsed": 46489,
     "status": "ok",
     "timestamp": 1635308951701,
     "user": {
      "displayName": "Rishav Das",
      "photoUrl": "https://lh3.googleusercontent.com/a-/AOh14GhkdaCMvA2ffaGPZMfcs0EkFFXTsKiwTyLisksJPto=s64",
      "userId": "09499082006741547774"
     },
     "user_tz": -330
    },
    "id": "6ViHDRaB2-R9",
    "outputId": "e06704a1-f93f-4590-c07e-fa6c27533a2c"
   },
   "outputs": [
    {
     "name": "stdout",
     "output_type": "stream",
     "text": [
      "Accuracy on training Dataset 97.86623616236162\n",
      "Accuracy on testing Dataset 97.67676767676767\n"
     ]
    }
   ],
   "source": [
    "y_pred = model.predict([tr_pairs[:,0], tr_pairs[:, 1]])\n",
    "tr_acc = compute_accuracy(tr_y, y_pred)\n",
    "y_pred = model.predict([te_pairs[:,0], te_pairs[:, 1]])\n",
    "te_acc = compute_accuracy(te_y, y_pred)\n",
    "print(\"Accuracy on training Dataset\", (100 * tr_acc))\n",
    "print(\"Accuracy on testing Dataset\", (100 * te_acc))"
   ]
  },
  {
   "cell_type": "code",
   "execution_count": 19,
   "metadata": {
    "colab": {
     "base_uri": "https://localhost:8080/",
     "height": 681
    },
    "executionInfo": {
     "elapsed": 1811,
     "status": "ok",
     "timestamp": 1635309223598,
     "user": {
      "displayName": "Rishav Das",
      "photoUrl": "https://lh3.googleusercontent.com/a-/AOh14GhkdaCMvA2ffaGPZMfcs0EkFFXTsKiwTyLisksJPto=s64",
      "userId": "09499082006741547774"
     },
     "user_tz": -330
    },
    "id": "zaTGduzM2-Ul",
    "outputId": "8816a784-5e24-4da2-b531-bb5cea1bc9c3"
   },
   "outputs": [
    {
     "data": {
      "image/png": "[encoded data removed]",
      "text/plain": [
       "<Figure size 1440x720 with 15 Axes>"
      ]
     },
     "metadata": {
      "needs_background": "light"
     },
     "output_type": "display_data"
    },
    {
     "data": {
      "image/png": "[encoded data removed]",
      "text/plain": [
       "<Figure size 1440x720 with 15 Axes>"
      ]
     },
     "metadata": {
      "needs_background": "light"
     },
     "output_type": "display_data"
    },
    {
     "name": "stdout",
     "output_type": "stream",
     "text": [
      "[0.08425854]\n",
      "similar\n",
      "[1.0874494]\n",
      "Disimilar\n",
      "[0.06685951]\n",
      "similar\n",
      "[1.2177998]\n",
      "Disimilar\n",
      "[0.12766184]\n",
      "similar\n",
      "[1.3127824]\n",
      "Disimilar\n",
      "[0.2287441]\n",
      "similar\n",
      "[1.0556026]\n",
      "Disimilar\n",
      "[0.20183459]\n",
      "similar\n",
      "[1.1794101]\n",
      "Disimilar\n",
      "[0.09139365]\n",
      "similar\n",
      "[1.4104253]\n",
      "Disimilar\n",
      "[0.18450776]\n",
      "similar\n",
      "[1.3353558]\n",
      "Disimilar\n",
      "[0.09869737]\n",
      "similar\n"
     ]
    }
   ],
   "source": [
    "import matplotlib.pyplot as plt \n",
    "from PIL import Image \n",
    "num_of_item = 15\n",
    "im = tf.keras.preprocessing.image.array_to_img(tr_pairs[1, 0], data_format = None, scale=True, dtype=None)\n",
    "plt.figure(figsize=(20, 10))\n",
    "for item in range(num_of_item):\n",
    "    display = plt.subplot(1, num_of_item, item+1)\n",
    "    im = tf.keras.preprocessing.image.array_to_img(tr_pairs[item, 0], data_format = None, scale=True, dtype=None)\n",
    "    plt.imshow(im, cmap='gray')\n",
    "    display.get_xaxis().set_visible(False)\n",
    "    display.get_yaxis().set_visible(False)\n",
    "plt.show()\n",
    "plt.figure(figsize=(20, 10))\n",
    "for item in range(num_of_item):\n",
    "    display = plt.subplot(1, num_of_item, item+1)\n",
    "    im = tf.keras.preprocessing.image.array_to_img(tr_pairs[item, 1], data_format = None, scale=True, dtype=None)\n",
    "    plt.imshow(im, cmap='gray')\n",
    "    display.get_xaxis().set_visible(False)\n",
    "    display.get_yaxis().set_visible(False)\n",
    "plt.show()\n",
    "for i in range(num_of_item):\n",
    "    print(y_pred[i])\n",
    "    print( 'similar' if np.round(y_pred[i]) == 0 else 'Disimilar')"
   ]
  }
 ],
 "metadata": {
  "colab": {
   "authorship_tag": "ABX9TyN1eATYas2erV8ErlPmxuWu",
   "collapsed_sections": [],
   "name": "siamese_network.ipynb",
   "provenance": []
  },
  "kernelspec": {
   "display_name": "Python 3",
   "language": "python",
   "name": "python3"
  },
  "language_info": {
   "codemirror_mode": {
    "name": "ipython",
    "version": 3
   },
   "file_extension": ".py",
   "mimetype": "text/x-python",
   "name": "python",
   "nbconvert_exporter": "python",
   "pygments_lexer": "ipython3",
   "version": "3.8.5"
  }
 },
 "nbformat": 4,
 "nbformat_minor": 1
}
